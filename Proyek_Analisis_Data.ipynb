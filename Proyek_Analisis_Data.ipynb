{
  "cells": [
    {
      "cell_type": "markdown",
      "metadata": {
        "id": "H9wADwK78DCz"
      },
      "source": [
        "# Proyek Analisis Data: [Bike Sharing Dataset]\n",
        "- **Nama:** Richelle Vania Thionanda\n",
        "- **Email:** mc172d5x1392@student.devacademy.id\n",
        "- **ID Dicoding:** MC172D5X1392"
      ]
    },
    {
      "cell_type": "markdown",
      "metadata": {
        "id": "eE0raob58DC0"
      },
      "source": [
        "## Menentukan Pertanyaan Bisnis"
      ]
    },
    {
      "cell_type": "markdown",
      "metadata": {
        "id": "GmQeQ5YF8DC0"
      },
      "source": [
        "####  Membuat Prediksi\n",
        "- Bagaimana pengaruh cuaca terhadap jumlah penyewa sepeda, pada hari kerja dan hari libur?\n",
        " \n",
        "#### Menemukan pola\n",
        "- Bagaimana tren penyewaan sepeda setiap bulan?"
      ]
    },
    {
      "cell_type": "markdown",
      "metadata": {
        "id": "H-z4QGlO8DC1"
      },
      "source": [
        "## Import Semua Packages/Library yang Digunakan"
      ]
    },
    {
      "cell_type": "code",
      "execution_count": 41,
      "metadata": {
        "id": "FVYwaObI8DC1"
      },
      "outputs": [],
      "source": [
        "import numpy as np\n",
        "import pandas as pd\n",
        "import matplotlib.pyplot as plt\n",
        "import seaborn as sns"
      ]
    },
    {
      "cell_type": "markdown",
      "metadata": {
        "id": "h_Sh51Xy8DC1"
      },
      "source": [
        "## Data Wrangling"
      ]
    },
    {
      "cell_type": "markdown",
      "metadata": {
        "id": "sXU2GBYu8DC1"
      },
      "source": [
        "### Gathering Data"
      ]
    },
    {
      "cell_type": "code",
      "execution_count": 42,
      "metadata": {
        "id": "zjCBk1BI8DC1"
      },
      "outputs": [
        {
          "data": {
            "text/html": [
              "<div>\n",
              "<style scoped>\n",
              "    .dataframe tbody tr th:only-of-type {\n",
              "        vertical-align: middle;\n",
              "    }\n",
              "\n",
              "    .dataframe tbody tr th {\n",
              "        vertical-align: top;\n",
              "    }\n",
              "\n",
              "    .dataframe thead th {\n",
              "        text-align: right;\n",
              "    }\n",
              "</style>\n",
              "<table border=\"1\" class=\"dataframe\">\n",
              "  <thead>\n",
              "    <tr style=\"text-align: right;\">\n",
              "      <th></th>\n",
              "      <th>instant</th>\n",
              "      <th>dteday</th>\n",
              "      <th>season</th>\n",
              "      <th>yr</th>\n",
              "      <th>mnth</th>\n",
              "      <th>holiday</th>\n",
              "      <th>weekday</th>\n",
              "      <th>workingday</th>\n",
              "      <th>weathersit</th>\n",
              "      <th>temp</th>\n",
              "      <th>atemp</th>\n",
              "      <th>hum</th>\n",
              "      <th>windspeed</th>\n",
              "      <th>casual</th>\n",
              "      <th>registered</th>\n",
              "      <th>cnt</th>\n",
              "    </tr>\n",
              "  </thead>\n",
              "  <tbody>\n",
              "    <tr>\n",
              "      <th>0</th>\n",
              "      <td>1</td>\n",
              "      <td>2011-01-01</td>\n",
              "      <td>1</td>\n",
              "      <td>0</td>\n",
              "      <td>1</td>\n",
              "      <td>0</td>\n",
              "      <td>6</td>\n",
              "      <td>0</td>\n",
              "      <td>2</td>\n",
              "      <td>0.344167</td>\n",
              "      <td>0.363625</td>\n",
              "      <td>0.805833</td>\n",
              "      <td>0.160446</td>\n",
              "      <td>331</td>\n",
              "      <td>654</td>\n",
              "      <td>985</td>\n",
              "    </tr>\n",
              "    <tr>\n",
              "      <th>1</th>\n",
              "      <td>2</td>\n",
              "      <td>2011-01-02</td>\n",
              "      <td>1</td>\n",
              "      <td>0</td>\n",
              "      <td>1</td>\n",
              "      <td>0</td>\n",
              "      <td>0</td>\n",
              "      <td>0</td>\n",
              "      <td>2</td>\n",
              "      <td>0.363478</td>\n",
              "      <td>0.353739</td>\n",
              "      <td>0.696087</td>\n",
              "      <td>0.248539</td>\n",
              "      <td>131</td>\n",
              "      <td>670</td>\n",
              "      <td>801</td>\n",
              "    </tr>\n",
              "    <tr>\n",
              "      <th>2</th>\n",
              "      <td>3</td>\n",
              "      <td>2011-01-03</td>\n",
              "      <td>1</td>\n",
              "      <td>0</td>\n",
              "      <td>1</td>\n",
              "      <td>0</td>\n",
              "      <td>1</td>\n",
              "      <td>1</td>\n",
              "      <td>1</td>\n",
              "      <td>0.196364</td>\n",
              "      <td>0.189405</td>\n",
              "      <td>0.437273</td>\n",
              "      <td>0.248309</td>\n",
              "      <td>120</td>\n",
              "      <td>1229</td>\n",
              "      <td>1349</td>\n",
              "    </tr>\n",
              "    <tr>\n",
              "      <th>3</th>\n",
              "      <td>4</td>\n",
              "      <td>2011-01-04</td>\n",
              "      <td>1</td>\n",
              "      <td>0</td>\n",
              "      <td>1</td>\n",
              "      <td>0</td>\n",
              "      <td>2</td>\n",
              "      <td>1</td>\n",
              "      <td>1</td>\n",
              "      <td>0.200000</td>\n",
              "      <td>0.212122</td>\n",
              "      <td>0.590435</td>\n",
              "      <td>0.160296</td>\n",
              "      <td>108</td>\n",
              "      <td>1454</td>\n",
              "      <td>1562</td>\n",
              "    </tr>\n",
              "    <tr>\n",
              "      <th>4</th>\n",
              "      <td>5</td>\n",
              "      <td>2011-01-05</td>\n",
              "      <td>1</td>\n",
              "      <td>0</td>\n",
              "      <td>1</td>\n",
              "      <td>0</td>\n",
              "      <td>3</td>\n",
              "      <td>1</td>\n",
              "      <td>1</td>\n",
              "      <td>0.226957</td>\n",
              "      <td>0.229270</td>\n",
              "      <td>0.436957</td>\n",
              "      <td>0.186900</td>\n",
              "      <td>82</td>\n",
              "      <td>1518</td>\n",
              "      <td>1600</td>\n",
              "    </tr>\n",
              "  </tbody>\n",
              "</table>\n",
              "</div>"
            ],
            "text/plain": [
              "   instant      dteday  season  yr  mnth  holiday  weekday  workingday  \\\n",
              "0        1  2011-01-01       1   0     1        0        6           0   \n",
              "1        2  2011-01-02       1   0     1        0        0           0   \n",
              "2        3  2011-01-03       1   0     1        0        1           1   \n",
              "3        4  2011-01-04       1   0     1        0        2           1   \n",
              "4        5  2011-01-05       1   0     1        0        3           1   \n",
              "\n",
              "   weathersit      temp     atemp       hum  windspeed  casual  registered  \\\n",
              "0           2  0.344167  0.363625  0.805833   0.160446     331         654   \n",
              "1           2  0.363478  0.353739  0.696087   0.248539     131         670   \n",
              "2           1  0.196364  0.189405  0.437273   0.248309     120        1229   \n",
              "3           1  0.200000  0.212122  0.590435   0.160296     108        1454   \n",
              "4           1  0.226957  0.229270  0.436957   0.186900      82        1518   \n",
              "\n",
              "    cnt  \n",
              "0   985  \n",
              "1   801  \n",
              "2  1349  \n",
              "3  1562  \n",
              "4  1600  "
            ]
          },
          "execution_count": 42,
          "metadata": {},
          "output_type": "execute_result"
        }
      ],
      "source": [
        "#Membuat tabel day\n",
        "day_df = pd.read_csv(r\"C:\\Submission\\Data\\day.csv\")\n",
        "day_df.head()"
      ]
    },
    {
      "cell_type": "code",
      "execution_count": 43,
      "metadata": {},
      "outputs": [
        {
          "data": {
            "text/html": [
              "<div>\n",
              "<style scoped>\n",
              "    .dataframe tbody tr th:only-of-type {\n",
              "        vertical-align: middle;\n",
              "    }\n",
              "\n",
              "    .dataframe tbody tr th {\n",
              "        vertical-align: top;\n",
              "    }\n",
              "\n",
              "    .dataframe thead th {\n",
              "        text-align: right;\n",
              "    }\n",
              "</style>\n",
              "<table border=\"1\" class=\"dataframe\">\n",
              "  <thead>\n",
              "    <tr style=\"text-align: right;\">\n",
              "      <th></th>\n",
              "      <th>instant</th>\n",
              "      <th>dteday</th>\n",
              "      <th>season</th>\n",
              "      <th>yr</th>\n",
              "      <th>mnth</th>\n",
              "      <th>hr</th>\n",
              "      <th>holiday</th>\n",
              "      <th>weekday</th>\n",
              "      <th>workingday</th>\n",
              "      <th>weathersit</th>\n",
              "      <th>temp</th>\n",
              "      <th>atemp</th>\n",
              "      <th>hum</th>\n",
              "      <th>windspeed</th>\n",
              "      <th>casual</th>\n",
              "      <th>registered</th>\n",
              "      <th>cnt</th>\n",
              "    </tr>\n",
              "  </thead>\n",
              "  <tbody>\n",
              "    <tr>\n",
              "      <th>0</th>\n",
              "      <td>1</td>\n",
              "      <td>2011-01-01</td>\n",
              "      <td>1</td>\n",
              "      <td>0</td>\n",
              "      <td>1</td>\n",
              "      <td>0</td>\n",
              "      <td>0</td>\n",
              "      <td>6</td>\n",
              "      <td>0</td>\n",
              "      <td>1</td>\n",
              "      <td>0.24</td>\n",
              "      <td>0.2879</td>\n",
              "      <td>0.81</td>\n",
              "      <td>0.0</td>\n",
              "      <td>3</td>\n",
              "      <td>13</td>\n",
              "      <td>16</td>\n",
              "    </tr>\n",
              "    <tr>\n",
              "      <th>1</th>\n",
              "      <td>2</td>\n",
              "      <td>2011-01-01</td>\n",
              "      <td>1</td>\n",
              "      <td>0</td>\n",
              "      <td>1</td>\n",
              "      <td>1</td>\n",
              "      <td>0</td>\n",
              "      <td>6</td>\n",
              "      <td>0</td>\n",
              "      <td>1</td>\n",
              "      <td>0.22</td>\n",
              "      <td>0.2727</td>\n",
              "      <td>0.80</td>\n",
              "      <td>0.0</td>\n",
              "      <td>8</td>\n",
              "      <td>32</td>\n",
              "      <td>40</td>\n",
              "    </tr>\n",
              "    <tr>\n",
              "      <th>2</th>\n",
              "      <td>3</td>\n",
              "      <td>2011-01-01</td>\n",
              "      <td>1</td>\n",
              "      <td>0</td>\n",
              "      <td>1</td>\n",
              "      <td>2</td>\n",
              "      <td>0</td>\n",
              "      <td>6</td>\n",
              "      <td>0</td>\n",
              "      <td>1</td>\n",
              "      <td>0.22</td>\n",
              "      <td>0.2727</td>\n",
              "      <td>0.80</td>\n",
              "      <td>0.0</td>\n",
              "      <td>5</td>\n",
              "      <td>27</td>\n",
              "      <td>32</td>\n",
              "    </tr>\n",
              "    <tr>\n",
              "      <th>3</th>\n",
              "      <td>4</td>\n",
              "      <td>2011-01-01</td>\n",
              "      <td>1</td>\n",
              "      <td>0</td>\n",
              "      <td>1</td>\n",
              "      <td>3</td>\n",
              "      <td>0</td>\n",
              "      <td>6</td>\n",
              "      <td>0</td>\n",
              "      <td>1</td>\n",
              "      <td>0.24</td>\n",
              "      <td>0.2879</td>\n",
              "      <td>0.75</td>\n",
              "      <td>0.0</td>\n",
              "      <td>3</td>\n",
              "      <td>10</td>\n",
              "      <td>13</td>\n",
              "    </tr>\n",
              "    <tr>\n",
              "      <th>4</th>\n",
              "      <td>5</td>\n",
              "      <td>2011-01-01</td>\n",
              "      <td>1</td>\n",
              "      <td>0</td>\n",
              "      <td>1</td>\n",
              "      <td>4</td>\n",
              "      <td>0</td>\n",
              "      <td>6</td>\n",
              "      <td>0</td>\n",
              "      <td>1</td>\n",
              "      <td>0.24</td>\n",
              "      <td>0.2879</td>\n",
              "      <td>0.75</td>\n",
              "      <td>0.0</td>\n",
              "      <td>0</td>\n",
              "      <td>1</td>\n",
              "      <td>1</td>\n",
              "    </tr>\n",
              "  </tbody>\n",
              "</table>\n",
              "</div>"
            ],
            "text/plain": [
              "   instant      dteday  season  yr  mnth  hr  holiday  weekday  workingday  \\\n",
              "0        1  2011-01-01       1   0     1   0        0        6           0   \n",
              "1        2  2011-01-01       1   0     1   1        0        6           0   \n",
              "2        3  2011-01-01       1   0     1   2        0        6           0   \n",
              "3        4  2011-01-01       1   0     1   3        0        6           0   \n",
              "4        5  2011-01-01       1   0     1   4        0        6           0   \n",
              "\n",
              "   weathersit  temp   atemp   hum  windspeed  casual  registered  cnt  \n",
              "0           1  0.24  0.2879  0.81        0.0       3          13   16  \n",
              "1           1  0.22  0.2727  0.80        0.0       8          32   40  \n",
              "2           1  0.22  0.2727  0.80        0.0       5          27   32  \n",
              "3           1  0.24  0.2879  0.75        0.0       3          10   13  \n",
              "4           1  0.24  0.2879  0.75        0.0       0           1    1  "
            ]
          },
          "execution_count": 43,
          "metadata": {},
          "output_type": "execute_result"
        }
      ],
      "source": [
        "#Membuat tabel hour\n",
        "hour_df = pd.read_csv(r\"C:\\Submission\\Data\\hour.csv\")\n",
        "hour_df.head()"
      ]
    },
    {
      "cell_type": "markdown",
      "metadata": {
        "id": "MMi6xGaDkbCi"
      },
      "source": [
        "**Insight:**\n",
        "- Tabel day_df: Jumlah total penyewa sepeda (cnt) pada 5 hari pertama di dataset (day_df) relatif rendah, dengan nilai tertinggi sekitar 1600, kemungkinan karena masih awal tahun (Januari).\n",
        "- Tabel hour_df: Pada tabel hour_df, terlihat bahwa jumlah penyewa sepeda (cnt) pada jam-jam awal (0-4) di hari pertama sangat rendah, dengan nilai tertinggi hanya 40, yang wajar karena merupakan jam malam."
      ]
    },
    {
      "cell_type": "markdown",
      "metadata": {
        "id": "FHSiqaZp8DC1"
      },
      "source": [
        "### Assessing Data"
      ]
    },
    {
      "cell_type": "code",
      "execution_count": 44,
      "metadata": {
        "id": "ax-3tEjc9Cj1"
      },
      "outputs": [
        {
          "name": "stdout",
          "output_type": "stream",
          "text": [
            "<class 'pandas.core.frame.DataFrame'>\n",
            "RangeIndex: 731 entries, 0 to 730\n",
            "Data columns (total 16 columns):\n",
            " #   Column      Non-Null Count  Dtype  \n",
            "---  ------      --------------  -----  \n",
            " 0   instant     731 non-null    int64  \n",
            " 1   dteday      731 non-null    object \n",
            " 2   season      731 non-null    int64  \n",
            " 3   yr          731 non-null    int64  \n",
            " 4   mnth        731 non-null    int64  \n",
            " 5   holiday     731 non-null    int64  \n",
            " 6   weekday     731 non-null    int64  \n",
            " 7   workingday  731 non-null    int64  \n",
            " 8   weathersit  731 non-null    int64  \n",
            " 9   temp        731 non-null    float64\n",
            " 10  atemp       731 non-null    float64\n",
            " 11  hum         731 non-null    float64\n",
            " 12  windspeed   731 non-null    float64\n",
            " 13  casual      731 non-null    int64  \n",
            " 14  registered  731 non-null    int64  \n",
            " 15  cnt         731 non-null    int64  \n",
            "dtypes: float64(4), int64(11), object(1)\n",
            "memory usage: 91.5+ KB\n"
          ]
        }
      ],
      "source": [
        "#Menilai Data Day\n",
        "day_df.info()"
      ]
    },
    {
      "cell_type": "code",
      "execution_count": 45,
      "metadata": {},
      "outputs": [
        {
          "name": "stdout",
          "output_type": "stream",
          "text": [
            "<class 'pandas.core.frame.DataFrame'>\n",
            "RangeIndex: 17379 entries, 0 to 17378\n",
            "Data columns (total 17 columns):\n",
            " #   Column      Non-Null Count  Dtype  \n",
            "---  ------      --------------  -----  \n",
            " 0   instant     17379 non-null  int64  \n",
            " 1   dteday      17379 non-null  object \n",
            " 2   season      17379 non-null  int64  \n",
            " 3   yr          17379 non-null  int64  \n",
            " 4   mnth        17379 non-null  int64  \n",
            " 5   hr          17379 non-null  int64  \n",
            " 6   holiday     17379 non-null  int64  \n",
            " 7   weekday     17379 non-null  int64  \n",
            " 8   workingday  17379 non-null  int64  \n",
            " 9   weathersit  17379 non-null  int64  \n",
            " 10  temp        17379 non-null  float64\n",
            " 11  atemp       17379 non-null  float64\n",
            " 12  hum         17379 non-null  float64\n",
            " 13  windspeed   17379 non-null  float64\n",
            " 14  casual      17379 non-null  int64  \n",
            " 15  registered  17379 non-null  int64  \n",
            " 16  cnt         17379 non-null  int64  \n",
            "dtypes: float64(4), int64(12), object(1)\n",
            "memory usage: 2.3+ MB\n"
          ]
        }
      ],
      "source": [
        "# Menilai Data Hour\n",
        "hour_df.info()"
      ]
    },
    {
      "cell_type": "markdown",
      "metadata": {},
      "source": [
        "**Insight:**\n",
        "- Dataset day_df tidak memiliki missing value, karena semua kolom memiliki jumlah Non-Null Count yang sama dengan jumlah entries yaitu 731. Hal ini menunjukkan bahwa data sudah lengkap dan tidak ada data yang hilang. \n",
        "- Dataset hour_df tidak memiliki missing value, karena semua kolom memiliki jumlah Non-Null Count yang sama dengan jumlah entries yaitu 17379. Hal ini menandakan bahwa kualitas data pada dataset hour_df cukup baik dari sisi kelengkapan data.\n",
        "- Pada kolom dteday baik pada data day_df dan hour_df akan merepresentasikan tanggal. Tipe data object biasanya digunakan untuk string atau tipe data campuran. Akan lebih ideal jika kolom dteday memiliki tipe data datetime64."
      ]
    },
    {
      "cell_type": "code",
      "execution_count": 46,
      "metadata": {},
      "outputs": [
        {
          "data": {
            "text/plain": [
              "instant       0\n",
              "dteday        0\n",
              "season        0\n",
              "yr            0\n",
              "mnth          0\n",
              "holiday       0\n",
              "weekday       0\n",
              "workingday    0\n",
              "weathersit    0\n",
              "temp          0\n",
              "atemp         0\n",
              "hum           0\n",
              "windspeed     0\n",
              "casual        0\n",
              "registered    0\n",
              "cnt           0\n",
              "dtype: int64"
            ]
          },
          "execution_count": 46,
          "metadata": {},
          "output_type": "execute_result"
        }
      ],
      "source": [
        "# Missing Value Day\n",
        "day_df.isna().sum()"
      ]
    },
    {
      "cell_type": "code",
      "execution_count": 47,
      "metadata": {},
      "outputs": [
        {
          "data": {
            "text/plain": [
              "instant       0\n",
              "dteday        0\n",
              "season        0\n",
              "yr            0\n",
              "mnth          0\n",
              "hr            0\n",
              "holiday       0\n",
              "weekday       0\n",
              "workingday    0\n",
              "weathersit    0\n",
              "temp          0\n",
              "atemp         0\n",
              "hum           0\n",
              "windspeed     0\n",
              "casual        0\n",
              "registered    0\n",
              "cnt           0\n",
              "dtype: int64"
            ]
          },
          "execution_count": 47,
          "metadata": {},
          "output_type": "execute_result"
        }
      ],
      "source": [
        "# Missing Value Hour\n",
        "hour_df.isna().sum()"
      ]
    },
    {
      "cell_type": "markdown",
      "metadata": {},
      "source": [
        "**Insight:**\n",
        "- Dataset day_df tidak memiliki missing value, karena jumlah nilai NaN pada setiap kolom adalah 0. Hal ini menunjukkan bahwa kualitas data pada dataset day_df cukup baik dari sisi kelengkapan data.\n",
        "- Dataset hour_df tidak memiliki missing value, karena hasil perhitungan isna().sum() untuk setiap kolom adalah 0. Hal ini menandakan bahwa dataset hour_df sudah bersih dari data kosong atau hilang."
      ]
    },
    {
      "cell_type": "code",
      "execution_count": 48,
      "metadata": {},
      "outputs": [
        {
          "name": "stdout",
          "output_type": "stream",
          "text": [
            "Jumlah duplikasi:  0\n"
          ]
        }
      ],
      "source": [
        "# Duplikasi Data Day\n",
        "print(\"Jumlah duplikasi: \", day_df.duplicated().sum())"
      ]
    },
    {
      "cell_type": "code",
      "execution_count": 49,
      "metadata": {},
      "outputs": [
        {
          "name": "stdout",
          "output_type": "stream",
          "text": [
            "Jumlah duplikasi:  0\n"
          ]
        }
      ],
      "source": [
        "# Duplikasi Data Hour\n",
        "print(\"Jumlah duplikasi: \", hour_df.duplicated().sum())"
      ]
    },
    {
      "cell_type": "markdown",
      "metadata": {},
      "source": [
        "**Insight:**\n",
        "- Tidak ada duplikasi data pada dataset day_df: Hasil pengecekan menunjukkan bahwa tidak ditemukan baris yang identik atau duplikat dalam dataset day_df.\n",
        "- Tidak ada duplikasi data pada dataset hour_df: Dataset hour_df juga bebas dari duplikasi data, yang mengindikasikan bahwa tidak ada entri data yang tercatat ganda."
      ]
    },
    {
      "cell_type": "code",
      "execution_count": 50,
      "metadata": {},
      "outputs": [
        {
          "data": {
            "text/html": [
              "<div>\n",
              "<style scoped>\n",
              "    .dataframe tbody tr th:only-of-type {\n",
              "        vertical-align: middle;\n",
              "    }\n",
              "\n",
              "    .dataframe tbody tr th {\n",
              "        vertical-align: top;\n",
              "    }\n",
              "\n",
              "    .dataframe thead th {\n",
              "        text-align: right;\n",
              "    }\n",
              "</style>\n",
              "<table border=\"1\" class=\"dataframe\">\n",
              "  <thead>\n",
              "    <tr style=\"text-align: right;\">\n",
              "      <th></th>\n",
              "      <th>instant</th>\n",
              "      <th>season</th>\n",
              "      <th>yr</th>\n",
              "      <th>mnth</th>\n",
              "      <th>holiday</th>\n",
              "      <th>weekday</th>\n",
              "      <th>workingday</th>\n",
              "      <th>weathersit</th>\n",
              "      <th>temp</th>\n",
              "      <th>atemp</th>\n",
              "      <th>hum</th>\n",
              "      <th>windspeed</th>\n",
              "      <th>casual</th>\n",
              "      <th>registered</th>\n",
              "      <th>cnt</th>\n",
              "    </tr>\n",
              "  </thead>\n",
              "  <tbody>\n",
              "    <tr>\n",
              "      <th>count</th>\n",
              "      <td>731.000000</td>\n",
              "      <td>731.000000</td>\n",
              "      <td>731.000000</td>\n",
              "      <td>731.000000</td>\n",
              "      <td>731.000000</td>\n",
              "      <td>731.000000</td>\n",
              "      <td>731.000000</td>\n",
              "      <td>731.000000</td>\n",
              "      <td>731.000000</td>\n",
              "      <td>731.000000</td>\n",
              "      <td>731.000000</td>\n",
              "      <td>731.000000</td>\n",
              "      <td>731.000000</td>\n",
              "      <td>731.000000</td>\n",
              "      <td>731.000000</td>\n",
              "    </tr>\n",
              "    <tr>\n",
              "      <th>mean</th>\n",
              "      <td>366.000000</td>\n",
              "      <td>2.496580</td>\n",
              "      <td>0.500684</td>\n",
              "      <td>6.519836</td>\n",
              "      <td>0.028728</td>\n",
              "      <td>2.997264</td>\n",
              "      <td>0.683995</td>\n",
              "      <td>1.395349</td>\n",
              "      <td>0.495385</td>\n",
              "      <td>0.474354</td>\n",
              "      <td>0.627894</td>\n",
              "      <td>0.190486</td>\n",
              "      <td>848.176471</td>\n",
              "      <td>3656.172367</td>\n",
              "      <td>4504.348837</td>\n",
              "    </tr>\n",
              "    <tr>\n",
              "      <th>std</th>\n",
              "      <td>211.165812</td>\n",
              "      <td>1.110807</td>\n",
              "      <td>0.500342</td>\n",
              "      <td>3.451913</td>\n",
              "      <td>0.167155</td>\n",
              "      <td>2.004787</td>\n",
              "      <td>0.465233</td>\n",
              "      <td>0.544894</td>\n",
              "      <td>0.183051</td>\n",
              "      <td>0.162961</td>\n",
              "      <td>0.142429</td>\n",
              "      <td>0.077498</td>\n",
              "      <td>686.622488</td>\n",
              "      <td>1560.256377</td>\n",
              "      <td>1937.211452</td>\n",
              "    </tr>\n",
              "    <tr>\n",
              "      <th>min</th>\n",
              "      <td>1.000000</td>\n",
              "      <td>1.000000</td>\n",
              "      <td>0.000000</td>\n",
              "      <td>1.000000</td>\n",
              "      <td>0.000000</td>\n",
              "      <td>0.000000</td>\n",
              "      <td>0.000000</td>\n",
              "      <td>1.000000</td>\n",
              "      <td>0.059130</td>\n",
              "      <td>0.079070</td>\n",
              "      <td>0.000000</td>\n",
              "      <td>0.022392</td>\n",
              "      <td>2.000000</td>\n",
              "      <td>20.000000</td>\n",
              "      <td>22.000000</td>\n",
              "    </tr>\n",
              "    <tr>\n",
              "      <th>25%</th>\n",
              "      <td>183.500000</td>\n",
              "      <td>2.000000</td>\n",
              "      <td>0.000000</td>\n",
              "      <td>4.000000</td>\n",
              "      <td>0.000000</td>\n",
              "      <td>1.000000</td>\n",
              "      <td>0.000000</td>\n",
              "      <td>1.000000</td>\n",
              "      <td>0.337083</td>\n",
              "      <td>0.337842</td>\n",
              "      <td>0.520000</td>\n",
              "      <td>0.134950</td>\n",
              "      <td>315.500000</td>\n",
              "      <td>2497.000000</td>\n",
              "      <td>3152.000000</td>\n",
              "    </tr>\n",
              "    <tr>\n",
              "      <th>50%</th>\n",
              "      <td>366.000000</td>\n",
              "      <td>3.000000</td>\n",
              "      <td>1.000000</td>\n",
              "      <td>7.000000</td>\n",
              "      <td>0.000000</td>\n",
              "      <td>3.000000</td>\n",
              "      <td>1.000000</td>\n",
              "      <td>1.000000</td>\n",
              "      <td>0.498333</td>\n",
              "      <td>0.486733</td>\n",
              "      <td>0.626667</td>\n",
              "      <td>0.180975</td>\n",
              "      <td>713.000000</td>\n",
              "      <td>3662.000000</td>\n",
              "      <td>4548.000000</td>\n",
              "    </tr>\n",
              "    <tr>\n",
              "      <th>75%</th>\n",
              "      <td>548.500000</td>\n",
              "      <td>3.000000</td>\n",
              "      <td>1.000000</td>\n",
              "      <td>10.000000</td>\n",
              "      <td>0.000000</td>\n",
              "      <td>5.000000</td>\n",
              "      <td>1.000000</td>\n",
              "      <td>2.000000</td>\n",
              "      <td>0.655417</td>\n",
              "      <td>0.608602</td>\n",
              "      <td>0.730209</td>\n",
              "      <td>0.233214</td>\n",
              "      <td>1096.000000</td>\n",
              "      <td>4776.500000</td>\n",
              "      <td>5956.000000</td>\n",
              "    </tr>\n",
              "    <tr>\n",
              "      <th>max</th>\n",
              "      <td>731.000000</td>\n",
              "      <td>4.000000</td>\n",
              "      <td>1.000000</td>\n",
              "      <td>12.000000</td>\n",
              "      <td>1.000000</td>\n",
              "      <td>6.000000</td>\n",
              "      <td>1.000000</td>\n",
              "      <td>3.000000</td>\n",
              "      <td>0.861667</td>\n",
              "      <td>0.840896</td>\n",
              "      <td>0.972500</td>\n",
              "      <td>0.507463</td>\n",
              "      <td>3410.000000</td>\n",
              "      <td>6946.000000</td>\n",
              "      <td>8714.000000</td>\n",
              "    </tr>\n",
              "  </tbody>\n",
              "</table>\n",
              "</div>"
            ],
            "text/plain": [
              "          instant      season          yr        mnth     holiday     weekday  \\\n",
              "count  731.000000  731.000000  731.000000  731.000000  731.000000  731.000000   \n",
              "mean   366.000000    2.496580    0.500684    6.519836    0.028728    2.997264   \n",
              "std    211.165812    1.110807    0.500342    3.451913    0.167155    2.004787   \n",
              "min      1.000000    1.000000    0.000000    1.000000    0.000000    0.000000   \n",
              "25%    183.500000    2.000000    0.000000    4.000000    0.000000    1.000000   \n",
              "50%    366.000000    3.000000    1.000000    7.000000    0.000000    3.000000   \n",
              "75%    548.500000    3.000000    1.000000   10.000000    0.000000    5.000000   \n",
              "max    731.000000    4.000000    1.000000   12.000000    1.000000    6.000000   \n",
              "\n",
              "       workingday  weathersit        temp       atemp         hum   windspeed  \\\n",
              "count  731.000000  731.000000  731.000000  731.000000  731.000000  731.000000   \n",
              "mean     0.683995    1.395349    0.495385    0.474354    0.627894    0.190486   \n",
              "std      0.465233    0.544894    0.183051    0.162961    0.142429    0.077498   \n",
              "min      0.000000    1.000000    0.059130    0.079070    0.000000    0.022392   \n",
              "25%      0.000000    1.000000    0.337083    0.337842    0.520000    0.134950   \n",
              "50%      1.000000    1.000000    0.498333    0.486733    0.626667    0.180975   \n",
              "75%      1.000000    2.000000    0.655417    0.608602    0.730209    0.233214   \n",
              "max      1.000000    3.000000    0.861667    0.840896    0.972500    0.507463   \n",
              "\n",
              "            casual   registered          cnt  \n",
              "count   731.000000   731.000000   731.000000  \n",
              "mean    848.176471  3656.172367  4504.348837  \n",
              "std     686.622488  1560.256377  1937.211452  \n",
              "min       2.000000    20.000000    22.000000  \n",
              "25%     315.500000  2497.000000  3152.000000  \n",
              "50%     713.000000  3662.000000  4548.000000  \n",
              "75%    1096.000000  4776.500000  5956.000000  \n",
              "max    3410.000000  6946.000000  8714.000000  "
            ]
          },
          "execution_count": 50,
          "metadata": {},
          "output_type": "execute_result"
        }
      ],
      "source": [
        "# Ringkasan Parameter Statistik Day\n",
        "day_df.describe()"
      ]
    },
    {
      "cell_type": "code",
      "execution_count": 51,
      "metadata": {},
      "outputs": [
        {
          "data": {
            "text/html": [
              "<div>\n",
              "<style scoped>\n",
              "    .dataframe tbody tr th:only-of-type {\n",
              "        vertical-align: middle;\n",
              "    }\n",
              "\n",
              "    .dataframe tbody tr th {\n",
              "        vertical-align: top;\n",
              "    }\n",
              "\n",
              "    .dataframe thead th {\n",
              "        text-align: right;\n",
              "    }\n",
              "</style>\n",
              "<table border=\"1\" class=\"dataframe\">\n",
              "  <thead>\n",
              "    <tr style=\"text-align: right;\">\n",
              "      <th></th>\n",
              "      <th>instant</th>\n",
              "      <th>season</th>\n",
              "      <th>yr</th>\n",
              "      <th>mnth</th>\n",
              "      <th>hr</th>\n",
              "      <th>holiday</th>\n",
              "      <th>weekday</th>\n",
              "      <th>workingday</th>\n",
              "      <th>weathersit</th>\n",
              "      <th>temp</th>\n",
              "      <th>atemp</th>\n",
              "      <th>hum</th>\n",
              "      <th>windspeed</th>\n",
              "      <th>casual</th>\n",
              "      <th>registered</th>\n",
              "      <th>cnt</th>\n",
              "    </tr>\n",
              "  </thead>\n",
              "  <tbody>\n",
              "    <tr>\n",
              "      <th>count</th>\n",
              "      <td>17379.0000</td>\n",
              "      <td>17379.000000</td>\n",
              "      <td>17379.000000</td>\n",
              "      <td>17379.000000</td>\n",
              "      <td>17379.000000</td>\n",
              "      <td>17379.000000</td>\n",
              "      <td>17379.000000</td>\n",
              "      <td>17379.000000</td>\n",
              "      <td>17379.000000</td>\n",
              "      <td>17379.000000</td>\n",
              "      <td>17379.000000</td>\n",
              "      <td>17379.000000</td>\n",
              "      <td>17379.000000</td>\n",
              "      <td>17379.000000</td>\n",
              "      <td>17379.000000</td>\n",
              "      <td>17379.000000</td>\n",
              "    </tr>\n",
              "    <tr>\n",
              "      <th>mean</th>\n",
              "      <td>8690.0000</td>\n",
              "      <td>2.501640</td>\n",
              "      <td>0.502561</td>\n",
              "      <td>6.537775</td>\n",
              "      <td>11.546752</td>\n",
              "      <td>0.028770</td>\n",
              "      <td>3.003683</td>\n",
              "      <td>0.682721</td>\n",
              "      <td>1.425283</td>\n",
              "      <td>0.496987</td>\n",
              "      <td>0.475775</td>\n",
              "      <td>0.627229</td>\n",
              "      <td>0.190098</td>\n",
              "      <td>35.676218</td>\n",
              "      <td>153.786869</td>\n",
              "      <td>189.463088</td>\n",
              "    </tr>\n",
              "    <tr>\n",
              "      <th>std</th>\n",
              "      <td>5017.0295</td>\n",
              "      <td>1.106918</td>\n",
              "      <td>0.500008</td>\n",
              "      <td>3.438776</td>\n",
              "      <td>6.914405</td>\n",
              "      <td>0.167165</td>\n",
              "      <td>2.005771</td>\n",
              "      <td>0.465431</td>\n",
              "      <td>0.639357</td>\n",
              "      <td>0.192556</td>\n",
              "      <td>0.171850</td>\n",
              "      <td>0.192930</td>\n",
              "      <td>0.122340</td>\n",
              "      <td>49.305030</td>\n",
              "      <td>151.357286</td>\n",
              "      <td>181.387599</td>\n",
              "    </tr>\n",
              "    <tr>\n",
              "      <th>min</th>\n",
              "      <td>1.0000</td>\n",
              "      <td>1.000000</td>\n",
              "      <td>0.000000</td>\n",
              "      <td>1.000000</td>\n",
              "      <td>0.000000</td>\n",
              "      <td>0.000000</td>\n",
              "      <td>0.000000</td>\n",
              "      <td>0.000000</td>\n",
              "      <td>1.000000</td>\n",
              "      <td>0.020000</td>\n",
              "      <td>0.000000</td>\n",
              "      <td>0.000000</td>\n",
              "      <td>0.000000</td>\n",
              "      <td>0.000000</td>\n",
              "      <td>0.000000</td>\n",
              "      <td>1.000000</td>\n",
              "    </tr>\n",
              "    <tr>\n",
              "      <th>25%</th>\n",
              "      <td>4345.5000</td>\n",
              "      <td>2.000000</td>\n",
              "      <td>0.000000</td>\n",
              "      <td>4.000000</td>\n",
              "      <td>6.000000</td>\n",
              "      <td>0.000000</td>\n",
              "      <td>1.000000</td>\n",
              "      <td>0.000000</td>\n",
              "      <td>1.000000</td>\n",
              "      <td>0.340000</td>\n",
              "      <td>0.333300</td>\n",
              "      <td>0.480000</td>\n",
              "      <td>0.104500</td>\n",
              "      <td>4.000000</td>\n",
              "      <td>34.000000</td>\n",
              "      <td>40.000000</td>\n",
              "    </tr>\n",
              "    <tr>\n",
              "      <th>50%</th>\n",
              "      <td>8690.0000</td>\n",
              "      <td>3.000000</td>\n",
              "      <td>1.000000</td>\n",
              "      <td>7.000000</td>\n",
              "      <td>12.000000</td>\n",
              "      <td>0.000000</td>\n",
              "      <td>3.000000</td>\n",
              "      <td>1.000000</td>\n",
              "      <td>1.000000</td>\n",
              "      <td>0.500000</td>\n",
              "      <td>0.484800</td>\n",
              "      <td>0.630000</td>\n",
              "      <td>0.194000</td>\n",
              "      <td>17.000000</td>\n",
              "      <td>115.000000</td>\n",
              "      <td>142.000000</td>\n",
              "    </tr>\n",
              "    <tr>\n",
              "      <th>75%</th>\n",
              "      <td>13034.5000</td>\n",
              "      <td>3.000000</td>\n",
              "      <td>1.000000</td>\n",
              "      <td>10.000000</td>\n",
              "      <td>18.000000</td>\n",
              "      <td>0.000000</td>\n",
              "      <td>5.000000</td>\n",
              "      <td>1.000000</td>\n",
              "      <td>2.000000</td>\n",
              "      <td>0.660000</td>\n",
              "      <td>0.621200</td>\n",
              "      <td>0.780000</td>\n",
              "      <td>0.253700</td>\n",
              "      <td>48.000000</td>\n",
              "      <td>220.000000</td>\n",
              "      <td>281.000000</td>\n",
              "    </tr>\n",
              "    <tr>\n",
              "      <th>max</th>\n",
              "      <td>17379.0000</td>\n",
              "      <td>4.000000</td>\n",
              "      <td>1.000000</td>\n",
              "      <td>12.000000</td>\n",
              "      <td>23.000000</td>\n",
              "      <td>1.000000</td>\n",
              "      <td>6.000000</td>\n",
              "      <td>1.000000</td>\n",
              "      <td>4.000000</td>\n",
              "      <td>1.000000</td>\n",
              "      <td>1.000000</td>\n",
              "      <td>1.000000</td>\n",
              "      <td>0.850700</td>\n",
              "      <td>367.000000</td>\n",
              "      <td>886.000000</td>\n",
              "      <td>977.000000</td>\n",
              "    </tr>\n",
              "  </tbody>\n",
              "</table>\n",
              "</div>"
            ],
            "text/plain": [
              "          instant        season            yr          mnth            hr  \\\n",
              "count  17379.0000  17379.000000  17379.000000  17379.000000  17379.000000   \n",
              "mean    8690.0000      2.501640      0.502561      6.537775     11.546752   \n",
              "std     5017.0295      1.106918      0.500008      3.438776      6.914405   \n",
              "min        1.0000      1.000000      0.000000      1.000000      0.000000   \n",
              "25%     4345.5000      2.000000      0.000000      4.000000      6.000000   \n",
              "50%     8690.0000      3.000000      1.000000      7.000000     12.000000   \n",
              "75%    13034.5000      3.000000      1.000000     10.000000     18.000000   \n",
              "max    17379.0000      4.000000      1.000000     12.000000     23.000000   \n",
              "\n",
              "            holiday       weekday    workingday    weathersit          temp  \\\n",
              "count  17379.000000  17379.000000  17379.000000  17379.000000  17379.000000   \n",
              "mean       0.028770      3.003683      0.682721      1.425283      0.496987   \n",
              "std        0.167165      2.005771      0.465431      0.639357      0.192556   \n",
              "min        0.000000      0.000000      0.000000      1.000000      0.020000   \n",
              "25%        0.000000      1.000000      0.000000      1.000000      0.340000   \n",
              "50%        0.000000      3.000000      1.000000      1.000000      0.500000   \n",
              "75%        0.000000      5.000000      1.000000      2.000000      0.660000   \n",
              "max        1.000000      6.000000      1.000000      4.000000      1.000000   \n",
              "\n",
              "              atemp           hum     windspeed        casual    registered  \\\n",
              "count  17379.000000  17379.000000  17379.000000  17379.000000  17379.000000   \n",
              "mean       0.475775      0.627229      0.190098     35.676218    153.786869   \n",
              "std        0.171850      0.192930      0.122340     49.305030    151.357286   \n",
              "min        0.000000      0.000000      0.000000      0.000000      0.000000   \n",
              "25%        0.333300      0.480000      0.104500      4.000000     34.000000   \n",
              "50%        0.484800      0.630000      0.194000     17.000000    115.000000   \n",
              "75%        0.621200      0.780000      0.253700     48.000000    220.000000   \n",
              "max        1.000000      1.000000      0.850700    367.000000    886.000000   \n",
              "\n",
              "                cnt  \n",
              "count  17379.000000  \n",
              "mean     189.463088  \n",
              "std      181.387599  \n",
              "min        1.000000  \n",
              "25%       40.000000  \n",
              "50%      142.000000  \n",
              "75%      281.000000  \n",
              "max      977.000000  "
            ]
          },
          "execution_count": 51,
          "metadata": {},
          "output_type": "execute_result"
        }
      ],
      "source": [
        "# Ringkasan Parameter Statistik Hour\n",
        "hour_df.describe()"
      ]
    },
    {
      "cell_type": "markdown",
      "metadata": {
        "id": "7dtxhAPrkhPL"
      },
      "source": [
        "**Insight:**\n",
        "- Rata-rata jumlah pengguna sepeda per hari adalah 4.504, dengan pengguna terdaftar (registered) lebih dominan dibandingkan pengguna kasual (casual). Ini menunjukkan bahwa layanan sepeda lebih sering digunakan oleh pelanggan tetap dibandingkan pengguna sesekali.\n",
        "- Jumlah pengguna sepeda terdaftar (registered) rata-rata 153 per jam, jauh lebih tinggi dibandingkan pengguna kasual (casual) yang hanya sekitar 35 per jam. Hal ini menunjukkan bahwa sebagian besar pengguna layanan sepeda adalah pelanggan tetap yang kemungkinan besar menggunakan layanan ini untuk keperluan rutin seperti bekerja atau sekolah."
      ]
    },
    {
      "cell_type": "markdown",
      "metadata": {
        "id": "EhN5R4hr8DC1"
      },
      "source": [
        "### Cleaning Data"
      ]
    },
    {
      "cell_type": "code",
      "execution_count": 52,
      "metadata": {},
      "outputs": [
        {
          "name": "stdout",
          "output_type": "stream",
          "text": [
            "<class 'pandas.core.frame.DataFrame'>\n",
            "RangeIndex: 731 entries, 0 to 730\n",
            "Data columns (total 16 columns):\n",
            " #   Column      Non-Null Count  Dtype         \n",
            "---  ------      --------------  -----         \n",
            " 0   instant     731 non-null    int64         \n",
            " 1   dteday      731 non-null    datetime64[ns]\n",
            " 2   season      731 non-null    int64         \n",
            " 3   yr          731 non-null    int64         \n",
            " 4   mnth        731 non-null    int64         \n",
            " 5   holiday     731 non-null    int64         \n",
            " 6   weekday     731 non-null    int64         \n",
            " 7   workingday  731 non-null    int64         \n",
            " 8   weathersit  731 non-null    int64         \n",
            " 9   temp        731 non-null    float64       \n",
            " 10  atemp       731 non-null    float64       \n",
            " 11  hum         731 non-null    float64       \n",
            " 12  windspeed   731 non-null    float64       \n",
            " 13  casual      731 non-null    int64         \n",
            " 14  registered  731 non-null    int64         \n",
            " 15  cnt         731 non-null    int64         \n",
            "dtypes: datetime64[ns](1), float64(4), int64(11)\n",
            "memory usage: 91.5 KB\n"
          ]
        }
      ],
      "source": [
        "# Membersihkan data day \n",
        "datetime_columns = [\"dteday\"]\n",
        " \n",
        "for column in datetime_columns:\n",
        "  day_df[column] = pd.to_datetime(day_df[column])\n",
        "\n",
        "day_df.info()"
      ]
    },
    {
      "cell_type": "code",
      "execution_count": 53,
      "metadata": {},
      "outputs": [
        {
          "name": "stdout",
          "output_type": "stream",
          "text": [
            "<class 'pandas.core.frame.DataFrame'>\n",
            "RangeIndex: 17379 entries, 0 to 17378\n",
            "Data columns (total 17 columns):\n",
            " #   Column      Non-Null Count  Dtype         \n",
            "---  ------      --------------  -----         \n",
            " 0   instant     17379 non-null  int64         \n",
            " 1   dteday      17379 non-null  datetime64[ns]\n",
            " 2   season      17379 non-null  int64         \n",
            " 3   yr          17379 non-null  int64         \n",
            " 4   mnth        17379 non-null  int64         \n",
            " 5   hr          17379 non-null  int64         \n",
            " 6   holiday     17379 non-null  int64         \n",
            " 7   weekday     17379 non-null  int64         \n",
            " 8   workingday  17379 non-null  int64         \n",
            " 9   weathersit  17379 non-null  int64         \n",
            " 10  temp        17379 non-null  float64       \n",
            " 11  atemp       17379 non-null  float64       \n",
            " 12  hum         17379 non-null  float64       \n",
            " 13  windspeed   17379 non-null  float64       \n",
            " 14  casual      17379 non-null  int64         \n",
            " 15  registered  17379 non-null  int64         \n",
            " 16  cnt         17379 non-null  int64         \n",
            "dtypes: datetime64[ns](1), float64(4), int64(12)\n",
            "memory usage: 2.3 MB\n"
          ]
        }
      ],
      "source": [
        "# Membersihkan data hour \n",
        "datetime_columns = [\"dteday\"]\n",
        "\n",
        "for column in datetime_columns:\n",
        "    hour_df[column] = pd.to_datetime(hour_df[column])\n",
        "\n",
        "hour_df.info()"
      ]
    },
    {
      "cell_type": "markdown",
      "metadata": {
        "id": "Q_5ejIqckiSP"
      },
      "source": [
        "**Insight:**\n",
        "- Kolom \"dteday\" berhasil dikonversi ke tipe data datetime64, yang memungkinkan analisis berbasis waktu lebih akurat. Dataset day_df terdiri dari 731 entri dengan 16 kolom tanpa nilai null, menunjukkan bahwa data lengkap.\n",
        "- Kolom \"dteday\" pada dataset hour_df berhasil dikonversi ke tipe datetime64, memungkinkan analisis berbasis waktu yang lebih akurat. Dataset ini memiliki 17.379 entri dan 17 kolom, dengan tidak ada nilai null."
      ]
    },
    {
      "cell_type": "markdown",
      "metadata": {
        "id": "gp-Y6wU38DC1"
      },
      "source": [
        "## Exploratory Data Analysis (EDA)"
      ]
    },
    {
      "cell_type": "markdown",
      "metadata": {},
      "source": [
        "### Explore data day_df"
      ]
    },
    {
      "cell_type": "code",
      "execution_count": 54,
      "metadata": {},
      "outputs": [
        {
          "name": "stdout",
          "output_type": "stream",
          "text": [
            "<class 'pandas.core.frame.DataFrame'>\n",
            "RangeIndex: 731 entries, 0 to 730\n",
            "Data columns (total 16 columns):\n",
            " #   Column      Non-Null Count  Dtype         \n",
            "---  ------      --------------  -----         \n",
            " 0   instant     731 non-null    int64         \n",
            " 1   dteday      731 non-null    datetime64[ns]\n",
            " 2   season      731 non-null    int64         \n",
            " 3   yr          731 non-null    int64         \n",
            " 4   mnth        731 non-null    int64         \n",
            " 5   holiday     731 non-null    int64         \n",
            " 6   weekday     731 non-null    int64         \n",
            " 7   workingday  731 non-null    int64         \n",
            " 8   weathersit  731 non-null    int64         \n",
            " 9   temp        731 non-null    float64       \n",
            " 10  atemp       731 non-null    float64       \n",
            " 11  hum         731 non-null    float64       \n",
            " 12  windspeed   731 non-null    float64       \n",
            " 13  casual      731 non-null    int64         \n",
            " 14  registered  731 non-null    int64         \n",
            " 15  cnt         731 non-null    int64         \n",
            "dtypes: datetime64[ns](1), float64(4), int64(11)\n",
            "memory usage: 91.5 KB\n"
          ]
        }
      ],
      "source": [
        "day_df.info()"
      ]
    },
    {
      "cell_type": "markdown",
      "metadata": {},
      "source": [
        "**Insight:**\n",
        "- day_df.info() menampilkan informasi, yaitu:\n",
        "   - Jumlah Data: Data terdiri dari 731 baris, mewakili 731 hari.\n",
        "   - Kolom: Terdapat 16 kolom dengan berbagai tipe data:\n",
        "   - 1 kolom tanggal (dteday).\n",
        "   - 4 kolom numerik desimal (temp, atemp, hum, windspeed).\n",
        "   - 11 kolom numerik bilangan bulat (sisanya).\n",
        "   - Kelengkapan Data: Tidak ada nilai yang hilang (semua kolom memiliki 731 nilai non-null).\n",
        "   - Kolom Tanggal: Kolom dteday menunjukkan bahwa data mencakup periode waktu tertentu.\n",
        "   - Kolom Numerik: Kolom numerik (bilangan bulat dan desimal) kemungkinan besar berisi informasi tentang:\n",
        "   - Kondisi cuaca (temp, atemp, hum, windspeed, weathersit).\n",
        "   - Waktu (misalnya, season, yr, mnth, weekday).\n",
        "   - Informasi penyewaan sepeda (casual, registered, cnt).\n",
        "   - Data Bersih: Tidak adanya nilai null menunjukkan bahwa data relatif bersih dan siap untuk dianalisis.\n"
      ]
    },
    {
      "cell_type": "code",
      "execution_count": 55,
      "metadata": {},
      "outputs": [
        {
          "data": {
            "text/html": [
              "<div>\n",
              "<style scoped>\n",
              "    .dataframe tbody tr th:only-of-type {\n",
              "        vertical-align: middle;\n",
              "    }\n",
              "\n",
              "    .dataframe tbody tr th {\n",
              "        vertical-align: top;\n",
              "    }\n",
              "\n",
              "    .dataframe thead th {\n",
              "        text-align: right;\n",
              "    }\n",
              "</style>\n",
              "<table border=\"1\" class=\"dataframe\">\n",
              "  <thead>\n",
              "    <tr style=\"text-align: right;\">\n",
              "      <th></th>\n",
              "      <th>instant</th>\n",
              "      <th>dteday</th>\n",
              "      <th>season</th>\n",
              "      <th>yr</th>\n",
              "      <th>mnth</th>\n",
              "      <th>holiday</th>\n",
              "      <th>weekday</th>\n",
              "      <th>workingday</th>\n",
              "      <th>weathersit</th>\n",
              "      <th>temp</th>\n",
              "      <th>atemp</th>\n",
              "      <th>hum</th>\n",
              "      <th>windspeed</th>\n",
              "      <th>casual</th>\n",
              "      <th>registered</th>\n",
              "      <th>cnt</th>\n",
              "    </tr>\n",
              "  </thead>\n",
              "  <tbody>\n",
              "    <tr>\n",
              "      <th>count</th>\n",
              "      <td>731.000000</td>\n",
              "      <td>731</td>\n",
              "      <td>731.000000</td>\n",
              "      <td>731.000000</td>\n",
              "      <td>731.000000</td>\n",
              "      <td>731.000000</td>\n",
              "      <td>731.000000</td>\n",
              "      <td>731.000000</td>\n",
              "      <td>731.000000</td>\n",
              "      <td>731.000000</td>\n",
              "      <td>731.000000</td>\n",
              "      <td>731.000000</td>\n",
              "      <td>731.000000</td>\n",
              "      <td>731.000000</td>\n",
              "      <td>731.000000</td>\n",
              "      <td>731.000000</td>\n",
              "    </tr>\n",
              "    <tr>\n",
              "      <th>mean</th>\n",
              "      <td>366.000000</td>\n",
              "      <td>2012-01-01 00:00:00</td>\n",
              "      <td>2.496580</td>\n",
              "      <td>0.500684</td>\n",
              "      <td>6.519836</td>\n",
              "      <td>0.028728</td>\n",
              "      <td>2.997264</td>\n",
              "      <td>0.683995</td>\n",
              "      <td>1.395349</td>\n",
              "      <td>0.495385</td>\n",
              "      <td>0.474354</td>\n",
              "      <td>0.627894</td>\n",
              "      <td>0.190486</td>\n",
              "      <td>848.176471</td>\n",
              "      <td>3656.172367</td>\n",
              "      <td>4504.348837</td>\n",
              "    </tr>\n",
              "    <tr>\n",
              "      <th>min</th>\n",
              "      <td>1.000000</td>\n",
              "      <td>2011-01-01 00:00:00</td>\n",
              "      <td>1.000000</td>\n",
              "      <td>0.000000</td>\n",
              "      <td>1.000000</td>\n",
              "      <td>0.000000</td>\n",
              "      <td>0.000000</td>\n",
              "      <td>0.000000</td>\n",
              "      <td>1.000000</td>\n",
              "      <td>0.059130</td>\n",
              "      <td>0.079070</td>\n",
              "      <td>0.000000</td>\n",
              "      <td>0.022392</td>\n",
              "      <td>2.000000</td>\n",
              "      <td>20.000000</td>\n",
              "      <td>22.000000</td>\n",
              "    </tr>\n",
              "    <tr>\n",
              "      <th>25%</th>\n",
              "      <td>183.500000</td>\n",
              "      <td>2011-07-02 12:00:00</td>\n",
              "      <td>2.000000</td>\n",
              "      <td>0.000000</td>\n",
              "      <td>4.000000</td>\n",
              "      <td>0.000000</td>\n",
              "      <td>1.000000</td>\n",
              "      <td>0.000000</td>\n",
              "      <td>1.000000</td>\n",
              "      <td>0.337083</td>\n",
              "      <td>0.337842</td>\n",
              "      <td>0.520000</td>\n",
              "      <td>0.134950</td>\n",
              "      <td>315.500000</td>\n",
              "      <td>2497.000000</td>\n",
              "      <td>3152.000000</td>\n",
              "    </tr>\n",
              "    <tr>\n",
              "      <th>50%</th>\n",
              "      <td>366.000000</td>\n",
              "      <td>2012-01-01 00:00:00</td>\n",
              "      <td>3.000000</td>\n",
              "      <td>1.000000</td>\n",
              "      <td>7.000000</td>\n",
              "      <td>0.000000</td>\n",
              "      <td>3.000000</td>\n",
              "      <td>1.000000</td>\n",
              "      <td>1.000000</td>\n",
              "      <td>0.498333</td>\n",
              "      <td>0.486733</td>\n",
              "      <td>0.626667</td>\n",
              "      <td>0.180975</td>\n",
              "      <td>713.000000</td>\n",
              "      <td>3662.000000</td>\n",
              "      <td>4548.000000</td>\n",
              "    </tr>\n",
              "    <tr>\n",
              "      <th>75%</th>\n",
              "      <td>548.500000</td>\n",
              "      <td>2012-07-01 12:00:00</td>\n",
              "      <td>3.000000</td>\n",
              "      <td>1.000000</td>\n",
              "      <td>10.000000</td>\n",
              "      <td>0.000000</td>\n",
              "      <td>5.000000</td>\n",
              "      <td>1.000000</td>\n",
              "      <td>2.000000</td>\n",
              "      <td>0.655417</td>\n",
              "      <td>0.608602</td>\n",
              "      <td>0.730209</td>\n",
              "      <td>0.233214</td>\n",
              "      <td>1096.000000</td>\n",
              "      <td>4776.500000</td>\n",
              "      <td>5956.000000</td>\n",
              "    </tr>\n",
              "    <tr>\n",
              "      <th>max</th>\n",
              "      <td>731.000000</td>\n",
              "      <td>2012-12-31 00:00:00</td>\n",
              "      <td>4.000000</td>\n",
              "      <td>1.000000</td>\n",
              "      <td>12.000000</td>\n",
              "      <td>1.000000</td>\n",
              "      <td>6.000000</td>\n",
              "      <td>1.000000</td>\n",
              "      <td>3.000000</td>\n",
              "      <td>0.861667</td>\n",
              "      <td>0.840896</td>\n",
              "      <td>0.972500</td>\n",
              "      <td>0.507463</td>\n",
              "      <td>3410.000000</td>\n",
              "      <td>6946.000000</td>\n",
              "      <td>8714.000000</td>\n",
              "    </tr>\n",
              "    <tr>\n",
              "      <th>std</th>\n",
              "      <td>211.165812</td>\n",
              "      <td>NaN</td>\n",
              "      <td>1.110807</td>\n",
              "      <td>0.500342</td>\n",
              "      <td>3.451913</td>\n",
              "      <td>0.167155</td>\n",
              "      <td>2.004787</td>\n",
              "      <td>0.465233</td>\n",
              "      <td>0.544894</td>\n",
              "      <td>0.183051</td>\n",
              "      <td>0.162961</td>\n",
              "      <td>0.142429</td>\n",
              "      <td>0.077498</td>\n",
              "      <td>686.622488</td>\n",
              "      <td>1560.256377</td>\n",
              "      <td>1937.211452</td>\n",
              "    </tr>\n",
              "  </tbody>\n",
              "</table>\n",
              "</div>"
            ],
            "text/plain": [
              "          instant               dteday      season          yr        mnth  \\\n",
              "count  731.000000                  731  731.000000  731.000000  731.000000   \n",
              "mean   366.000000  2012-01-01 00:00:00    2.496580    0.500684    6.519836   \n",
              "min      1.000000  2011-01-01 00:00:00    1.000000    0.000000    1.000000   \n",
              "25%    183.500000  2011-07-02 12:00:00    2.000000    0.000000    4.000000   \n",
              "50%    366.000000  2012-01-01 00:00:00    3.000000    1.000000    7.000000   \n",
              "75%    548.500000  2012-07-01 12:00:00    3.000000    1.000000   10.000000   \n",
              "max    731.000000  2012-12-31 00:00:00    4.000000    1.000000   12.000000   \n",
              "std    211.165812                  NaN    1.110807    0.500342    3.451913   \n",
              "\n",
              "          holiday     weekday  workingday  weathersit        temp       atemp  \\\n",
              "count  731.000000  731.000000  731.000000  731.000000  731.000000  731.000000   \n",
              "mean     0.028728    2.997264    0.683995    1.395349    0.495385    0.474354   \n",
              "min      0.000000    0.000000    0.000000    1.000000    0.059130    0.079070   \n",
              "25%      0.000000    1.000000    0.000000    1.000000    0.337083    0.337842   \n",
              "50%      0.000000    3.000000    1.000000    1.000000    0.498333    0.486733   \n",
              "75%      0.000000    5.000000    1.000000    2.000000    0.655417    0.608602   \n",
              "max      1.000000    6.000000    1.000000    3.000000    0.861667    0.840896   \n",
              "std      0.167155    2.004787    0.465233    0.544894    0.183051    0.162961   \n",
              "\n",
              "              hum   windspeed       casual   registered          cnt  \n",
              "count  731.000000  731.000000   731.000000   731.000000   731.000000  \n",
              "mean     0.627894    0.190486   848.176471  3656.172367  4504.348837  \n",
              "min      0.000000    0.022392     2.000000    20.000000    22.000000  \n",
              "25%      0.520000    0.134950   315.500000  2497.000000  3152.000000  \n",
              "50%      0.626667    0.180975   713.000000  3662.000000  4548.000000  \n",
              "75%      0.730209    0.233214  1096.000000  4776.500000  5956.000000  \n",
              "max      0.972500    0.507463  3410.000000  6946.000000  8714.000000  \n",
              "std      0.142429    0.077498   686.622488  1560.256377  1937.211452  "
            ]
          },
          "execution_count": 55,
          "metadata": {},
          "output_type": "execute_result"
        }
      ],
      "source": [
        "day_df.describe()"
      ]
    },
    {
      "cell_type": "markdown",
      "metadata": {},
      "source": [
        "**Insight:**\n",
        "- day_df.info() menampilkan informasi, yaitu:\n",
        "   - Rata-rata Penyewaan: Rata-rata penyewaan sepeda per hari adalah 848.18.\n",
        "   - Variasi Penyewaan: Penyewaan sepeda sangat bervariasi, dari 2 hingga 3410.\n",
        "   - Suhu Rata-rata: Suhu rata-rata adalah 0.495.\n",
        "   - Kelembaban Rata-rata: Kelembaban rata-rata adalah 0.628.\n",
        "   - Kecepatan Angin Rata-rata: Kecepatan angin rata-rata adalah 0.190.\n",
        "   - Distribusi Musim: Musim terdistribusi cukup merata (rata-rata 2.5 dari 4).\n",
        "   - Tahun: Data mencakup dua tahun (2011 dan 2012), dengan distribusi yang seimbang.\n",
        "   - Bulan: Data mencakup semua bulan dalam setahun.\n",
        "   - Hari Kerja: Sebagian besar hari adalah hari kerja (rata-rata 0.684).\n",
        "   - Penyewa Kasual (casual): jumlah penyewa kasual bervariasi dari 2 hingga 3410. ata-rata penyewa kasual adalah 848.\n",
        "   - Penyewa Terdaftar (registered): Jumlah penyewa terdaftar bervariasi dari 20 hingga 6946. Rata-rata penyewa terdaftar adalah 3656.\n",
        "   - Total Penyewaan (cnt): Total penyewaan bervariasi dari 22 hingga 8714. Rata-rata total penyewaan adalah 4504.\n",
        "   - Standar Deviasi: Nilai Standar deviasi yang cukup besar pada kolom Casual, Registered dan cnt, menunjukan bahwa nilai data pada kolom tersebut memiliki rentang nilai yang cukup lebar.\n",
        "   - Perbandingan Penyewa: Jumlah penyewa terdaftar secara signifikan lebih tinggi daripada penyewa kasual, menunjukkan bahwa sebagian besar penyewaan berasal dari pengguna terdaftar."
      ]
    },
    {
      "cell_type": "code",
      "execution_count": 56,
      "metadata": {},
      "outputs": [
        {
          "name": "stdout",
          "output_type": "stream",
          "text": [
            "             Hari Kerja   Hari Libur\n",
            "weathersit                          \n",
            "1           5023.902280  4905.154018\n",
            "2           4075.028249  4061.684647\n",
            "3           1799.500000  1803.285714\n"
          ]
        }
      ],
      "source": [
        "# Menghitung rata-rata penyewaan sepeda berdasarkan kondisi cuaca pada hari kerja dan hari libur\n",
        "cuaca_hari_kerja = day_df[day_df['workingday'] == 1].groupby('weathersit')['cnt'].mean()\n",
        "cuaca_hari_libur = day_df[day_df['holiday'] == 0].groupby('weathersit')['cnt'].mean()\n",
        "\n",
        "# Menggabungkan hasil dalam satu DataFrame untuk perbandingan\n",
        "cuaca_pengaruh_df = pd.DataFrame({\n",
        "    'Hari Kerja': cuaca_hari_kerja,\n",
        "    'Hari Libur': cuaca_hari_libur\n",
        "})\n",
        "\n",
        "# Menampilkan hasil analisis\n",
        "print(cuaca_pengaruh_df)\n"
      ]
    },
    {
      "cell_type": "markdown",
      "metadata": {},
      "source": [
        "**Insight:**\n",
        "- Cuaca Cerah (weathersit = 1): Cuaca cerah menghasilkan jumlah penyewa sepeda tertinggi, baik pada hari kerja (rata-rata 5023.90 sepeda) maupun hari libur (rata-rata 4905.15 sepeda). Terlihat sedikit lebih banyak penyewaan sepeda pada hari kerja saat cuaca cerah.\n",
        "\n",
        "- Cuaca Mendung (weathersit = 2): Cuaca mendung menyebabkan penurunan jumlah penyewa sepeda dibandingkan cuaca cerah. Pada hari kerja, rata-rata penyewaan adalah 4075.03 sepeda (penurunan sekitar 19%). Pada hari libur, rata-rata penyewaan adalah 4061.68 sepeda (penurunan sekitar 17%).\n",
        "\n",
        "- Hujan Ringan (weathersit = 3): Hujan ringan menghasilkan jumlah penyewa sepeda terendah. Pada hari kerja, rata-rata penyewaan adalah 1799.50 sepeda (penurunan sekitar 64% dari cuaca cerah). Pada hari libur, rata-rata penyewaan adalah 1803.29 sepeda (penurunan sekitar 63% dari cuaca cerah). Jumlah penyewaan sepeda saat hujan ringan hanya sekitar 35% dari jumlah penyewaan saat cuaca cerah."
      ]
    },
    {
      "cell_type": "code",
      "execution_count": 57,
      "metadata": {},
      "outputs": [
        {
          "name": "stdout",
          "output_type": "stream",
          "text": [
            "       Total  Kasual  Terdaftar\n",
            "mnth                           \n",
            "1     134933   12042     122891\n",
            "2     151352   14963     136389\n",
            "3     228920   44444     184476\n",
            "4     269094   60802     208292\n",
            "5     331686   75285     256401\n",
            "6     346342   73906     272436\n",
            "7     344948   78157     266791\n",
            "8     351194   72039     279155\n",
            "9     345991   70323     275668\n",
            "10    322352   59760     262592\n",
            "11    254831   36603     218228\n",
            "12    211036   21693     189343\n"
          ]
        }
      ],
      "source": [
        "# Menampilkan tren penyewaan sepeda setiap bulan\n",
        "monthly_rentals = day_df.groupby(by=\"mnth\").agg({\n",
        "    \"cnt\": \"sum\",\n",
        "    \"casual\": \"sum\",\n",
        "    \"registered\": \"sum\"\n",
        "}).rename(columns={\"cnt\": \"Total\", \"casual\": \"Kasual\", \"registered\": \"Terdaftar\"})\n",
        "print(monthly_rentals)"
      ]
    },
    {
      "cell_type": "markdown",
      "metadata": {},
      "source": [
        "**Insight:**\n",
        "- Pola Musiman yang Kuat: Terdapat pola musiman yang sangat jelas dalam penyewaan sepeda. Bulan-bulan musim panas (Juni, Juli, Agustus) menunjukkan jumlah penyewaan tertinggi. Sebaliknya, bulan-bulan musim dingin (Januari, Februari, Desember) menunjukkan jumlah penyewaan terendah.\n",
        "- Dominasi Pengguna Terdaftar: Jumlah penyewaan oleh pengguna terdaftar secara konsisten jauh lebih tinggi daripada penyewaan oleh pengguna kasual di setiap bulan. Ini menunjukkan bahwa layanan penyewaan sepeda memiliki basis pelanggan setia yang kuat.\n",
        "- Variasi Penyewaan Kasual: Penyewaan kasual menunjukkan variasi yang lebih besar dibandingkan penyewaan terdaftar, terutama selama bulan-bulan puncak musim panas. Hal ini mungkin mengindikasikan bahwa pengguna kasual lebih dipengaruhi oleh faktor-faktor seperti cuaca dan liburan.\n",
        "- Bulan Puncak dan Rendah: Agustus adalah bulan dengan total penyewaan tertinggi, dengan lebih dari 350.000 penyewaan. Januari adalah bulan dengan total penyewaan terendah, dengan kurang dari 140.000 penyewaan.\n",
        "- Tren Pertumbuhan dan Penurunan: Terjadi peningkatan yang stabil dalam penyewaan dari Januari hingga Agustus, diikuti oleh penurunan yang stabil dari September hingga Desember. Tren ini mengkonfirmasi pengaruh kuat musim terhadap penggunaan layanan penyewaan sepeda.\n"
      ]
    },
    {
      "cell_type": "code",
      "execution_count": 58,
      "metadata": {},
      "outputs": [
        {
          "name": "stdout",
          "output_type": "stream",
          "text": [
            "            cnt  casual  registered\n",
            "season                             \n",
            "1        471348   60622      410726\n",
            "2        918589  203522      715067\n",
            "3       1061129  226091      835038\n",
            "4        841613  129782      711831\n"
          ]
        }
      ],
      "source": [
        "# Penggunaan Sepeda Berdasarkan Musim\n",
        "print(day_df.groupby(by=\"season\").agg({\n",
        "    \"cnt\": \"sum\",\n",
        "    \"casual\": \"sum\",\n",
        "    \"registered\": \"sum\"\n",
        "}))"
      ]
    },
    {
      "cell_type": "markdown",
      "metadata": {},
      "source": [
        "**Insight:**\n",
        "- Musim Panas Puncak Penyewaan: Musim panas (musim 3) memiliki jumlah penyewaan sepeda tertinggi, mengindikasikan bahwa cuaca hangat mendorong lebih banyak orang untuk bersepeda.\n",
        "- Musim Dingin Paling Sepi: Musim dingin (musim 1) memiliki jumlah penyewaan sepeda terendah, menunjukkan penurunan minat bersepeda saat cuaca dingin.\n",
        "- Pengguna Terdaftar Dominan: Di setiap musim, jumlah penyewaan oleh pengguna terdaftar secara signifikan lebih tinggi daripada pengguna kasual, menandakan basis pelanggan yang loyal.\n",
        "- Tren Musiman: Data ini mengkonfirmasi tren musiman yang terlihat pada analisis bulanan, di mana penyewaan mencapai puncaknya di musim panas dan terendah di musim dingin.\n",
        "- Variasi Penyewaan Kasual: Penyewaan kasual menunjukkan variasi yang lebih besar antar musim, terutama di musim panas, mengindikasikan pengaruh cuaca yang lebih kuat pada pengguna kasual.\n"
      ]
    },
    {
      "cell_type": "code",
      "execution_count": 59,
      "metadata": {},
      "outputs": [
        {
          "name": "stdout",
          "output_type": "stream",
          "text": [
            "Korelasi antara Cuaca dan Penyewaan Sepeda (hour_df):\n",
            "               temp       hum  windspeed       cnt\n",
            "temp       1.000000  0.126963  -0.157944  0.627494\n",
            "hum        0.126963  1.000000  -0.248489 -0.100659\n",
            "windspeed -0.157944 -0.248489   1.000000 -0.234545\n",
            "cnt        0.627494 -0.100659  -0.234545  1.000000\n"
          ]
        }
      ],
      "source": [
        "# Cek Korelasi antara Cuaca dan Penyewaan Sepeda\n",
        "if {'temp', 'hum', 'windspeed', 'cnt'}.issubset(day_df.columns):\n",
        "    print(\"Korelasi antara Cuaca dan Penyewaan Sepeda (hour_df):\")\n",
        "    print(day_df[['temp', 'hum', 'windspeed', 'cnt']].corr())"
      ]
    },
    {
      "cell_type": "markdown",
      "metadata": {},
      "source": [
        "**Insight:**\n",
        "- Suhu Mempengaruhi Penyewaan: Suhu memiliki korelasi positif yang cukup kuat dengan jumlah penyewaan sepeda, artinya semakin tinggi suhu, semakin banyak orang yang menyewa sepeda.\n",
        "- Kelembaban Kurang Berpengaruh: Kelembaban memiliki korelasi negatif yang sangat lemah dengan jumlah penyewaan sepeda, sehingga pengaruhnya terhadap jumlah penyewaan tidak signifikan.\n",
        "- Angin Sedikit Menghambat: Kecepatan angin memiliki korelasi negatif yang lemah dengan jumlah penyewaan sepeda, menunjukkan bahwa angin yang lebih kencang cenderung sedikit mengurangi jumlah penyewaan.\n",
        "- Suhu dan Angin Berlawanan: Terdapat korelasi negatif antara suhu dan kecepatan angin, menunjukkan bahwa pada suhu yang lebih tinggi, kecepatan angin cenderung lebih rendah.\n",
        "- Kelembaban dan Angin Berlawanan: Terdapat korelasi negatif antara kelembaban dan kecepatan angin, menunjukkan bahwa pada kelembaban yang lebih tinggi, kecepatan angin cenderung lebih rendah."
      ]
    },
    {
      "cell_type": "code",
      "execution_count": 60,
      "metadata": {},
      "outputs": [
        {
          "name": "stdout",
          "output_type": "stream",
          "text": [
            "      count         mean          std     min      25%     50%      75%  \\\n",
            "mnth                                                                      \n",
            "1      62.0  2176.338710  1161.674370   431.0  1251.75  1939.0  3235.75   \n",
            "2      57.0  2655.298246  1145.313307  1005.0  1623.00  2402.0  3777.00   \n",
            "3      62.0  3692.258065  1899.301812   605.0  2077.00  3216.5  5361.00   \n",
            "4      60.0  4484.900000  1776.160778   795.0  3188.25  4293.5  6205.25   \n",
            "5      62.0  5349.774194  1298.711561  2633.0  4409.00  4890.5  6405.50   \n",
            "6      60.0  5772.366667  1240.400031  3767.0  4834.50  5308.5  6983.00   \n",
            "7      62.0  5563.677419  1273.751871  3285.0  4491.50  5446.5  6678.75   \n",
            "8      62.0  5664.419355  1494.516146  1115.0  4582.50  5229.5  7121.00   \n",
            "9      60.0  5766.516667  1810.130649  1842.0  4532.00  5384.0  7509.25   \n",
            "10     62.0  5199.225806  1988.392517    22.0  3967.25  5013.0  7238.75   \n",
            "11     60.0  4247.183333  1285.712709  1495.0  3386.00  4081.0  5317.00   \n",
            "12     62.0  3403.806452  1549.639353   441.0  2425.00  3444.0  4633.00   \n",
            "\n",
            "         max  \n",
            "mnth          \n",
            "1     4521.0  \n",
            "2     5062.0  \n",
            "3     8362.0  \n",
            "4     7460.0  \n",
            "5     8294.0  \n",
            "6     8120.0  \n",
            "7     8173.0  \n",
            "8     7865.0  \n",
            "9     8714.0  \n",
            "10    8156.0  \n",
            "11    6852.0  \n",
            "12    6606.0  \n"
          ]
        }
      ],
      "source": [
        "# Statistik deskriptif penyewaan sepeda per bulan\n",
        "print(day_df.groupby('mnth')['cnt'].describe())"
      ]
    },
    {
      "cell_type": "markdown",
      "metadata": {},
      "source": [
        "**Insight:**\n",
        "- Musim Panas Puncak Penyewaan: Jumlah penyewaan sepeda rata-rata mencapai puncaknya pada bulan-bulan musim panas, yaitu Juni, Juli, Agustus, dan September, menunjukkan popularitas layanan penyewaan yang tinggi pada periode tersebut.\n",
        "- Musim Dingin Sepi Penyewaan: Rata-rata penyewaan sepeda paling rendah terjadi pada bulan-bulan musim dingin, yaitu Januari, Februari, dan Desember, mengindikasikan penurunan minat pada saat cuaca dingin.\n",
        "- Variasi Penyewaan Tinggi: Standar deviasi yang cukup besar menunjukkan bahwa terdapat variasi yang signifikan dalam jumlah penyewaan setiap bulannya, yang mungkin dipengaruhi oleh faktor cuaca dan hari libur.\n",
        "- Fluktuasi Harian Besar: Rentang yang luas antara nilai minimum dan maksimum penyewaan menunjukkan adanya fluktuasi harian yang besar dalam penggunaan sepeda sewaan.\n",
        "- Distribusi Penyewaan Bervariasi: Nilai persentil menunjukkan distribusi penyewaan yang berbeda-beda setiap bulannya, menggambarkan bagaimana penyewaan terdistribusi di sekitar nilai rata-rata."
      ]
    },
    {
      "cell_type": "markdown",
      "metadata": {},
      "source": [
        "### Explore data hour_df"
      ]
    },
    {
      "cell_type": "code",
      "execution_count": 61,
      "metadata": {},
      "outputs": [
        {
          "name": "stdout",
          "output_type": "stream",
          "text": [
            "<class 'pandas.core.frame.DataFrame'>\n",
            "RangeIndex: 17379 entries, 0 to 17378\n",
            "Data columns (total 17 columns):\n",
            " #   Column      Non-Null Count  Dtype         \n",
            "---  ------      --------------  -----         \n",
            " 0   instant     17379 non-null  int64         \n",
            " 1   dteday      17379 non-null  datetime64[ns]\n",
            " 2   season      17379 non-null  int64         \n",
            " 3   yr          17379 non-null  int64         \n",
            " 4   mnth        17379 non-null  int64         \n",
            " 5   hr          17379 non-null  int64         \n",
            " 6   holiday     17379 non-null  int64         \n",
            " 7   weekday     17379 non-null  int64         \n",
            " 8   workingday  17379 non-null  int64         \n",
            " 9   weathersit  17379 non-null  int64         \n",
            " 10  temp        17379 non-null  float64       \n",
            " 11  atemp       17379 non-null  float64       \n",
            " 12  hum         17379 non-null  float64       \n",
            " 13  windspeed   17379 non-null  float64       \n",
            " 14  casual      17379 non-null  int64         \n",
            " 15  registered  17379 non-null  int64         \n",
            " 16  cnt         17379 non-null  int64         \n",
            "dtypes: datetime64[ns](1), float64(4), int64(12)\n",
            "memory usage: 2.3 MB\n"
          ]
        }
      ],
      "source": [
        "hour_df.info()"
      ]
    },
    {
      "cell_type": "markdown",
      "metadata": {},
      "source": [
        "**Insight:**\n",
        "- Dataset ini berisi 17.379 entri yang mewakili data penyewaan sepeda per jam. Terdapat 17 kolom dengan berbagai tipe data, termasuk tanggal, numerik bilangan bulat, dan numerik desimal. Semua kolom memiliki 17.379 nilai non-null, menunjukkan bahwa tidak ada data yang hilang. Penggunaan memori untuk DataFrame ini adalah sekitar 2.3 MB. Kolom tanggal (dteday) menunjukkan bahwa data mencakup periode waktu tertentu dengan detail per jam. Kolom numerik kemungkinan berisi informasi tentang kondisi cuaca, waktu, dan detail penyewaan sepeda."
      ]
    },
    {
      "cell_type": "code",
      "execution_count": 62,
      "metadata": {},
      "outputs": [
        {
          "data": {
            "text/html": [
              "<div>\n",
              "<style scoped>\n",
              "    .dataframe tbody tr th:only-of-type {\n",
              "        vertical-align: middle;\n",
              "    }\n",
              "\n",
              "    .dataframe tbody tr th {\n",
              "        vertical-align: top;\n",
              "    }\n",
              "\n",
              "    .dataframe thead th {\n",
              "        text-align: right;\n",
              "    }\n",
              "</style>\n",
              "<table border=\"1\" class=\"dataframe\">\n",
              "  <thead>\n",
              "    <tr style=\"text-align: right;\">\n",
              "      <th></th>\n",
              "      <th>instant</th>\n",
              "      <th>dteday</th>\n",
              "      <th>season</th>\n",
              "      <th>yr</th>\n",
              "      <th>mnth</th>\n",
              "      <th>hr</th>\n",
              "      <th>holiday</th>\n",
              "      <th>weekday</th>\n",
              "      <th>workingday</th>\n",
              "      <th>weathersit</th>\n",
              "      <th>temp</th>\n",
              "      <th>atemp</th>\n",
              "      <th>hum</th>\n",
              "      <th>windspeed</th>\n",
              "      <th>casual</th>\n",
              "      <th>registered</th>\n",
              "      <th>cnt</th>\n",
              "    </tr>\n",
              "  </thead>\n",
              "  <tbody>\n",
              "    <tr>\n",
              "      <th>count</th>\n",
              "      <td>17379.0000</td>\n",
              "      <td>17379</td>\n",
              "      <td>17379.000000</td>\n",
              "      <td>17379.000000</td>\n",
              "      <td>17379.000000</td>\n",
              "      <td>17379.000000</td>\n",
              "      <td>17379.000000</td>\n",
              "      <td>17379.000000</td>\n",
              "      <td>17379.000000</td>\n",
              "      <td>17379.000000</td>\n",
              "      <td>17379.000000</td>\n",
              "      <td>17379.000000</td>\n",
              "      <td>17379.000000</td>\n",
              "      <td>17379.000000</td>\n",
              "      <td>17379.000000</td>\n",
              "      <td>17379.000000</td>\n",
              "      <td>17379.000000</td>\n",
              "    </tr>\n",
              "    <tr>\n",
              "      <th>mean</th>\n",
              "      <td>8690.0000</td>\n",
              "      <td>2012-01-02 04:08:34.552045568</td>\n",
              "      <td>2.501640</td>\n",
              "      <td>0.502561</td>\n",
              "      <td>6.537775</td>\n",
              "      <td>11.546752</td>\n",
              "      <td>0.028770</td>\n",
              "      <td>3.003683</td>\n",
              "      <td>0.682721</td>\n",
              "      <td>1.425283</td>\n",
              "      <td>0.496987</td>\n",
              "      <td>0.475775</td>\n",
              "      <td>0.627229</td>\n",
              "      <td>0.190098</td>\n",
              "      <td>35.676218</td>\n",
              "      <td>153.786869</td>\n",
              "      <td>189.463088</td>\n",
              "    </tr>\n",
              "    <tr>\n",
              "      <th>min</th>\n",
              "      <td>1.0000</td>\n",
              "      <td>2011-01-01 00:00:00</td>\n",
              "      <td>1.000000</td>\n",
              "      <td>0.000000</td>\n",
              "      <td>1.000000</td>\n",
              "      <td>0.000000</td>\n",
              "      <td>0.000000</td>\n",
              "      <td>0.000000</td>\n",
              "      <td>0.000000</td>\n",
              "      <td>1.000000</td>\n",
              "      <td>0.020000</td>\n",
              "      <td>0.000000</td>\n",
              "      <td>0.000000</td>\n",
              "      <td>0.000000</td>\n",
              "      <td>0.000000</td>\n",
              "      <td>0.000000</td>\n",
              "      <td>1.000000</td>\n",
              "    </tr>\n",
              "    <tr>\n",
              "      <th>25%</th>\n",
              "      <td>4345.5000</td>\n",
              "      <td>2011-07-04 00:00:00</td>\n",
              "      <td>2.000000</td>\n",
              "      <td>0.000000</td>\n",
              "      <td>4.000000</td>\n",
              "      <td>6.000000</td>\n",
              "      <td>0.000000</td>\n",
              "      <td>1.000000</td>\n",
              "      <td>0.000000</td>\n",
              "      <td>1.000000</td>\n",
              "      <td>0.340000</td>\n",
              "      <td>0.333300</td>\n",
              "      <td>0.480000</td>\n",
              "      <td>0.104500</td>\n",
              "      <td>4.000000</td>\n",
              "      <td>34.000000</td>\n",
              "      <td>40.000000</td>\n",
              "    </tr>\n",
              "    <tr>\n",
              "      <th>50%</th>\n",
              "      <td>8690.0000</td>\n",
              "      <td>2012-01-02 00:00:00</td>\n",
              "      <td>3.000000</td>\n",
              "      <td>1.000000</td>\n",
              "      <td>7.000000</td>\n",
              "      <td>12.000000</td>\n",
              "      <td>0.000000</td>\n",
              "      <td>3.000000</td>\n",
              "      <td>1.000000</td>\n",
              "      <td>1.000000</td>\n",
              "      <td>0.500000</td>\n",
              "      <td>0.484800</td>\n",
              "      <td>0.630000</td>\n",
              "      <td>0.194000</td>\n",
              "      <td>17.000000</td>\n",
              "      <td>115.000000</td>\n",
              "      <td>142.000000</td>\n",
              "    </tr>\n",
              "    <tr>\n",
              "      <th>75%</th>\n",
              "      <td>13034.5000</td>\n",
              "      <td>2012-07-02 00:00:00</td>\n",
              "      <td>3.000000</td>\n",
              "      <td>1.000000</td>\n",
              "      <td>10.000000</td>\n",
              "      <td>18.000000</td>\n",
              "      <td>0.000000</td>\n",
              "      <td>5.000000</td>\n",
              "      <td>1.000000</td>\n",
              "      <td>2.000000</td>\n",
              "      <td>0.660000</td>\n",
              "      <td>0.621200</td>\n",
              "      <td>0.780000</td>\n",
              "      <td>0.253700</td>\n",
              "      <td>48.000000</td>\n",
              "      <td>220.000000</td>\n",
              "      <td>281.000000</td>\n",
              "    </tr>\n",
              "    <tr>\n",
              "      <th>max</th>\n",
              "      <td>17379.0000</td>\n",
              "      <td>2012-12-31 00:00:00</td>\n",
              "      <td>4.000000</td>\n",
              "      <td>1.000000</td>\n",
              "      <td>12.000000</td>\n",
              "      <td>23.000000</td>\n",
              "      <td>1.000000</td>\n",
              "      <td>6.000000</td>\n",
              "      <td>1.000000</td>\n",
              "      <td>4.000000</td>\n",
              "      <td>1.000000</td>\n",
              "      <td>1.000000</td>\n",
              "      <td>1.000000</td>\n",
              "      <td>0.850700</td>\n",
              "      <td>367.000000</td>\n",
              "      <td>886.000000</td>\n",
              "      <td>977.000000</td>\n",
              "    </tr>\n",
              "    <tr>\n",
              "      <th>std</th>\n",
              "      <td>5017.0295</td>\n",
              "      <td>NaN</td>\n",
              "      <td>1.106918</td>\n",
              "      <td>0.500008</td>\n",
              "      <td>3.438776</td>\n",
              "      <td>6.914405</td>\n",
              "      <td>0.167165</td>\n",
              "      <td>2.005771</td>\n",
              "      <td>0.465431</td>\n",
              "      <td>0.639357</td>\n",
              "      <td>0.192556</td>\n",
              "      <td>0.171850</td>\n",
              "      <td>0.192930</td>\n",
              "      <td>0.122340</td>\n",
              "      <td>49.305030</td>\n",
              "      <td>151.357286</td>\n",
              "      <td>181.387599</td>\n",
              "    </tr>\n",
              "  </tbody>\n",
              "</table>\n",
              "</div>"
            ],
            "text/plain": [
              "          instant                         dteday        season            yr  \\\n",
              "count  17379.0000                          17379  17379.000000  17379.000000   \n",
              "mean    8690.0000  2012-01-02 04:08:34.552045568      2.501640      0.502561   \n",
              "min        1.0000            2011-01-01 00:00:00      1.000000      0.000000   \n",
              "25%     4345.5000            2011-07-04 00:00:00      2.000000      0.000000   \n",
              "50%     8690.0000            2012-01-02 00:00:00      3.000000      1.000000   \n",
              "75%    13034.5000            2012-07-02 00:00:00      3.000000      1.000000   \n",
              "max    17379.0000            2012-12-31 00:00:00      4.000000      1.000000   \n",
              "std     5017.0295                            NaN      1.106918      0.500008   \n",
              "\n",
              "               mnth            hr       holiday       weekday    workingday  \\\n",
              "count  17379.000000  17379.000000  17379.000000  17379.000000  17379.000000   \n",
              "mean       6.537775     11.546752      0.028770      3.003683      0.682721   \n",
              "min        1.000000      0.000000      0.000000      0.000000      0.000000   \n",
              "25%        4.000000      6.000000      0.000000      1.000000      0.000000   \n",
              "50%        7.000000     12.000000      0.000000      3.000000      1.000000   \n",
              "75%       10.000000     18.000000      0.000000      5.000000      1.000000   \n",
              "max       12.000000     23.000000      1.000000      6.000000      1.000000   \n",
              "std        3.438776      6.914405      0.167165      2.005771      0.465431   \n",
              "\n",
              "         weathersit          temp         atemp           hum     windspeed  \\\n",
              "count  17379.000000  17379.000000  17379.000000  17379.000000  17379.000000   \n",
              "mean       1.425283      0.496987      0.475775      0.627229      0.190098   \n",
              "min        1.000000      0.020000      0.000000      0.000000      0.000000   \n",
              "25%        1.000000      0.340000      0.333300      0.480000      0.104500   \n",
              "50%        1.000000      0.500000      0.484800      0.630000      0.194000   \n",
              "75%        2.000000      0.660000      0.621200      0.780000      0.253700   \n",
              "max        4.000000      1.000000      1.000000      1.000000      0.850700   \n",
              "std        0.639357      0.192556      0.171850      0.192930      0.122340   \n",
              "\n",
              "             casual    registered           cnt  \n",
              "count  17379.000000  17379.000000  17379.000000  \n",
              "mean      35.676218    153.786869    189.463088  \n",
              "min        0.000000      0.000000      1.000000  \n",
              "25%        4.000000     34.000000     40.000000  \n",
              "50%       17.000000    115.000000    142.000000  \n",
              "75%       48.000000    220.000000    281.000000  \n",
              "max      367.000000    886.000000    977.000000  \n",
              "std       49.305030    151.357286    181.387599  "
            ]
          },
          "execution_count": 62,
          "metadata": {},
          "output_type": "execute_result"
        }
      ],
      "source": [
        "hour_df.describe()"
      ]
    },
    {
      "cell_type": "markdown",
      "metadata": {},
      "source": [
        "**Insight:**\n",
        "- Informasi dataset: \n",
        "  - Penyebaran Data: Data mencakup 17.379 entri, dengan rentang waktu dari 2011-01-01 hingga 2012-12-31, memberikan gambaran yang luas tentang pola penyewaan sepeda.\n",
        "  - Pola Musiman: Rata-rata musim (season) berada di sekitar 2.5, menunjukkan distribusi yang cukup merata di seluruh musim.\n",
        "  - Distribusi Jam: Rata-rata jam penyewaan adalah sekitar 11.5, dengan variasi dari jam 0 hingga 23, mencakup seluruh siklus harian.\n",
        "  - Hari Kerja Dominan: Rata-rata hari kerja (workingday) adalah 0.68, menunjukkan bahwa sebagian besar data tercatat pada hari kerja.\n",
        "  - Kondisi Cuaca Bervariasi: Rata-rata kondisi cuaca (weathersit) adalah 1.42, dengan variasi dari 1 hingga 4, menunjukkan adanya variasi kondisi cuaca dalam data.\n",
        "  - Suhu dan Kelembaban: Rata-rata suhu (temp) dan suhu terasa (atemp) berada di sekitar 0.5, dengan kelembaban (hum) rata-rata sekitar 0.63, menunjukkan kondisi cuaca yang beragam.\n",
        "  - Variasi Kecepatan Angin: Kecepatan angin (windspeed) memiliki variasi yang cukup besar, dengan rata-rata sekitar 0.19.\n",
        "  - Penyewa Kasual (casual): Jumlah penyewa kasual bervariasi dari 0 hingga 367. Rata-rata penyewa kasual adalah sekitar 35.68.\n",
        "  -  Penyewa Terdaftar (registered): Jumlah penyewa terdaftar bervariasi dari 0 hingga 886. Rata-rata penyewa terdaftar adalah sekitar 153.79.\n",
        "  - Total Penyewaan (cnt): Total penyewaan bervariasi dari 1 hingga 977.Rata-rata total penyewaan adalah sekitar 189.46.\n",
        "  - Perbandingan Penyewa: Jumlah penyewa terdaftar secara signifikan lebih tinggi daripada penyewa kasual, menunjukkan bahwa sebagian besar penyewaan berasal dari pengguna terdaftar.\n",
        "  - Standar deviasi: Nilai Standar deviasi yang cukup besar pada kolom Casual, Registered dan cnt, menunjukan bahwa nilai data pada kolom tersebut memiliki rentang nilai yang cukup lebar.\n"
      ]
    },
    {
      "cell_type": "code",
      "execution_count": 63,
      "metadata": {},
      "outputs": [
        {
          "name": "stdout",
          "output_type": "stream",
          "text": [
            "            Hari Kerja  Hari Libur\n",
            "weathersit                        \n",
            "1           208.458333  206.126084\n",
            "2           183.005327  175.979124\n",
            "3           112.775000  111.848962\n",
            "4           100.000000   74.333333\n"
          ]
        }
      ],
      "source": [
        "# Menghitung rata-rata penyewaan sepeda berdasarkan kondisi cuaca pada hari kerja dan hari libur\n",
        "cuaca_hari_kerja = hour_df[hour_df['workingday'] == 1].groupby('weathersit')['cnt'].mean()\n",
        "cuaca_akhir_pekan = hour_df[hour_df['holiday'] == 0].groupby('weathersit')['cnt'].mean()\n",
        "\n",
        "# Menggabungkan hasil dalam satu DataFrame untuk perbandingan\n",
        "cuaca_pengaruh_df = pd.DataFrame({\n",
        "    'Hari Kerja': cuaca_hari_kerja,\n",
        "    'Hari Libur': cuaca_akhir_pekan\n",
        "})\n",
        "\n",
        "# Menampilkan hasil analisis\n",
        "print(cuaca_pengaruh_df)\n"
      ]
    },
    {
      "cell_type": "markdown",
      "metadata": {},
      "source": [
        "**Insight:**\n",
        "- Cuaca Cerah Paling Diminati: Kondisi cuaca cerah (weathersit = 1) secara konsisten menghasilkan rata-rata penyewaan sepeda tertinggi, baik pada hari kerja maupun hari libur, menunjukkan preferensi pengguna terhadap cuaca yang baik.\n",
        "- Cuaca Mendung Pengaruhi Penyewaan: Kondisi cuaca mendung (weathersit = 2) menyebabkan penurunan rata-rata penyewaan sepeda dibandingkan cuaca cerah, baik pada hari kerja maupun hari libur, mengindikasikan bahwa cuaca kurang ideal mempengaruhi penggunaan sepeda.\n",
        "- Hujan Ringan Hambat Penyewaan: Hujan ringan (weathersit = 3) memiliki dampak yang signifikan terhadap penurunan rata-rata penyewaan sepeda, baik pada hari kerja maupun hari libur, menegaskan bahwa cuaca buruk sangat membatasi penggunaan sepeda.\n",
        "- Kondisi Cuaca Buruk Ekstrem: Kondisi cuaca ekstrem (weathersit = 4) memiliki rata-rata penyewaan terendah dan sangat rendah, baik pada hari kerja maupun hari libur, menunjukkan bahwa kondisi cuaca buruk ekstrem sangat menghambat penyewaan sepeda.\n",
        "- Perbandingan Hari Kerja dan Libur: Terdapat sedikit perbedaan rata-rata penyewaan antara hari kerja dan hari libur pada setiap kondisi cuaca, dengan hari kerja sedikit lebih tinggi, menunjukkan bahwa penggunaan sepeda sewaan cukup stabil di kedua jenis hari tersebut."
      ]
    },
    {
      "cell_type": "code",
      "execution_count": 64,
      "metadata": {},
      "outputs": [
        {
          "name": "stdout",
          "output_type": "stream",
          "text": [
            "         cnt  casual  registered\n",
            "mnth                            \n",
            "1     134933   12042      122891\n",
            "2     151352   14963      136389\n",
            "3     228920   44444      184476\n",
            "4     269094   60802      208292\n",
            "5     331686   75285      256401\n",
            "6     346342   73906      272436\n",
            "7     344948   78157      266791\n",
            "8     351194   72039      279155\n",
            "9     345991   70323      275668\n",
            "10    322352   59760      262592\n",
            "11    254831   36603      218228\n",
            "12    211036   21693      189343\n"
          ]
        }
      ],
      "source": [
        "# Menghitung total jumlah penyewaan sepeda setiap bulan\n",
        "print(hour_df.groupby(by=\"mnth\").agg({\n",
        "    \"cnt\": \"sum\",\n",
        "    \"casual\": \"sum\",\n",
        "    \"registered\": \"sum\"\n",
        "}))"
      ]
    },
    {
      "cell_type": "markdown",
      "metadata": {},
      "source": [
        "**Insight:**\n",
        "- Puncak Musim Panas: Jumlah penyewaan sepeda tertinggi terjadi pada bulan-bulan musim panas, khususnya Juni, Juli, dan Agustus, menunjukkan preferensi pengguna untuk bersepeda saat cuaca hangat.\n",
        "- Musim Dingin Sepi Peminat: Sebaliknya, jumlah penyewaan terendah terjadi pada bulan-bulan musim dingin, yaitu Januari dan Februari, mengindikasikan penurunan minat bersepeda saat cuaca dingin.\n",
        "- Pengguna Terdaftar Dominan: Penyewaan oleh pengguna terdaftar secara konsisten jauh lebih tinggi daripada pengguna kasual di setiap bulan, menandakan adanya basis pelanggan yang loyal.\n",
        "- Variasi Penyewaan Kasual: Penyewaan kasual menunjukkan fluktuasi yang lebih besar dibandingkan pengguna terdaftar, terutama di bulan-bulan puncak musim panas, mungkin dipengaruhi oleh faktor cuaca atau liburan.\n",
        "- Tren Musiman yang Jelas: Terjadi peningkatan stabil dalam penyewaan dari Januari hingga Agustus, diikuti penurunan stabil dari September hingga Desember, menegaskan pengaruh kuat musim terhadap penggunaan sepeda."
      ]
    },
    {
      "cell_type": "code",
      "execution_count": 65,
      "metadata": {},
      "outputs": [
        {
          "name": "stdout",
          "output_type": "stream",
          "text": [
            "            cnt  casual  registered\n",
            "season                             \n",
            "1        471348   60622      410726\n",
            "2        918589  203522      715067\n",
            "3       1061129  226091      835038\n",
            "4        841613  129782      711831\n"
          ]
        }
      ],
      "source": [
        "# Penggunaan Sepeda Berdasarkan Musim\n",
        "print(hour_df.groupby(by=\"season\").agg({\n",
        "    \"cnt\": \"sum\",\n",
        "    \"casual\": \"sum\",\n",
        "    \"registered\": \"sum\"\n",
        "}))"
      ]
    },
    {
      "cell_type": "markdown",
      "metadata": {},
      "source": [
        "**Insight:**\n",
        "- Puncak Musim Panas: Musim panas (musim 3) mencatat jumlah penyewaan sepeda tertinggi.\n",
        "- Musim Dingin Terendah: Musim dingin (musim 1) memiliki jumlah penyewaan terendah.\n",
        "- Pengguna Terdaftar Dominan: Penyewaan oleh pengguna terdaftar selalu lebih tinggi dari pengguna kasual.\n",
        "- Variasi Musiman: Penyewaan kasual paling bervariasi antar musim."
      ]
    },
    {
      "cell_type": "code",
      "execution_count": 66,
      "metadata": {},
      "outputs": [
        {
          "name": "stdout",
          "output_type": "stream",
          "text": [
            "Korelasi antara Cuaca dan Penyewaan Sepeda (hour_df):\n",
            "               temp       hum  windspeed       cnt\n",
            "temp       1.000000 -0.069881  -0.023125  0.404772\n",
            "hum       -0.069881  1.000000  -0.290105 -0.322911\n",
            "windspeed -0.023125 -0.290105   1.000000  0.093234\n",
            "cnt        0.404772 -0.322911   0.093234  1.000000\n"
          ]
        }
      ],
      "source": [
        "# Cek Korelasi antara Cuaca dan Penyewaan Sepeda\n",
        "if {'temp', 'hum', 'windspeed', 'cnt'}.issubset(hour_df.columns):\n",
        "    print(\"Korelasi antara Cuaca dan Penyewaan Sepeda (hour_df):\")\n",
        "    print(hour_df[['temp', 'hum', 'windspeed', 'cnt']].corr())"
      ]
    },
    {
      "cell_type": "markdown",
      "metadata": {},
      "source": [
        "**Insight:**\n",
        "- Suhu Dominan: Suhu memiliki pengaruh positif yang paling kuat terhadap jumlah penyewaan sepeda.\n",
        "- Kelembaban Menghambat: Kelembaban tinggi cenderung mengurangi jumlah penyewaan.\n",
        "- Angin Minim Pengaruh: Kecepatan angin memiliki korelasi lemah dengan penyewaan.\n",
        "- Cuaca Berkorelasi: Terdapat hubungan antar variabel cuaca, terutama antara kelembaban dan kecepatan angin."
      ]
    },
    {
      "cell_type": "code",
      "execution_count": 67,
      "metadata": {},
      "outputs": [
        {
          "name": "stdout",
          "output_type": "stream",
          "text": [
            "       count        mean         std  min    25%    50%     75%    max\n",
            "mnth                                                                  \n",
            "1     1429.0   94.424773   99.907146  1.0  21.00   66.0  128.00  559.0\n",
            "2     1341.0  112.865026  112.486565  1.0  28.00   82.0  164.00  610.0\n",
            "3     1473.0  155.410726  163.543050  1.0  30.00  104.0  224.00  957.0\n",
            "4     1437.0  187.260960  181.137902  1.0  36.00  136.0  282.00  822.0\n",
            "5     1488.0  222.907258  187.721497  1.0  59.00  188.5  332.25  873.0\n",
            "6     1440.0  240.515278  196.038950  1.0  73.75  203.0  362.00  900.0\n",
            "7     1488.0  231.819892  187.483806  1.0  77.50  202.0  338.25  913.0\n",
            "8     1475.0  238.097627  200.444648  1.0  65.50  204.0  343.00  941.0\n",
            "9     1437.0  240.773138  214.609531  1.0  60.00  190.0  355.00  977.0\n",
            "10    1451.0  222.158511  203.477057  1.0  52.00  174.0  331.50  963.0\n",
            "11    1437.0  177.335421  158.973887  1.0  40.00  145.0  262.00  729.0\n",
            "12    1483.0  142.303439  141.080674  1.0  26.00  106.0  214.00  759.0\n"
          ]
        }
      ],
      "source": [
        "# Statistik deskriptif penyewaan sepeda per bulan\n",
        "print(hour_df.groupby('mnth')['cnt'].describe())"
      ]
    },
    {
      "cell_type": "markdown",
      "metadata": {},
      "source": [
        "**Insight:**\n",
        "- Informasi dataset: info() dan describe() untuk melihat struktur data dan statistik deskriptif.Suhu Meningkatkan Penyewaan: Terdapat korelasi positif antara suhu dan jumlah penyewaan sepeda, artinya semakin tinggi suhu, semakin banyak penyewaan.\n",
        "- Kelembaban Menurunkan Penyewaan: Kelembaban menunjukkan korelasi negatif dengan jumlah penyewaan sepeda, mengindikasikan bahwa kelembaban yang lebih tinggi cenderung mengurangi penyewaan.\n",
        "- Angin Kurang Berpengaruh: Kecepatan angin memiliki korelasi yang lemah dengan jumlah penyewaan sepeda, sehingga dampaknya tidak terlalu signifikan.\n",
        "- Suhu Faktor Utama: Suhu adalah faktor cuaca yang paling kuat mempengaruhi jumlah penyewaan sepeda.\n",
        "- Hubungan Negatif Antar Cuaca: Terdapat korelasi negatif antara kelembaban dan kecepatan angin, menunjukkan bahwa ketika kelembaban tinggi, kecepatan angin cenderung rendah, dan sebaliknya."
      ]
    },
    {
      "cell_type": "markdown",
      "metadata": {},
      "source": [
        "**Interpretasi Akhir:**\n",
        "\n",
        "Kesimpulan:\n",
        "\n",
        "1. Pengaruh Cuaca terhadap Jumlah Penyewa Sepeda (Hari Kerja & Hari Libur):\n",
        "- Suhu Faktor Utama: Suhu memiliki korelasi positif yang paling kuat dengan jumlah penyewaan sepeda. Baik pada hari kerja maupun hari libur, peningkatan suhu secara signifikan meningkatkan jumlah penyewaan.\n",
        "- Kelembaban & Angin: Kelembaban dan kecepatan angin menunjukkan korelasi negatif yang lebih lemah dengan jumlah penyewaan. Kelembaban tinggi dan angin kencang cenderung sedikit mengurangi jumlah penyewaan, namun pengaruhnya tidak sebesar suhu.\n",
        "- Preferensi Cuaca Cerah: Kondisi cuaca cerah (weathersit = 1) secara konsisten menghasilkan rata-rata penyewaan tertinggi, baik pada hari kerja maupun hari libur, menunjukkan preferensi pengguna terhadap cuaca yang baik.\n",
        "- Dampak Cuaca Buruk: Kondisi cuaca buruk seperti hujan ringan (weathersit = 3) dan cuaca ekstrem (weathersit = 4) memiliki dampak signifikan dalam menurunkan jumlah penyewaan.\n",
        "- Stabilitas Penyewaan: Terdapat sedikit perbedaan rata-rata penyewaan antara hari kerja dan hari libur pada setiap kondisi cuaca, dengan hari kerja sedikit lebih tinggi, menunjukkan bahwa penggunaan sepeda sewaan cukup stabil di kedua jenis hari tersebut.\n",
        "\n",
        "2. Tren Penyewaan Sepeda Setiap Bulan:\n",
        "- Pola Musiman yang Kuat: Jumlah penyewaan sepeda menunjukkan pola musiman yang sangat kuat.\n",
        "- Puncak Musim Panas: Bulan-bulan musim panas (Juni, Juli, Agustus) memiliki jumlah penyewaan tertinggi, menandakan popularitas sepeda sewaan yang lebih besar pada periode ini.\n",
        "- Musim Dingin Sepi Peminat: Bulan-bulan musim dingin (Januari, Februari, Desember) memiliki jumlah penyewaan terendah, mengindikasikan penurunan minat bersepeda saat cuaca dingin.\n",
        "- Pengguna Terdaftar Dominan: Penyewaan oleh pengguna terdaftar secara konsisten jauh lebih tinggi daripada pengguna kasual di setiap bulan, menandakan adanya basis pelanggan yang loyal.\n",
        "- Variasi Penyewaan Kasual: Penyewaan kasual menunjukkan fluktuasi yang lebih besar dibandingkan pengguna terdaftar, terutama di bulan-bulan puncak musim panas, mungkin dipengaruhi oleh faktor cuaca atau liburan.\n",
        "- Tren Pertumbuhan dan Penurunan: Terjadi peningkatan stabil dalam penyewaan dari Januari hingga Agustus, diikuti penurunan stabil dari September hingga Desember, menegaskan pengaruh kuat musim terhadap penggunaan sepeda."
      ]
    },
    {
      "cell_type": "markdown",
      "metadata": {
        "id": "zsyZjqak8DC2"
      },
      "source": [
        "## Visualization & Explanatory Analysis"
      ]
    },
    {
      "cell_type": "markdown",
      "metadata": {
        "id": "HZxOiQ6n8DC2"
      },
      "source": [
        "### Pertanyaan 1:"
      ]
    },
    {
      "cell_type": "code",
      "execution_count": 68,
      "metadata": {},
      "outputs": [
        {
          "data": {
            "image/png": "[encoded data removed]",
            "text/plain": [
              "<Figure size 1000x600 with 1 Axes>"
            ]
          },
          "metadata": {},
          "output_type": "display_data"
        }
      ],
      "source": [
        "# Hitung rata-rata penyewaan berdasarkan kondisi cuaca pada hari kerja dan akhir pekan\n",
        "cuaca_hari_kerja = hour_df[hour_df['workingday'] == 1].groupby('weathersit')['cnt'].mean()\n",
        "cuaca_hari_libur = hour_df[hour_df['holiday'] == 0].groupby('weathersit')['cnt'].mean()\n",
        "\n",
        "# Gabungkan hasil dalam DataFrame\n",
        "cuaca_pengaruh_df = pd.DataFrame({\n",
        "    'Hari Kerja': cuaca_hari_kerja,\n",
        "    'Hari Libur': cuaca_hari_libur\n",
        "})\n",
        "\n",
        "# Ubah indeks weathersit menjadi label deskriptif\n",
        "cuaca_pengaruh_df.index = ['Cerah', 'Mendung', 'Hujan Ringan', 'Cuaca Buruk']\n",
        "\n",
        "# Visualisasi dengan bar plot\n",
        "cuaca_pengaruh_df.plot(kind='bar', figsize=(10, 6), color=['steelblue', 'powderblue'])\n",
        "plt.title('Pengaruh Cuaca terhadap Penyewaan Sepeda')\n",
        "plt.xlabel('Kondisi Cuaca (weathersit)')\n",
        "plt.ylabel('Rata-rata Penyewaan')\n",
        "plt.xticks(rotation=0)  # Agar label sumbu x tidak berputar\n",
        "plt.show()"
      ]
    },
    {
      "cell_type": "markdown",
      "metadata": {},
      "source": [
        "**Insight:**\n",
        "- Cuaca Cerah Paling Diminati: Kondisi cuaca cerah (Cerah) memiliki rata-rata penyewaan sepeda tertinggi, baik pada hari kerja maupun hari libur.\n",
        "- Cuaca Buruk Kurangi Penyewaan: Kondisi cuaca buruk (Cuaca Buruk) memiliki rata-rata penyewaan sepeda terendah, baik pada hari kerja maupun hari libur.\n",
        "- Hari Kerja Sedikit Lebih Tinggi: Rata-rata penyewaan sepeda pada hari kerja sedikit lebih tinggi dibandingkan hari libur di semua kondisi cuaca.\n",
        "- Pengaruh Cuaca Konsisten: Pola pengaruh cuaca terhadap penyewaan sepeda relatif konsisten antara hari kerja dan hari libur.\n",
        "- Perbedaan Signifikan: Terdapat perbedaan signifikan dalam rata-rata penyewaan antara kondisi cuaca cerah dan kondisi cuaca buruk."
      ]
    },
    {
      "cell_type": "markdown",
      "metadata": {},
      "source": [
        "### Pertanyaan 2:"
      ]
    },
    {
      "cell_type": "code",
      "execution_count": 69,
      "metadata": {},
      "outputs": [
        {
          "data": {
            "image/png": "[encoded data removed]",
            "text/plain": [
              "<Figure size 1000x600 with 1 Axes>"
            ]
          },
          "metadata": {},
          "output_type": "display_data"
        }
      ],
      "source": [
        "# Hitung total penyewaan per bulan\n",
        "monthly_rentals = hour_df.groupby('mnth')['cnt'].sum()\n",
        "\n",
        "# Visualisasi dengan line plot\n",
        "plt.figure(figsize=(10, 6))\n",
        "plt.plot(monthly_rentals.index, monthly_rentals.values, marker='o')\n",
        "plt.title('Tren Penyewaan Sepeda Setiap Bulan')\n",
        "plt.xlabel('Bulan')\n",
        "plt.ylabel('Total Penyewaan')\n",
        "plt.xticks(range(1, 13), ['Jan', 'Feb', 'Mar', 'Apr', 'Mei', 'Jun', 'Jul', 'Agu', 'Sep', 'Okt', 'Nov', 'Des'])  # Set ticks untuk bulan 1-12 dan label bulan\n",
        "plt.grid(True)\n",
        "plt.show()"
      ]
    },
    {
      "cell_type": "markdown",
      "metadata": {},
      "source": [
        "**Insight:**\n",
        "- Puncak Musim Panas: Jumlah penyewaan sepeda mencapai puncaknya pada bulan-bulan musim panas, khususnya Juni, Juli, dan Agustus.\n",
        "- Musim Dingin Sepi Peminat: Jumlah penyewaan sepeda terendah terjadi pada bulan-bulan musim dingin, yaitu Januari dan Februari.\n",
        "- Tren Meningkat Stabil: Terdapat tren peningkatan stabil dalam penyewaan sepeda dari bulan Januari hingga Agustus.\n",
        "- Tren Menurun Stabil: Setelah puncak di bulan Agustus, terjadi tren penurunan stabil dalam penyewaan sepeda hingga bulan Desember.\n",
        "- Pola Musiman yang Jelas: Grafik menunjukkan pola musiman yang jelas, dengan fluktuasi signifikan antara bulan-bulan musim panas dan musim dingin."
      ]
    },
    {
      "cell_type": "markdown",
      "metadata": {
        "id": "9y4VUsmcYNZ5"
      },
      "source": [
        "## Analisis Lanjutan (Opsional)"
      ]
    },
    {
      "cell_type": "code",
      "execution_count": 70,
      "metadata": {},
      "outputs": [
        {
          "data": {
            "image/png": "[encoded data removed]",
            "text/plain": [
              "<Figure size 1200x600 with 1 Axes>"
            ]
          },
          "metadata": {},
          "output_type": "display_data"
        }
      ],
      "source": [
        "# Visualisasi untuk Pertanyaan 1: Bagaimana Bagaimana pengaruh cuaca terhadap jumlah penyewa sepeda, pada hari kerja dan hari libur?\n",
        "\n",
        "# Memuat Data\n",
        "hour_df = pd.read_csv(r\"C:\\submission\\data\\hour.csv\")\n",
        "\n",
        "# Fungsi untuk membuat kategori kondisi cuaca\n",
        "def kategori_cuaca(row):\n",
        "    if row['atemp'] > 0.6 and row['hum'] < 0.4 and row['windspeed'] < 0.3:\n",
        "        return 'Cerah & Hangat'\n",
        "    elif row['atemp'] < 0.3 and row['hum'] > 0.7 and row['windspeed'] > 0.5:\n",
        "        return 'Hujan & Dingin'\n",
        "    elif row['atemp'] < 0.5 and row['hum'] > 0.6 and row['windspeed'] < 0.4:\n",
        "        return 'Mendung & Dingin'\n",
        "    elif row['atemp'] > 0.6 and row['hum'] > 0.6 and row['windspeed'] < 0.3:\n",
        "        return 'Mendung & Hangat'\n",
        "\n",
        "# Membuat kolom kategori kondisi cuaca\n",
        "hour_df['kondisi_cuaca'] = hour_df.apply(kategori_cuaca, axis=1)\n",
        "\n",
        "# Menghitung rata-rata penyewaan berdasarkan kategori kondisi cuaca pada hari kerja dan hari libur\n",
        "cuaca_hari_kerja_kategori = hour_df[hour_df['workingday'] == 1].groupby('kondisi_cuaca')['cnt'].mean()\n",
        "cuaca_akhir_pekan_kategori = hour_df[hour_df['holiday'] == 0].groupby('kondisi_cuaca')['cnt'].mean()\n",
        "\n",
        "# Visualisasi\n",
        "plt.figure(figsize=(12, 6))\n",
        "cuaca_hari_kerja_kategori.plot(kind='bar', alpha=0.7, label='Hari Kerja', color = 'steelblue')\n",
        "cuaca_akhir_pekan_kategori.plot(kind='bar', color='powderblue', alpha=0.7, label='Hari Libur')\n",
        "plt.title('Analisis Pengaruh Cuaca dan Kecepatan Angin terhadap Penggunaan Sepeda (Hari Kerja vs. Hari Libur)')\n",
        "plt.xlabel('Kondisi Cuaca')\n",
        "plt.ylabel('Rata-rata Penyewaan')\n",
        "plt.legend()\n",
        "plt.show()"
      ]
    },
    {
      "cell_type": "markdown",
      "metadata": {},
      "source": [
        "**Insight:**\n",
        "- Cerah & Hangat Paling Diminati: Kondisi cuaca \"Cerah & Hangat\" memiliki rata-rata penyewaan sepeda tertinggi, baik pada hari kerja maupun hari libur.\n",
        "- Hujan & Dingin Paling Sepi: Kondisi cuaca \"Hujan & Dingin\" memiliki rata-rata penyewaan sepeda terendah.\n",
        "- Hari Kerja Sedikit Lebih Tinggi: Rata-rata penyewaan sepeda pada hari kerja sedikit lebih tinggi dibandingkan hari libur di semua kategori kondisi cuaca.\n",
        "- Pengaruh Konsisten: Pola pengaruh kondisi cuaca terhadap penyewaan sepeda relatif konsisten antara hari kerja dan hari libur.\n",
        "- Perbedaan Signifikan: Terdapat perbedaan signifikan dalam rata-rata penyewaan antara kondisi cuaca \"Cerah & Hangat\" dan \"Hujan & Dingin\".\n",
        "\n",
        "Kesimpulan: \n",
        "Kondisi cuaca cerah dan hangat sangat mendukung aktivitas penyewaan sepeda, sementara cuaca buruk secara signifikan mengurangi minat orang untuk bersepeda. Hari kerja cenderung memiliki sedikit lebih banyak penyewaan dibandingkan akhir pekan, namun tren pengaruh cuaca tetap sama."
      ]
    },
    {
      "cell_type": "code",
      "execution_count": 75,
      "metadata": {},
      "outputs": [
        {
          "data": {
            "image/png": "[encoded data removed]",
            "text/plain": [
              "<Figure size 1200x600 with 1 Axes>"
            ]
          },
          "metadata": {},
          "output_type": "display_data"
        }
      ],
      "source": [
        "# Visualisasi untuk Pertanyaan 2: Bagaimana tren penyewaan sepeda setiap bulan?\n",
        "\n",
        "\n",
        "# Memuat Data\n",
        "day_df = pd.read_csv((r\"C:\\submission\\data\\day.csv\"))\n",
        "day_df['dteday'] = pd.to_datetime(day_df['dteday'])\n",
        "day_df.set_index('dteday', inplace=True)\n",
        "\n",
        "#  Hitung total penyewaan per bulan\n",
        "monthly_rentals = hour_df.groupby('mnth')['cnt'].sum()\n",
        "\n",
        "# Buat kategori penyewaan\n",
        "bins = [0, monthly_rentals.quantile(0.33), monthly_rentals.quantile(0.66), monthly_rentals.max()]\n",
        "labels = ['Rendah', 'Sedang', 'Tinggi']\n",
        "monthly_rentals_cat = pd.cut(monthly_rentals, bins=bins, labels=labels)\n",
        "\n",
        "# Hitung jumlah bulan dalam setiap kategori\n",
        "category_counts = monthly_rentals_cat.value_counts().sort_index()\n",
        "\n",
        "# Visualisasi (Bar Chart)\n",
        "plt.figure(figsize=(12, 6))\n",
        "plt.bar(monthly_rentals.index, monthly_rentals.values, color=sns.color_palette('PuBu_r', len(monthly_rentals)))  # Bar chart\n",
        "plt.title('Total Penyewaan Sepeda per Bulan')  # Judul yang lebih sesuai\n",
        "plt.xlabel('Bulan')\n",
        "plt.ylabel('Total Penyewaan')\n",
        "plt.xticks(range(1, 13), ['Jan', 'Feb', 'Mar', 'Apr', 'Mei', 'Jun', 'Jul', 'Agu', 'Sep', 'Okt', 'Nov', 'Des'])\n",
        "plt.show()"
      ]
    },
    {
      "cell_type": "markdown",
      "metadata": {},
      "source": [
        "**Insight:**\n",
        "- Pola Musiman Kuat: Terlihat jelas adanya pola musiman dalam penyewaan sepeda.\n",
        "Puncak Musim Panas: Penyewaan tertinggi terjadi pada bulan-bulan musim panas (Juni, Juli, Agustus), dengan median dan kuartil tertinggi.\n",
        "- Musim Dingin Terendah: Penyewaan terendah terjadi pada bulan-bulan musim dingin (Januari, Februari, Desember), dengan median dan kuartil terendah.\n",
        "- Variasi Tinggi: Variasi penyewaan (rentang antar kuartil dan outlier) cenderung lebih tinggi pada bulan-bulan musim panas.\n",
        "- Outlier: Terdapat banyak outlier di semua bulan, menunjukkan adanya hari-hari dengan penyewaan yang sangat tinggi atau sangat rendah.\n",
        "- Tren Meningkat: Ada tren peningkatan penyewaan dari bulan Januari hingga Juni/Juli.\n",
        "- Tren Menurun: Setelah puncak di musim panas, ada tren penurunan penyewaan hingga bulan Desember.\n",
        "\n",
        "Kesimpulan:\n",
        "Visualisasi ini menunjukkan bahwa penyewaan sepeda sangat dipengaruhi oleh musim, dengan puncak di musim panas dan penurunan di musim dingin. Variasi penyewaan yang tinggi dan banyaknya outlier menunjukkan adanya faktor-faktor lain yang mempengaruhi penyewaan, seperti cuaca harian atau acara khusus."
      ]
    },
    {
      "cell_type": "markdown",
      "metadata": {
        "id": "_WeHlCeX8DC2"
      },
      "source": [
        "## Conclusion"
      ]
    },
    {
      "cell_type": "markdown",
      "metadata": {
        "id": "ZTcyR48Y8DC2"
      },
      "source": [
        "- Conclution pertanyaan 1\n",
        "1. Pengaruh Cuaca terhadap Jumlah Penyewa Sepeda (Hari Kerja & Akhir Pekan):\n",
        "\n",
        "\"Kondisi cuaca cerah dan hangat terbukti secara signifikan meningkatkan jumlah penyewaan sepeda, baik pada hari kerja maupun akhir pekan, menunjukkan preferensi yang kuat dari pengguna terhadap cuaca yang baik. Sebaliknya, kondisi cuaca buruk seperti hujan dan dingin secara signifikan mengurangi jumlah penyewaan, menegaskan bahwa cuaca buruk menjadi penghalang utama bagi pengguna sepeda. Secara umum, hari kerja menunjukkan rata-rata penyewaan yang sedikit lebih tinggi dibandingkan akhir pekan di semua kondisi cuaca, mungkin mencerminkan penggunaan komuter. Namun, pola pengaruh cuaca tetap konsisten di kedua jenis hari, menunjukkan bahwa preferensi cuaca pengguna tidak banyak berubah antara hari kerja dan akhir pekan.\"\n",
        "\n",
        "- Conclution pertanyaan 2\n",
        "2. Tren Penyewaan Sepeda Setiap Bulan:\n",
        "\n",
        "\"Analisis tren penyewaan sepeda bulanan mengungkapkan pola musiman yang kuat. Puncak penyewaan terjadi pada bulan-bulan musim panas, khususnya Juni, Juli, dan Agustus, yang mengindikasikan bahwa cuaca hangat dan kondisi luar ruangan yang menyenangkan sangat mendorong penggunaan sepeda. Sebaliknya, bulan-bulan musim dingin seperti Januari, Februari, dan Desember mengalami jumlah penyewaan terendah, yang mencerminkan keengganan untuk bersepeda dalam kondisi cuaca dingin. Tren peningkatan yang stabil diamati dari Januari hingga Juni/Juli, diikuti dengan penurunan bertahap hingga Desember, yang semakin memperkuat pengaruh musiman. Variasi penyewaan, yang diukur dengan rentang antar kuartil dan outlier, cenderung lebih tinggi selama bulan-bulan musim panas, yang menunjukkan potensi faktor tambahan yang mempengaruhi penyewaan selama periode ini. Kehadiran banyak outlier di semua bulan menunjukkan adanya hari-hari dengan penyewaan yang sangat tinggi atau sangat rendah, yang mungkin disebabkan oleh peristiwa atau kondisi cuaca tertentu.\"\n",
        "Penyewaan sepeda menunjukkan pola musiman yang jelas, dengan peningkatan signifikan pada musim panas (Mei–September) dan penurunan pada musim dingin (November–Januari). Hal ini mengindikasikan bahwa faktor musim dan suhu sangat berpengaruh terhadap tren penggunaan sepeda, dengan cuaca yang lebih hangat mendorong lebih banyak aktivitas bersepeda.\n",
        "\n",
        "Secara keseluruhan, analisis ini menyoroti dominasi pengaruh musiman terhadap pola penyewaan sepeda, dengan musim panas sebagai pendorong utama permintaan dan musim dingin sebagai penghalang utama. Pengguna terdaftar secara konsisten menyumbang jumlah penyewaan yang lebih besar daripada pengguna biasa, yang menunjukkan loyalitas yang kuat terhadap layanan ini. Selain itu, kondisi cuaca, terutama suhu, memainkan peran penting dalam menentukan jumlah penyewaan sepeda, dengan cuaca cerah dan hangat sangat disukai. Wawasan ini sangat berharga bagi pengelola layanan penyewaan sepeda, memungkinkan mereka untuk mengoptimalkan operasi, menyesuaikan strategi pemasaran, dan meningkatkan pengalaman pelanggan dengan mempertimbangkan fluktuasi musiman dan kondisi cuaca."
      ]
    },
    {
      "cell_type": "markdown",
      "metadata": {},
      "source": [
        "## Menyimpan 1 dataframe yang bersih"
      ]
    },
    {
      "cell_type": "code",
      "execution_count": 72,
      "metadata": {},
      "outputs": [],
      "source": [
        "day_df.to_csv('day.csv', index=False)"
      ]
    }
  ],
  "metadata": {
    "colab": {
      "provenance": []
    },
    "kernelspec": {
      "display_name": "Python 3",
      "language": "python",
      "name": "python3"
    },
    "language_info": {
      "codemirror_mode": {
        "name": "ipython",
        "version": 3
      },
      "file_extension": ".py",
      "mimetype": "text/x-python",
      "name": "python",
      "nbconvert_exporter": "python",
      "pygments_lexer": "ipython3",
      "version": "3.13.2"
    },
    "orig_nbformat": 4
  },
  "nbformat": 4,
  "nbformat_minor": 0
}
