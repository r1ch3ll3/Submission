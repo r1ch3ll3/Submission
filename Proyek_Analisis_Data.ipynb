{
  "cells": [
    {
      "cell_type": "markdown",
      "metadata": {
        "id": "H9wADwK78DCz"
      },
      "source": [
        "# Proyek Analisis Data: [Input Nama Dataset]\n",
        "- **Nama:** Richelle Vania Thionanda\n",
        "- **Email:** mc172d5x1392@student.devacademy.id\n",
        "- **ID Dicoding:** MC172D5X1392"
      ]
    },
    {
      "cell_type": "markdown",
      "metadata": {
        "id": "eE0raob58DC0"
      },
      "source": [
        "## Menentukan Pertanyaan Bisnis"
      ]
    },
    {
      "cell_type": "markdown",
      "metadata": {
        "id": "GmQeQ5YF8DC0"
      },
      "source": [
        "####  Membuat Prediksi\n",
        "- Bagaimana pengaruh cuaca terhadap jumlah penyewa sepeda, pada hari kerja dan akhir pekan?\n",
        " \n",
        "#### Menemukan Hubungan\n",
        "- Bagaimana tren penyewaan sepeda setiap bulan?"
      ]
    },
    {
      "cell_type": "markdown",
      "metadata": {
        "id": "H-z4QGlO8DC1"
      },
      "source": [
        "## Import Semua Packages/Library yang Digunakan"
      ]
    },
    {
      "cell_type": "code",
      "execution_count": 4,
      "metadata": {
        "id": "FVYwaObI8DC1"
      },
      "outputs": [],
      "source": [
        "import numpy as np\n",
        "import pandas as pd\n",
        "import matplotlib.pyplot as plt\n",
        "import seaborn as sns"
      ]
    },
    {
      "cell_type": "markdown",
      "metadata": {
        "id": "h_Sh51Xy8DC1"
      },
      "source": [
        "## Data Wrangling"
      ]
    },
    {
      "cell_type": "markdown",
      "metadata": {
        "id": "sXU2GBYu8DC1"
      },
      "source": [
        "### Gathering Data"
      ]
    },
    {
      "cell_type": "code",
      "execution_count": 5,
      "metadata": {
        "id": "zjCBk1BI8DC1"
      },
      "outputs": [
        {
          "data": {
            "text/html": [
              "<div>\n",
              "<style scoped>\n",
              "    .dataframe tbody tr th:only-of-type {\n",
              "        vertical-align: middle;\n",
              "    }\n",
              "\n",
              "    .dataframe tbody tr th {\n",
              "        vertical-align: top;\n",
              "    }\n",
              "\n",
              "    .dataframe thead th {\n",
              "        text-align: right;\n",
              "    }\n",
              "</style>\n",
              "<table border=\"1\" class=\"dataframe\">\n",
              "  <thead>\n",
              "    <tr style=\"text-align: right;\">\n",
              "      <th></th>\n",
              "      <th>instant</th>\n",
              "      <th>dteday</th>\n",
              "      <th>season</th>\n",
              "      <th>yr</th>\n",
              "      <th>mnth</th>\n",
              "      <th>holiday</th>\n",
              "      <th>weekday</th>\n",
              "      <th>workingday</th>\n",
              "      <th>weathersit</th>\n",
              "      <th>temp</th>\n",
              "      <th>atemp</th>\n",
              "      <th>hum</th>\n",
              "      <th>windspeed</th>\n",
              "      <th>casual</th>\n",
              "      <th>registered</th>\n",
              "      <th>cnt</th>\n",
              "    </tr>\n",
              "  </thead>\n",
              "  <tbody>\n",
              "    <tr>\n",
              "      <th>0</th>\n",
              "      <td>1</td>\n",
              "      <td>2011-01-01</td>\n",
              "      <td>1</td>\n",
              "      <td>0</td>\n",
              "      <td>1</td>\n",
              "      <td>0</td>\n",
              "      <td>6</td>\n",
              "      <td>0</td>\n",
              "      <td>2</td>\n",
              "      <td>0.344167</td>\n",
              "      <td>0.363625</td>\n",
              "      <td>0.805833</td>\n",
              "      <td>0.160446</td>\n",
              "      <td>331</td>\n",
              "      <td>654</td>\n",
              "      <td>985</td>\n",
              "    </tr>\n",
              "    <tr>\n",
              "      <th>1</th>\n",
              "      <td>2</td>\n",
              "      <td>2011-01-02</td>\n",
              "      <td>1</td>\n",
              "      <td>0</td>\n",
              "      <td>1</td>\n",
              "      <td>0</td>\n",
              "      <td>0</td>\n",
              "      <td>0</td>\n",
              "      <td>2</td>\n",
              "      <td>0.363478</td>\n",
              "      <td>0.353739</td>\n",
              "      <td>0.696087</td>\n",
              "      <td>0.248539</td>\n",
              "      <td>131</td>\n",
              "      <td>670</td>\n",
              "      <td>801</td>\n",
              "    </tr>\n",
              "    <tr>\n",
              "      <th>2</th>\n",
              "      <td>3</td>\n",
              "      <td>2011-01-03</td>\n",
              "      <td>1</td>\n",
              "      <td>0</td>\n",
              "      <td>1</td>\n",
              "      <td>0</td>\n",
              "      <td>1</td>\n",
              "      <td>1</td>\n",
              "      <td>1</td>\n",
              "      <td>0.196364</td>\n",
              "      <td>0.189405</td>\n",
              "      <td>0.437273</td>\n",
              "      <td>0.248309</td>\n",
              "      <td>120</td>\n",
              "      <td>1229</td>\n",
              "      <td>1349</td>\n",
              "    </tr>\n",
              "    <tr>\n",
              "      <th>3</th>\n",
              "      <td>4</td>\n",
              "      <td>2011-01-04</td>\n",
              "      <td>1</td>\n",
              "      <td>0</td>\n",
              "      <td>1</td>\n",
              "      <td>0</td>\n",
              "      <td>2</td>\n",
              "      <td>1</td>\n",
              "      <td>1</td>\n",
              "      <td>0.200000</td>\n",
              "      <td>0.212122</td>\n",
              "      <td>0.590435</td>\n",
              "      <td>0.160296</td>\n",
              "      <td>108</td>\n",
              "      <td>1454</td>\n",
              "      <td>1562</td>\n",
              "    </tr>\n",
              "    <tr>\n",
              "      <th>4</th>\n",
              "      <td>5</td>\n",
              "      <td>2011-01-05</td>\n",
              "      <td>1</td>\n",
              "      <td>0</td>\n",
              "      <td>1</td>\n",
              "      <td>0</td>\n",
              "      <td>3</td>\n",
              "      <td>1</td>\n",
              "      <td>1</td>\n",
              "      <td>0.226957</td>\n",
              "      <td>0.229270</td>\n",
              "      <td>0.436957</td>\n",
              "      <td>0.186900</td>\n",
              "      <td>82</td>\n",
              "      <td>1518</td>\n",
              "      <td>1600</td>\n",
              "    </tr>\n",
              "  </tbody>\n",
              "</table>\n",
              "</div>"
            ],
            "text/plain": [
              "   instant      dteday  season  yr  mnth  holiday  weekday  workingday  \\\n",
              "0        1  2011-01-01       1   0     1        0        6           0   \n",
              "1        2  2011-01-02       1   0     1        0        0           0   \n",
              "2        3  2011-01-03       1   0     1        0        1           1   \n",
              "3        4  2011-01-04       1   0     1        0        2           1   \n",
              "4        5  2011-01-05       1   0     1        0        3           1   \n",
              "\n",
              "   weathersit      temp     atemp       hum  windspeed  casual  registered  \\\n",
              "0           2  0.344167  0.363625  0.805833   0.160446     331         654   \n",
              "1           2  0.363478  0.353739  0.696087   0.248539     131         670   \n",
              "2           1  0.196364  0.189405  0.437273   0.248309     120        1229   \n",
              "3           1  0.200000  0.212122  0.590435   0.160296     108        1454   \n",
              "4           1  0.226957  0.229270  0.436957   0.186900      82        1518   \n",
              "\n",
              "    cnt  \n",
              "0   985  \n",
              "1   801  \n",
              "2  1349  \n",
              "3  1562  \n",
              "4  1600  "
            ]
          },
          "execution_count": 5,
          "metadata": {},
          "output_type": "execute_result"
        }
      ],
      "source": [
        "#Membuat tabel day\n",
        "day_df = pd.read_csv(r\"C:\\Submission\\Data\\day.csv\")\n",
        "day_df.head()"
      ]
    },
    {
      "cell_type": "code",
      "execution_count": 6,
      "metadata": {},
      "outputs": [
        {
          "data": {
            "text/html": [
              "<div>\n",
              "<style scoped>\n",
              "    .dataframe tbody tr th:only-of-type {\n",
              "        vertical-align: middle;\n",
              "    }\n",
              "\n",
              "    .dataframe tbody tr th {\n",
              "        vertical-align: top;\n",
              "    }\n",
              "\n",
              "    .dataframe thead th {\n",
              "        text-align: right;\n",
              "    }\n",
              "</style>\n",
              "<table border=\"1\" class=\"dataframe\">\n",
              "  <thead>\n",
              "    <tr style=\"text-align: right;\">\n",
              "      <th></th>\n",
              "      <th>instant</th>\n",
              "      <th>dteday</th>\n",
              "      <th>season</th>\n",
              "      <th>yr</th>\n",
              "      <th>mnth</th>\n",
              "      <th>hr</th>\n",
              "      <th>holiday</th>\n",
              "      <th>weekday</th>\n",
              "      <th>workingday</th>\n",
              "      <th>weathersit</th>\n",
              "      <th>temp</th>\n",
              "      <th>atemp</th>\n",
              "      <th>hum</th>\n",
              "      <th>windspeed</th>\n",
              "      <th>casual</th>\n",
              "      <th>registered</th>\n",
              "      <th>cnt</th>\n",
              "    </tr>\n",
              "  </thead>\n",
              "  <tbody>\n",
              "    <tr>\n",
              "      <th>0</th>\n",
              "      <td>1</td>\n",
              "      <td>2011-01-01</td>\n",
              "      <td>1</td>\n",
              "      <td>0</td>\n",
              "      <td>1</td>\n",
              "      <td>0</td>\n",
              "      <td>0</td>\n",
              "      <td>6</td>\n",
              "      <td>0</td>\n",
              "      <td>1</td>\n",
              "      <td>0.24</td>\n",
              "      <td>0.2879</td>\n",
              "      <td>0.81</td>\n",
              "      <td>0.0</td>\n",
              "      <td>3</td>\n",
              "      <td>13</td>\n",
              "      <td>16</td>\n",
              "    </tr>\n",
              "    <tr>\n",
              "      <th>1</th>\n",
              "      <td>2</td>\n",
              "      <td>2011-01-01</td>\n",
              "      <td>1</td>\n",
              "      <td>0</td>\n",
              "      <td>1</td>\n",
              "      <td>1</td>\n",
              "      <td>0</td>\n",
              "      <td>6</td>\n",
              "      <td>0</td>\n",
              "      <td>1</td>\n",
              "      <td>0.22</td>\n",
              "      <td>0.2727</td>\n",
              "      <td>0.80</td>\n",
              "      <td>0.0</td>\n",
              "      <td>8</td>\n",
              "      <td>32</td>\n",
              "      <td>40</td>\n",
              "    </tr>\n",
              "    <tr>\n",
              "      <th>2</th>\n",
              "      <td>3</td>\n",
              "      <td>2011-01-01</td>\n",
              "      <td>1</td>\n",
              "      <td>0</td>\n",
              "      <td>1</td>\n",
              "      <td>2</td>\n",
              "      <td>0</td>\n",
              "      <td>6</td>\n",
              "      <td>0</td>\n",
              "      <td>1</td>\n",
              "      <td>0.22</td>\n",
              "      <td>0.2727</td>\n",
              "      <td>0.80</td>\n",
              "      <td>0.0</td>\n",
              "      <td>5</td>\n",
              "      <td>27</td>\n",
              "      <td>32</td>\n",
              "    </tr>\n",
              "    <tr>\n",
              "      <th>3</th>\n",
              "      <td>4</td>\n",
              "      <td>2011-01-01</td>\n",
              "      <td>1</td>\n",
              "      <td>0</td>\n",
              "      <td>1</td>\n",
              "      <td>3</td>\n",
              "      <td>0</td>\n",
              "      <td>6</td>\n",
              "      <td>0</td>\n",
              "      <td>1</td>\n",
              "      <td>0.24</td>\n",
              "      <td>0.2879</td>\n",
              "      <td>0.75</td>\n",
              "      <td>0.0</td>\n",
              "      <td>3</td>\n",
              "      <td>10</td>\n",
              "      <td>13</td>\n",
              "    </tr>\n",
              "    <tr>\n",
              "      <th>4</th>\n",
              "      <td>5</td>\n",
              "      <td>2011-01-01</td>\n",
              "      <td>1</td>\n",
              "      <td>0</td>\n",
              "      <td>1</td>\n",
              "      <td>4</td>\n",
              "      <td>0</td>\n",
              "      <td>6</td>\n",
              "      <td>0</td>\n",
              "      <td>1</td>\n",
              "      <td>0.24</td>\n",
              "      <td>0.2879</td>\n",
              "      <td>0.75</td>\n",
              "      <td>0.0</td>\n",
              "      <td>0</td>\n",
              "      <td>1</td>\n",
              "      <td>1</td>\n",
              "    </tr>\n",
              "  </tbody>\n",
              "</table>\n",
              "</div>"
            ],
            "text/plain": [
              "   instant      dteday  season  yr  mnth  hr  holiday  weekday  workingday  \\\n",
              "0        1  2011-01-01       1   0     1   0        0        6           0   \n",
              "1        2  2011-01-01       1   0     1   1        0        6           0   \n",
              "2        3  2011-01-01       1   0     1   2        0        6           0   \n",
              "3        4  2011-01-01       1   0     1   3        0        6           0   \n",
              "4        5  2011-01-01       1   0     1   4        0        6           0   \n",
              "\n",
              "   weathersit  temp   atemp   hum  windspeed  casual  registered  cnt  \n",
              "0           1  0.24  0.2879  0.81        0.0       3          13   16  \n",
              "1           1  0.22  0.2727  0.80        0.0       8          32   40  \n",
              "2           1  0.22  0.2727  0.80        0.0       5          27   32  \n",
              "3           1  0.24  0.2879  0.75        0.0       3          10   13  \n",
              "4           1  0.24  0.2879  0.75        0.0       0           1    1  "
            ]
          },
          "execution_count": 6,
          "metadata": {},
          "output_type": "execute_result"
        }
      ],
      "source": [
        "#Membuat tabel hour\n",
        "hour_df = pd.read_csv(r\"C:\\Submission\\Data\\hour.csv\")\n",
        "hour_df.head()"
      ]
    },
    {
      "cell_type": "markdown",
      "metadata": {
        "id": "MMi6xGaDkbCi"
      },
      "source": [
        "**Insight:**\n",
        "- Tabel day_df: Jumlah total penyewa sepeda (cnt) pada 5 hari pertama di dataset (day_df) relatif rendah, dengan nilai tertinggi sekitar 1600, kemungkinan karena masih awal tahun (Januari).\n",
        "- Tabel hour_df: Pada tabel hour_df, terlihat bahwa jumlah penyewa sepeda (cnt) pada jam-jam awal (0-4) di hari pertama sangat rendah, dengan nilai tertinggi hanya 40, yang wajar karena merupakan jam malam."
      ]
    },
    {
      "cell_type": "markdown",
      "metadata": {
        "id": "FHSiqaZp8DC1"
      },
      "source": [
        "### Assessing Data"
      ]
    },
    {
      "cell_type": "code",
      "execution_count": 7,
      "metadata": {
        "id": "ax-3tEjc9Cj1"
      },
      "outputs": [
        {
          "name": "stdout",
          "output_type": "stream",
          "text": [
            "<class 'pandas.core.frame.DataFrame'>\n",
            "RangeIndex: 731 entries, 0 to 730\n",
            "Data columns (total 16 columns):\n",
            " #   Column      Non-Null Count  Dtype  \n",
            "---  ------      --------------  -----  \n",
            " 0   instant     731 non-null    int64  \n",
            " 1   dteday      731 non-null    object \n",
            " 2   season      731 non-null    int64  \n",
            " 3   yr          731 non-null    int64  \n",
            " 4   mnth        731 non-null    int64  \n",
            " 5   holiday     731 non-null    int64  \n",
            " 6   weekday     731 non-null    int64  \n",
            " 7   workingday  731 non-null    int64  \n",
            " 8   weathersit  731 non-null    int64  \n",
            " 9   temp        731 non-null    float64\n",
            " 10  atemp       731 non-null    float64\n",
            " 11  hum         731 non-null    float64\n",
            " 12  windspeed   731 non-null    float64\n",
            " 13  casual      731 non-null    int64  \n",
            " 14  registered  731 non-null    int64  \n",
            " 15  cnt         731 non-null    int64  \n",
            "dtypes: float64(4), int64(11), object(1)\n",
            "memory usage: 91.5+ KB\n"
          ]
        }
      ],
      "source": [
        "#Menilai Data Day\n",
        "day_df.info()"
      ]
    },
    {
      "cell_type": "code",
      "execution_count": 8,
      "metadata": {},
      "outputs": [
        {
          "name": "stdout",
          "output_type": "stream",
          "text": [
            "<class 'pandas.core.frame.DataFrame'>\n",
            "RangeIndex: 17379 entries, 0 to 17378\n",
            "Data columns (total 17 columns):\n",
            " #   Column      Non-Null Count  Dtype  \n",
            "---  ------      --------------  -----  \n",
            " 0   instant     17379 non-null  int64  \n",
            " 1   dteday      17379 non-null  object \n",
            " 2   season      17379 non-null  int64  \n",
            " 3   yr          17379 non-null  int64  \n",
            " 4   mnth        17379 non-null  int64  \n",
            " 5   hr          17379 non-null  int64  \n",
            " 6   holiday     17379 non-null  int64  \n",
            " 7   weekday     17379 non-null  int64  \n",
            " 8   workingday  17379 non-null  int64  \n",
            " 9   weathersit  17379 non-null  int64  \n",
            " 10  temp        17379 non-null  float64\n",
            " 11  atemp       17379 non-null  float64\n",
            " 12  hum         17379 non-null  float64\n",
            " 13  windspeed   17379 non-null  float64\n",
            " 14  casual      17379 non-null  int64  \n",
            " 15  registered  17379 non-null  int64  \n",
            " 16  cnt         17379 non-null  int64  \n",
            "dtypes: float64(4), int64(12), object(1)\n",
            "memory usage: 2.3+ MB\n"
          ]
        }
      ],
      "source": [
        "# Menilai Data Hour\n",
        "hour_df.info()"
      ]
    },
    {
      "cell_type": "markdown",
      "metadata": {},
      "source": [
        "**Insight:**\n",
        "- Dataset day_df tidak memiliki missing value, karena semua kolom memiliki jumlah Non-Null Count yang sama dengan jumlah entries yaitu 731. Hal ini menunjukkan bahwa data sudah lengkap dan tidak ada data yang hilang. \n",
        "- Dataset hour_df tidak memiliki missing value, karena semua kolom memiliki jumlah Non-Null Count yang sama dengan jumlah entries yaitu 17379. Hal ini menandakan bahwa kualitas data pada dataset hour_df cukup baik dari sisi kelengkapan data.\n",
        "- Pada kolom dteday baik pada data day_df dan hour_df akan merepresentasikan tanggal. Tipe data object biasanya digunakan untuk string atau tipe data campuran. Akan lebih ideal jika kolom dteday memiliki tipe data datetime64."
      ]
    },
    {
      "cell_type": "code",
      "execution_count": 9,
      "metadata": {},
      "outputs": [
        {
          "data": {
            "text/plain": [
              "instant       0\n",
              "dteday        0\n",
              "season        0\n",
              "yr            0\n",
              "mnth          0\n",
              "holiday       0\n",
              "weekday       0\n",
              "workingday    0\n",
              "weathersit    0\n",
              "temp          0\n",
              "atemp         0\n",
              "hum           0\n",
              "windspeed     0\n",
              "casual        0\n",
              "registered    0\n",
              "cnt           0\n",
              "dtype: int64"
            ]
          },
          "execution_count": 9,
          "metadata": {},
          "output_type": "execute_result"
        }
      ],
      "source": [
        "# Missing Value Day\n",
        "day_df.isna().sum()"
      ]
    },
    {
      "cell_type": "code",
      "execution_count": 10,
      "metadata": {},
      "outputs": [
        {
          "data": {
            "text/plain": [
              "instant       0\n",
              "dteday        0\n",
              "season        0\n",
              "yr            0\n",
              "mnth          0\n",
              "hr            0\n",
              "holiday       0\n",
              "weekday       0\n",
              "workingday    0\n",
              "weathersit    0\n",
              "temp          0\n",
              "atemp         0\n",
              "hum           0\n",
              "windspeed     0\n",
              "casual        0\n",
              "registered    0\n",
              "cnt           0\n",
              "dtype: int64"
            ]
          },
          "execution_count": 10,
          "metadata": {},
          "output_type": "execute_result"
        }
      ],
      "source": [
        "# Missing Value Hour\n",
        "hour_df.isna().sum()"
      ]
    },
    {
      "cell_type": "markdown",
      "metadata": {},
      "source": [
        "**Insight:**\n",
        "- Dataset day_df tidak memiliki missing value, karena jumlah nilai NaN pada setiap kolom adalah 0. Hal ini menunjukkan bahwa kualitas data pada dataset day_df cukup baik dari sisi kelengkapan data.\n",
        "- Dataset hour_df tidak memiliki missing value, karena hasil perhitungan isna().sum() untuk setiap kolom adalah 0. Hal ini menandakan bahwa dataset hour_df sudah bersih dari data kosong atau hilang."
      ]
    },
    {
      "cell_type": "code",
      "execution_count": 11,
      "metadata": {},
      "outputs": [
        {
          "name": "stdout",
          "output_type": "stream",
          "text": [
            "Jumlah duplikasi:  0\n"
          ]
        }
      ],
      "source": [
        "# Duplikasi Data Day\n",
        "print(\"Jumlah duplikasi: \", day_df.duplicated().sum())"
      ]
    },
    {
      "cell_type": "code",
      "execution_count": 12,
      "metadata": {},
      "outputs": [
        {
          "name": "stdout",
          "output_type": "stream",
          "text": [
            "Jumlah duplikasi:  0\n"
          ]
        }
      ],
      "source": [
        "# Duplikasi Data Hour\n",
        "print(\"Jumlah duplikasi: \", hour_df.duplicated().sum())"
      ]
    },
    {
      "cell_type": "markdown",
      "metadata": {},
      "source": [
        "**Insight:**\n",
        "- Tidak ada duplikasi data pada dataset day_df: Hasil pengecekan menunjukkan bahwa tidak ditemukan baris yang identik atau duplikat dalam dataset day_df.\n",
        "- Tidak ada duplikasi data pada dataset hour_df: Dataset hour_df juga bebas dari duplikasi data, yang mengindikasikan bahwa tidak ada entri data yang tercatat ganda."
      ]
    },
    {
      "cell_type": "code",
      "execution_count": 13,
      "metadata": {},
      "outputs": [
        {
          "data": {
            "text/html": [
              "<div>\n",
              "<style scoped>\n",
              "    .dataframe tbody tr th:only-of-type {\n",
              "        vertical-align: middle;\n",
              "    }\n",
              "\n",
              "    .dataframe tbody tr th {\n",
              "        vertical-align: top;\n",
              "    }\n",
              "\n",
              "    .dataframe thead th {\n",
              "        text-align: right;\n",
              "    }\n",
              "</style>\n",
              "<table border=\"1\" class=\"dataframe\">\n",
              "  <thead>\n",
              "    <tr style=\"text-align: right;\">\n",
              "      <th></th>\n",
              "      <th>instant</th>\n",
              "      <th>season</th>\n",
              "      <th>yr</th>\n",
              "      <th>mnth</th>\n",
              "      <th>holiday</th>\n",
              "      <th>weekday</th>\n",
              "      <th>workingday</th>\n",
              "      <th>weathersit</th>\n",
              "      <th>temp</th>\n",
              "      <th>atemp</th>\n",
              "      <th>hum</th>\n",
              "      <th>windspeed</th>\n",
              "      <th>casual</th>\n",
              "      <th>registered</th>\n",
              "      <th>cnt</th>\n",
              "    </tr>\n",
              "  </thead>\n",
              "  <tbody>\n",
              "    <tr>\n",
              "      <th>count</th>\n",
              "      <td>731.000000</td>\n",
              "      <td>731.000000</td>\n",
              "      <td>731.000000</td>\n",
              "      <td>731.000000</td>\n",
              "      <td>731.000000</td>\n",
              "      <td>731.000000</td>\n",
              "      <td>731.000000</td>\n",
              "      <td>731.000000</td>\n",
              "      <td>731.000000</td>\n",
              "      <td>731.000000</td>\n",
              "      <td>731.000000</td>\n",
              "      <td>731.000000</td>\n",
              "      <td>731.000000</td>\n",
              "      <td>731.000000</td>\n",
              "      <td>731.000000</td>\n",
              "    </tr>\n",
              "    <tr>\n",
              "      <th>mean</th>\n",
              "      <td>366.000000</td>\n",
              "      <td>2.496580</td>\n",
              "      <td>0.500684</td>\n",
              "      <td>6.519836</td>\n",
              "      <td>0.028728</td>\n",
              "      <td>2.997264</td>\n",
              "      <td>0.683995</td>\n",
              "      <td>1.395349</td>\n",
              "      <td>0.495385</td>\n",
              "      <td>0.474354</td>\n",
              "      <td>0.627894</td>\n",
              "      <td>0.190486</td>\n",
              "      <td>848.176471</td>\n",
              "      <td>3656.172367</td>\n",
              "      <td>4504.348837</td>\n",
              "    </tr>\n",
              "    <tr>\n",
              "      <th>std</th>\n",
              "      <td>211.165812</td>\n",
              "      <td>1.110807</td>\n",
              "      <td>0.500342</td>\n",
              "      <td>3.451913</td>\n",
              "      <td>0.167155</td>\n",
              "      <td>2.004787</td>\n",
              "      <td>0.465233</td>\n",
              "      <td>0.544894</td>\n",
              "      <td>0.183051</td>\n",
              "      <td>0.162961</td>\n",
              "      <td>0.142429</td>\n",
              "      <td>0.077498</td>\n",
              "      <td>686.622488</td>\n",
              "      <td>1560.256377</td>\n",
              "      <td>1937.211452</td>\n",
              "    </tr>\n",
              "    <tr>\n",
              "      <th>min</th>\n",
              "      <td>1.000000</td>\n",
              "      <td>1.000000</td>\n",
              "      <td>0.000000</td>\n",
              "      <td>1.000000</td>\n",
              "      <td>0.000000</td>\n",
              "      <td>0.000000</td>\n",
              "      <td>0.000000</td>\n",
              "      <td>1.000000</td>\n",
              "      <td>0.059130</td>\n",
              "      <td>0.079070</td>\n",
              "      <td>0.000000</td>\n",
              "      <td>0.022392</td>\n",
              "      <td>2.000000</td>\n",
              "      <td>20.000000</td>\n",
              "      <td>22.000000</td>\n",
              "    </tr>\n",
              "    <tr>\n",
              "      <th>25%</th>\n",
              "      <td>183.500000</td>\n",
              "      <td>2.000000</td>\n",
              "      <td>0.000000</td>\n",
              "      <td>4.000000</td>\n",
              "      <td>0.000000</td>\n",
              "      <td>1.000000</td>\n",
              "      <td>0.000000</td>\n",
              "      <td>1.000000</td>\n",
              "      <td>0.337083</td>\n",
              "      <td>0.337842</td>\n",
              "      <td>0.520000</td>\n",
              "      <td>0.134950</td>\n",
              "      <td>315.500000</td>\n",
              "      <td>2497.000000</td>\n",
              "      <td>3152.000000</td>\n",
              "    </tr>\n",
              "    <tr>\n",
              "      <th>50%</th>\n",
              "      <td>366.000000</td>\n",
              "      <td>3.000000</td>\n",
              "      <td>1.000000</td>\n",
              "      <td>7.000000</td>\n",
              "      <td>0.000000</td>\n",
              "      <td>3.000000</td>\n",
              "      <td>1.000000</td>\n",
              "      <td>1.000000</td>\n",
              "      <td>0.498333</td>\n",
              "      <td>0.486733</td>\n",
              "      <td>0.626667</td>\n",
              "      <td>0.180975</td>\n",
              "      <td>713.000000</td>\n",
              "      <td>3662.000000</td>\n",
              "      <td>4548.000000</td>\n",
              "    </tr>\n",
              "    <tr>\n",
              "      <th>75%</th>\n",
              "      <td>548.500000</td>\n",
              "      <td>3.000000</td>\n",
              "      <td>1.000000</td>\n",
              "      <td>10.000000</td>\n",
              "      <td>0.000000</td>\n",
              "      <td>5.000000</td>\n",
              "      <td>1.000000</td>\n",
              "      <td>2.000000</td>\n",
              "      <td>0.655417</td>\n",
              "      <td>0.608602</td>\n",
              "      <td>0.730209</td>\n",
              "      <td>0.233214</td>\n",
              "      <td>1096.000000</td>\n",
              "      <td>4776.500000</td>\n",
              "      <td>5956.000000</td>\n",
              "    </tr>\n",
              "    <tr>\n",
              "      <th>max</th>\n",
              "      <td>731.000000</td>\n",
              "      <td>4.000000</td>\n",
              "      <td>1.000000</td>\n",
              "      <td>12.000000</td>\n",
              "      <td>1.000000</td>\n",
              "      <td>6.000000</td>\n",
              "      <td>1.000000</td>\n",
              "      <td>3.000000</td>\n",
              "      <td>0.861667</td>\n",
              "      <td>0.840896</td>\n",
              "      <td>0.972500</td>\n",
              "      <td>0.507463</td>\n",
              "      <td>3410.000000</td>\n",
              "      <td>6946.000000</td>\n",
              "      <td>8714.000000</td>\n",
              "    </tr>\n",
              "  </tbody>\n",
              "</table>\n",
              "</div>"
            ],
            "text/plain": [
              "          instant      season          yr        mnth     holiday     weekday  \\\n",
              "count  731.000000  731.000000  731.000000  731.000000  731.000000  731.000000   \n",
              "mean   366.000000    2.496580    0.500684    6.519836    0.028728    2.997264   \n",
              "std    211.165812    1.110807    0.500342    3.451913    0.167155    2.004787   \n",
              "min      1.000000    1.000000    0.000000    1.000000    0.000000    0.000000   \n",
              "25%    183.500000    2.000000    0.000000    4.000000    0.000000    1.000000   \n",
              "50%    366.000000    3.000000    1.000000    7.000000    0.000000    3.000000   \n",
              "75%    548.500000    3.000000    1.000000   10.000000    0.000000    5.000000   \n",
              "max    731.000000    4.000000    1.000000   12.000000    1.000000    6.000000   \n",
              "\n",
              "       workingday  weathersit        temp       atemp         hum   windspeed  \\\n",
              "count  731.000000  731.000000  731.000000  731.000000  731.000000  731.000000   \n",
              "mean     0.683995    1.395349    0.495385    0.474354    0.627894    0.190486   \n",
              "std      0.465233    0.544894    0.183051    0.162961    0.142429    0.077498   \n",
              "min      0.000000    1.000000    0.059130    0.079070    0.000000    0.022392   \n",
              "25%      0.000000    1.000000    0.337083    0.337842    0.520000    0.134950   \n",
              "50%      1.000000    1.000000    0.498333    0.486733    0.626667    0.180975   \n",
              "75%      1.000000    2.000000    0.655417    0.608602    0.730209    0.233214   \n",
              "max      1.000000    3.000000    0.861667    0.840896    0.972500    0.507463   \n",
              "\n",
              "            casual   registered          cnt  \n",
              "count   731.000000   731.000000   731.000000  \n",
              "mean    848.176471  3656.172367  4504.348837  \n",
              "std     686.622488  1560.256377  1937.211452  \n",
              "min       2.000000    20.000000    22.000000  \n",
              "25%     315.500000  2497.000000  3152.000000  \n",
              "50%     713.000000  3662.000000  4548.000000  \n",
              "75%    1096.000000  4776.500000  5956.000000  \n",
              "max    3410.000000  6946.000000  8714.000000  "
            ]
          },
          "execution_count": 13,
          "metadata": {},
          "output_type": "execute_result"
        }
      ],
      "source": [
        "# Ringkasan Parameter Statistik Day\n",
        "day_df.describe()"
      ]
    },
    {
      "cell_type": "code",
      "execution_count": 14,
      "metadata": {},
      "outputs": [
        {
          "data": {
            "text/html": [
              "<div>\n",
              "<style scoped>\n",
              "    .dataframe tbody tr th:only-of-type {\n",
              "        vertical-align: middle;\n",
              "    }\n",
              "\n",
              "    .dataframe tbody tr th {\n",
              "        vertical-align: top;\n",
              "    }\n",
              "\n",
              "    .dataframe thead th {\n",
              "        text-align: right;\n",
              "    }\n",
              "</style>\n",
              "<table border=\"1\" class=\"dataframe\">\n",
              "  <thead>\n",
              "    <tr style=\"text-align: right;\">\n",
              "      <th></th>\n",
              "      <th>instant</th>\n",
              "      <th>season</th>\n",
              "      <th>yr</th>\n",
              "      <th>mnth</th>\n",
              "      <th>hr</th>\n",
              "      <th>holiday</th>\n",
              "      <th>weekday</th>\n",
              "      <th>workingday</th>\n",
              "      <th>weathersit</th>\n",
              "      <th>temp</th>\n",
              "      <th>atemp</th>\n",
              "      <th>hum</th>\n",
              "      <th>windspeed</th>\n",
              "      <th>casual</th>\n",
              "      <th>registered</th>\n",
              "      <th>cnt</th>\n",
              "    </tr>\n",
              "  </thead>\n",
              "  <tbody>\n",
              "    <tr>\n",
              "      <th>count</th>\n",
              "      <td>17379.0000</td>\n",
              "      <td>17379.000000</td>\n",
              "      <td>17379.000000</td>\n",
              "      <td>17379.000000</td>\n",
              "      <td>17379.000000</td>\n",
              "      <td>17379.000000</td>\n",
              "      <td>17379.000000</td>\n",
              "      <td>17379.000000</td>\n",
              "      <td>17379.000000</td>\n",
              "      <td>17379.000000</td>\n",
              "      <td>17379.000000</td>\n",
              "      <td>17379.000000</td>\n",
              "      <td>17379.000000</td>\n",
              "      <td>17379.000000</td>\n",
              "      <td>17379.000000</td>\n",
              "      <td>17379.000000</td>\n",
              "    </tr>\n",
              "    <tr>\n",
              "      <th>mean</th>\n",
              "      <td>8690.0000</td>\n",
              "      <td>2.501640</td>\n",
              "      <td>0.502561</td>\n",
              "      <td>6.537775</td>\n",
              "      <td>11.546752</td>\n",
              "      <td>0.028770</td>\n",
              "      <td>3.003683</td>\n",
              "      <td>0.682721</td>\n",
              "      <td>1.425283</td>\n",
              "      <td>0.496987</td>\n",
              "      <td>0.475775</td>\n",
              "      <td>0.627229</td>\n",
              "      <td>0.190098</td>\n",
              "      <td>35.676218</td>\n",
              "      <td>153.786869</td>\n",
              "      <td>189.463088</td>\n",
              "    </tr>\n",
              "    <tr>\n",
              "      <th>std</th>\n",
              "      <td>5017.0295</td>\n",
              "      <td>1.106918</td>\n",
              "      <td>0.500008</td>\n",
              "      <td>3.438776</td>\n",
              "      <td>6.914405</td>\n",
              "      <td>0.167165</td>\n",
              "      <td>2.005771</td>\n",
              "      <td>0.465431</td>\n",
              "      <td>0.639357</td>\n",
              "      <td>0.192556</td>\n",
              "      <td>0.171850</td>\n",
              "      <td>0.192930</td>\n",
              "      <td>0.122340</td>\n",
              "      <td>49.305030</td>\n",
              "      <td>151.357286</td>\n",
              "      <td>181.387599</td>\n",
              "    </tr>\n",
              "    <tr>\n",
              "      <th>min</th>\n",
              "      <td>1.0000</td>\n",
              "      <td>1.000000</td>\n",
              "      <td>0.000000</td>\n",
              "      <td>1.000000</td>\n",
              "      <td>0.000000</td>\n",
              "      <td>0.000000</td>\n",
              "      <td>0.000000</td>\n",
              "      <td>0.000000</td>\n",
              "      <td>1.000000</td>\n",
              "      <td>0.020000</td>\n",
              "      <td>0.000000</td>\n",
              "      <td>0.000000</td>\n",
              "      <td>0.000000</td>\n",
              "      <td>0.000000</td>\n",
              "      <td>0.000000</td>\n",
              "      <td>1.000000</td>\n",
              "    </tr>\n",
              "    <tr>\n",
              "      <th>25%</th>\n",
              "      <td>4345.5000</td>\n",
              "      <td>2.000000</td>\n",
              "      <td>0.000000</td>\n",
              "      <td>4.000000</td>\n",
              "      <td>6.000000</td>\n",
              "      <td>0.000000</td>\n",
              "      <td>1.000000</td>\n",
              "      <td>0.000000</td>\n",
              "      <td>1.000000</td>\n",
              "      <td>0.340000</td>\n",
              "      <td>0.333300</td>\n",
              "      <td>0.480000</td>\n",
              "      <td>0.104500</td>\n",
              "      <td>4.000000</td>\n",
              "      <td>34.000000</td>\n",
              "      <td>40.000000</td>\n",
              "    </tr>\n",
              "    <tr>\n",
              "      <th>50%</th>\n",
              "      <td>8690.0000</td>\n",
              "      <td>3.000000</td>\n",
              "      <td>1.000000</td>\n",
              "      <td>7.000000</td>\n",
              "      <td>12.000000</td>\n",
              "      <td>0.000000</td>\n",
              "      <td>3.000000</td>\n",
              "      <td>1.000000</td>\n",
              "      <td>1.000000</td>\n",
              "      <td>0.500000</td>\n",
              "      <td>0.484800</td>\n",
              "      <td>0.630000</td>\n",
              "      <td>0.194000</td>\n",
              "      <td>17.000000</td>\n",
              "      <td>115.000000</td>\n",
              "      <td>142.000000</td>\n",
              "    </tr>\n",
              "    <tr>\n",
              "      <th>75%</th>\n",
              "      <td>13034.5000</td>\n",
              "      <td>3.000000</td>\n",
              "      <td>1.000000</td>\n",
              "      <td>10.000000</td>\n",
              "      <td>18.000000</td>\n",
              "      <td>0.000000</td>\n",
              "      <td>5.000000</td>\n",
              "      <td>1.000000</td>\n",
              "      <td>2.000000</td>\n",
              "      <td>0.660000</td>\n",
              "      <td>0.621200</td>\n",
              "      <td>0.780000</td>\n",
              "      <td>0.253700</td>\n",
              "      <td>48.000000</td>\n",
              "      <td>220.000000</td>\n",
              "      <td>281.000000</td>\n",
              "    </tr>\n",
              "    <tr>\n",
              "      <th>max</th>\n",
              "      <td>17379.0000</td>\n",
              "      <td>4.000000</td>\n",
              "      <td>1.000000</td>\n",
              "      <td>12.000000</td>\n",
              "      <td>23.000000</td>\n",
              "      <td>1.000000</td>\n",
              "      <td>6.000000</td>\n",
              "      <td>1.000000</td>\n",
              "      <td>4.000000</td>\n",
              "      <td>1.000000</td>\n",
              "      <td>1.000000</td>\n",
              "      <td>1.000000</td>\n",
              "      <td>0.850700</td>\n",
              "      <td>367.000000</td>\n",
              "      <td>886.000000</td>\n",
              "      <td>977.000000</td>\n",
              "    </tr>\n",
              "  </tbody>\n",
              "</table>\n",
              "</div>"
            ],
            "text/plain": [
              "          instant        season            yr          mnth            hr  \\\n",
              "count  17379.0000  17379.000000  17379.000000  17379.000000  17379.000000   \n",
              "mean    8690.0000      2.501640      0.502561      6.537775     11.546752   \n",
              "std     5017.0295      1.106918      0.500008      3.438776      6.914405   \n",
              "min        1.0000      1.000000      0.000000      1.000000      0.000000   \n",
              "25%     4345.5000      2.000000      0.000000      4.000000      6.000000   \n",
              "50%     8690.0000      3.000000      1.000000      7.000000     12.000000   \n",
              "75%    13034.5000      3.000000      1.000000     10.000000     18.000000   \n",
              "max    17379.0000      4.000000      1.000000     12.000000     23.000000   \n",
              "\n",
              "            holiday       weekday    workingday    weathersit          temp  \\\n",
              "count  17379.000000  17379.000000  17379.000000  17379.000000  17379.000000   \n",
              "mean       0.028770      3.003683      0.682721      1.425283      0.496987   \n",
              "std        0.167165      2.005771      0.465431      0.639357      0.192556   \n",
              "min        0.000000      0.000000      0.000000      1.000000      0.020000   \n",
              "25%        0.000000      1.000000      0.000000      1.000000      0.340000   \n",
              "50%        0.000000      3.000000      1.000000      1.000000      0.500000   \n",
              "75%        0.000000      5.000000      1.000000      2.000000      0.660000   \n",
              "max        1.000000      6.000000      1.000000      4.000000      1.000000   \n",
              "\n",
              "              atemp           hum     windspeed        casual    registered  \\\n",
              "count  17379.000000  17379.000000  17379.000000  17379.000000  17379.000000   \n",
              "mean       0.475775      0.627229      0.190098     35.676218    153.786869   \n",
              "std        0.171850      0.192930      0.122340     49.305030    151.357286   \n",
              "min        0.000000      0.000000      0.000000      0.000000      0.000000   \n",
              "25%        0.333300      0.480000      0.104500      4.000000     34.000000   \n",
              "50%        0.484800      0.630000      0.194000     17.000000    115.000000   \n",
              "75%        0.621200      0.780000      0.253700     48.000000    220.000000   \n",
              "max        1.000000      1.000000      0.850700    367.000000    886.000000   \n",
              "\n",
              "                cnt  \n",
              "count  17379.000000  \n",
              "mean     189.463088  \n",
              "std      181.387599  \n",
              "min        1.000000  \n",
              "25%       40.000000  \n",
              "50%      142.000000  \n",
              "75%      281.000000  \n",
              "max      977.000000  "
            ]
          },
          "execution_count": 14,
          "metadata": {},
          "output_type": "execute_result"
        }
      ],
      "source": [
        "# Ringkasan Parameter Statistik Hour\n",
        "hour_df.describe()"
      ]
    },
    {
      "cell_type": "markdown",
      "metadata": {
        "id": "7dtxhAPrkhPL"
      },
      "source": [
        "**Insight:**\n",
        "- Rata-rata jumlah pengguna sepeda per hari adalah 4.504, dengan pengguna terdaftar (registered) lebih dominan dibandingkan pengguna kasual (casual). Ini menunjukkan bahwa layanan sepeda lebih sering digunakan oleh pelanggan tetap dibandingkan pengguna sesekali.\n",
        "- Jumlah pengguna sepeda terdaftar (registered) rata-rata 153 per jam, jauh lebih tinggi dibandingkan pengguna kasual (casual) yang hanya sekitar 35 per jam. Hal ini menunjukkan bahwa sebagian besar pengguna layanan sepeda adalah pelanggan tetap yang kemungkinan besar menggunakan layanan ini untuk keperluan rutin seperti bekerja atau sekolah."
      ]
    },
    {
      "cell_type": "markdown",
      "metadata": {
        "id": "EhN5R4hr8DC1"
      },
      "source": [
        "### Cleaning Data"
      ]
    },
    {
      "cell_type": "code",
      "execution_count": 15,
      "metadata": {},
      "outputs": [
        {
          "name": "stdout",
          "output_type": "stream",
          "text": [
            "Jumlah duplikasi setelah dihapus:  0\n"
          ]
        }
      ],
      "source": [
        "# Menghapus duplikasi data pada day_df dan menampilkan jumlah duplikasi setelahnya\n",
        "day_df.drop_duplicates(inplace=True)\n",
        "print(\"Jumlah duplikasi setelah dihapus: \", day_df.duplicated().sum())"
      ]
    },
    {
      "cell_type": "code",
      "execution_count": 16,
      "metadata": {},
      "outputs": [
        {
          "name": "stdout",
          "output_type": "stream",
          "text": [
            "Jumlah duplikasi setelah dihapus:  0\n"
          ]
        }
      ],
      "source": [
        "# Menghapus duplikasi data pada hour_df dan menampilkan jumlah duplikasi setelahnya\n",
        "hour_df.drop_duplicates(inplace=True)\n",
        "print(\"Jumlah duplikasi setelah dihapus: \", hour_df.duplicated().sum())"
      ]
    },
    {
      "cell_type": "markdown",
      "metadata": {},
      "source": [
        "**Insight:**\n",
        "- Setelah menjalankan proses penghapusan duplikasi pada dataset day_df dan hour_df, jumlah duplikat yang tersisa adalah 0. Ini menunjukkan bahwa data sudah bersih dari duplikasi dan tidak perlu dilakukan penghapusan lebih lanjut."
      ]
    },
    {
      "cell_type": "code",
      "execution_count": 17,
      "metadata": {},
      "outputs": [
        {
          "name": "stdout",
          "output_type": "stream",
          "text": [
            "<class 'pandas.core.frame.DataFrame'>\n",
            "RangeIndex: 731 entries, 0 to 730\n",
            "Data columns (total 16 columns):\n",
            " #   Column      Non-Null Count  Dtype         \n",
            "---  ------      --------------  -----         \n",
            " 0   instant     731 non-null    int64         \n",
            " 1   dteday      731 non-null    datetime64[ns]\n",
            " 2   season      731 non-null    int64         \n",
            " 3   yr          731 non-null    int64         \n",
            " 4   mnth        731 non-null    int64         \n",
            " 5   holiday     731 non-null    int64         \n",
            " 6   weekday     731 non-null    int64         \n",
            " 7   workingday  731 non-null    int64         \n",
            " 8   weathersit  731 non-null    int64         \n",
            " 9   temp        731 non-null    float64       \n",
            " 10  atemp       731 non-null    float64       \n",
            " 11  hum         731 non-null    float64       \n",
            " 12  windspeed   731 non-null    float64       \n",
            " 13  casual      731 non-null    int64         \n",
            " 14  registered  731 non-null    int64         \n",
            " 15  cnt         731 non-null    int64         \n",
            "dtypes: datetime64[ns](1), float64(4), int64(11)\n",
            "memory usage: 91.5 KB\n"
          ]
        }
      ],
      "source": [
        "# Membersihkan data day \n",
        "datetime_columns = [\"dteday\"]\n",
        " \n",
        "for column in datetime_columns:\n",
        "  day_df[column] = pd.to_datetime(day_df[column])\n",
        "\n",
        "day_df.info()"
      ]
    },
    {
      "cell_type": "code",
      "execution_count": 18,
      "metadata": {},
      "outputs": [
        {
          "name": "stdout",
          "output_type": "stream",
          "text": [
            "<class 'pandas.core.frame.DataFrame'>\n",
            "RangeIndex: 17379 entries, 0 to 17378\n",
            "Data columns (total 17 columns):\n",
            " #   Column      Non-Null Count  Dtype         \n",
            "---  ------      --------------  -----         \n",
            " 0   instant     17379 non-null  int64         \n",
            " 1   dteday      17379 non-null  datetime64[ns]\n",
            " 2   season      17379 non-null  int64         \n",
            " 3   yr          17379 non-null  int64         \n",
            " 4   mnth        17379 non-null  int64         \n",
            " 5   hr          17379 non-null  int64         \n",
            " 6   holiday     17379 non-null  int64         \n",
            " 7   weekday     17379 non-null  int64         \n",
            " 8   workingday  17379 non-null  int64         \n",
            " 9   weathersit  17379 non-null  int64         \n",
            " 10  temp        17379 non-null  float64       \n",
            " 11  atemp       17379 non-null  float64       \n",
            " 12  hum         17379 non-null  float64       \n",
            " 13  windspeed   17379 non-null  float64       \n",
            " 14  casual      17379 non-null  int64         \n",
            " 15  registered  17379 non-null  int64         \n",
            " 16  cnt         17379 non-null  int64         \n",
            "dtypes: datetime64[ns](1), float64(4), int64(12)\n",
            "memory usage: 2.3 MB\n"
          ]
        }
      ],
      "source": [
        "# Membersihkan data hour \n",
        "datetime_columns = [\"dteday\"]\n",
        "\n",
        "for column in datetime_columns:\n",
        "    hour_df[column] = pd.to_datetime(hour_df[column])\n",
        "\n",
        "hour_df.info()"
      ]
    },
    {
      "cell_type": "markdown",
      "metadata": {
        "id": "Q_5ejIqckiSP"
      },
      "source": [
        "**Insight:**\n",
        "- Kolom \"dteday\" berhasil dikonversi ke tipe data datetime64, yang memungkinkan analisis berbasis waktu lebih akurat. Dataset day_df terdiri dari 731 entri dengan 16 kolom tanpa nilai null, menunjukkan bahwa data lengkap.\n",
        "- Kolom \"dteday\" pada dataset hour_df berhasil dikonversi ke tipe datetime64, memungkinkan analisis berbasis waktu yang lebih akurat. Dataset ini memiliki 17.379 entri dan 17 kolom, dengan tidak ada nilai null."
      ]
    },
    {
      "cell_type": "markdown",
      "metadata": {
        "id": "gp-Y6wU38DC1"
      },
      "source": [
        "## Exploratory Data Analysis (EDA)"
      ]
    },
    {
      "cell_type": "markdown",
      "metadata": {
        "id": "MW7WF2kr8DC1"
      },
      "source": [
        "### Explore data day_df dan hour_df"
      ]
    },
    {
      "cell_type": "code",
      "execution_count": 19,
      "metadata": {},
      "outputs": [
        {
          "name": "stdout",
          "output_type": "stream",
          "text": [
            "Informasi Dataset:\n",
            "<class 'pandas.core.frame.DataFrame'>\n",
            "RangeIndex: 731 entries, 0 to 730\n",
            "Data columns (total 16 columns):\n",
            " #   Column      Non-Null Count  Dtype         \n",
            "---  ------      --------------  -----         \n",
            " 0   instant     731 non-null    int64         \n",
            " 1   dteday      731 non-null    datetime64[ns]\n",
            " 2   season      731 non-null    int64         \n",
            " 3   yr          731 non-null    int64         \n",
            " 4   mnth        731 non-null    int64         \n",
            " 5   holiday     731 non-null    int64         \n",
            " 6   weekday     731 non-null    int64         \n",
            " 7   workingday  731 non-null    int64         \n",
            " 8   weathersit  731 non-null    int64         \n",
            " 9   temp        731 non-null    float64       \n",
            " 10  atemp       731 non-null    float64       \n",
            " 11  hum         731 non-null    float64       \n",
            " 12  windspeed   731 non-null    float64       \n",
            " 13  casual      731 non-null    int64         \n",
            " 14  registered  731 non-null    int64         \n",
            " 15  cnt         731 non-null    int64         \n",
            "dtypes: datetime64[ns](1), float64(4), int64(11)\n",
            "memory usage: 91.5 KB\n",
            "None\n",
            "\n",
            "Statistik Deskriptif:\n"
          ]
        },
        {
          "name": "stdout",
          "output_type": "stream",
          "text": [
            "          instant               dteday      season          yr        mnth  \\\n",
            "count  731.000000                  731  731.000000  731.000000  731.000000   \n",
            "mean   366.000000  2012-01-01 00:00:00    2.496580    0.500684    6.519836   \n",
            "min      1.000000  2011-01-01 00:00:00    1.000000    0.000000    1.000000   \n",
            "25%    183.500000  2011-07-02 12:00:00    2.000000    0.000000    4.000000   \n",
            "50%    366.000000  2012-01-01 00:00:00    3.000000    1.000000    7.000000   \n",
            "75%    548.500000  2012-07-01 12:00:00    3.000000    1.000000   10.000000   \n",
            "max    731.000000  2012-12-31 00:00:00    4.000000    1.000000   12.000000   \n",
            "std    211.165812                  NaN    1.110807    0.500342    3.451913   \n",
            "\n",
            "          holiday     weekday  workingday  weathersit        temp       atemp  \\\n",
            "count  731.000000  731.000000  731.000000  731.000000  731.000000  731.000000   \n",
            "mean     0.028728    2.997264    0.683995    1.395349    0.495385    0.474354   \n",
            "min      0.000000    0.000000    0.000000    1.000000    0.059130    0.079070   \n",
            "25%      0.000000    1.000000    0.000000    1.000000    0.337083    0.337842   \n",
            "50%      0.000000    3.000000    1.000000    1.000000    0.498333    0.486733   \n",
            "75%      0.000000    5.000000    1.000000    2.000000    0.655417    0.608602   \n",
            "max      1.000000    6.000000    1.000000    3.000000    0.861667    0.840896   \n",
            "std      0.167155    2.004787    0.465233    0.544894    0.183051    0.162961   \n",
            "\n",
            "              hum   windspeed       casual   registered          cnt  \n",
            "count  731.000000  731.000000   731.000000   731.000000   731.000000  \n",
            "mean     0.627894    0.190486   848.176471  3656.172367  4504.348837  \n",
            "min      0.000000    0.022392     2.000000    20.000000    22.000000  \n",
            "25%      0.520000    0.134950   315.500000  2497.000000  3152.000000  \n",
            "50%      0.626667    0.180975   713.000000  3662.000000  4548.000000  \n",
            "75%      0.730209    0.233214  1096.000000  4776.500000  5956.000000  \n",
            "max      0.972500    0.507463  3410.000000  6946.000000  8714.000000  \n",
            "std      0.142429    0.077498   686.622488  1560.256377  1937.211452  \n"
          ]
        }
      ],
      "source": [
        "# Menampilkan informasi dataset\n",
        "print(\"Informasi Dataset:\")\n",
        "print(day_df.info())\n",
        "print(\"\\nStatistik Deskriptif:\")\n",
        "print(day_df.describe())"
      ]
    },
    {
      "cell_type": "markdown",
      "metadata": {},
      "source": [
        "**Insight:**\n",
        "- Informasi dataset: info() dan describe() untuk melihat struktur data dan statistik deskriptif."
      ]
    },
    {
      "cell_type": "code",
      "execution_count": 20,
      "metadata": {},
      "outputs": [],
      "source": [
        "# Mapping categorical values for better readability\n",
        "day_df['season'] = day_df['season'].map({1: 'Spring', 2: 'Summer', 3: 'Fall', 4: 'Winter'})\n",
        "day_df['weathersit'] = day_df['weathersit'].map({\n",
        "    1: 'Clear/Few clouds',\n",
        "    2: 'Mist/Cloudy',\n",
        "    3: 'Light Snow/Rain',\n",
        "    4: 'Heavy Rain/Snow'\n",
        "})"
      ]
    },
    {
      "cell_type": "markdown",
      "metadata": {},
      "source": [
        "**Insight:**\n",
        "- Mapping pada kode digunakan untuk mengganti nilai numerik dengan label kategori yang lebih mudah dibaca."
      ]
    },
    {
      "cell_type": "code",
      "execution_count": 21,
      "metadata": {},
      "outputs": [
        {
          "name": "stdout",
          "output_type": "stream",
          "text": [
            "\n",
            "📌 Korelasi antara Cuaca dan Penyewaan Sepeda (hour_df):\n",
            "               temp       hum  windspeed       cnt\n",
            "temp       1.000000 -0.069881  -0.023125  0.404772\n",
            "hum       -0.069881  1.000000  -0.290105 -0.322911\n",
            "windspeed -0.023125 -0.290105   1.000000  0.093234\n",
            "cnt        0.404772 -0.322911   0.093234  1.000000\n",
            "\n",
            "📌 Rata-rata Penyewaan Sepeda pada Hari Kerja vs Akhir Pekan (hour_df):\n",
            "is_weekend\n",
            "0    191.738374\n",
            "1    183.852014\n",
            "Name: cnt, dtype: float64\n",
            "\n",
            "📌 Statistik Penyewaan Sepeda Berdasarkan Hari:\n",
            "              count        mean         std  min   25%    50%    75%    max\n",
            "is_weekend                                                                 \n",
            "0           12365.0  191.738374  184.179506  1.0  39.0  150.0  276.0  977.0\n",
            "1            5014.0  183.852014  174.202461  1.0  42.0  122.0  295.0  783.0\n"
          ]
        }
      ],
      "source": [
        "# Konversi Kolom Tanggal\n",
        "day_df['dteday'] = pd.to_datetime(day_df['dteday'])\n",
        "hour_df['dteday'] = pd.to_datetime(hour_df['dteday'])\n",
        "\n",
        "# Menambah Kolom Hari Kerja & Akhir Pekan\n",
        "day_df['is_weekend'] = day_df['weekday'].apply(lambda x: 1 if x in [0, 6] else 0)\n",
        "hour_df['is_weekend'] = hour_df['weekday'].apply(lambda x: 1 if x in [0, 6] else 0)\n",
        "\n",
        "# Cek Korelasi antara Cuaca dan Penyewaan Sepeda\n",
        "if {'temp', 'hum', 'windspeed', 'cnt'}.issubset(hour_df.columns):\n",
        "    print(\"\\n📌 Korelasi antara Cuaca dan Penyewaan Sepeda (hour_df):\")\n",
        "    print(hour_df[['temp', 'hum', 'windspeed', 'cnt']].corr())\n",
        "\n",
        "# Perbandingan Rata-rata Penyewaan Sepeda antara Hari Kerja dan Akhir Pekan\n",
        "print(\"\\n📌 Rata-rata Penyewaan Sepeda pada Hari Kerja vs Akhir Pekan (hour_df):\")\n",
        "print(hour_df.groupby('is_weekend')['cnt'].mean())\n",
        "\n",
        "# Statistik Deskriptif Berdasarkan Hari Kerja dan Akhir Pekan\n",
        "print(\"\\n📌 Statistik Penyewaan Sepeda Berdasarkan Hari:\")\n",
        "print(hour_df.groupby('is_weekend')['cnt'].describe())"
      ]
    },
    {
      "cell_type": "code",
      "execution_count": 22,
      "metadata": {},
      "outputs": [
        {
          "name": "stdout",
          "output_type": "stream",
          "text": [
            "\n",
            "📌 Rata-rata Penyewaan Sepeda per Bulan:\n",
            "month\n",
            "1     2176.338710\n",
            "2     2655.298246\n",
            "3     3692.258065\n",
            "4     4484.900000\n",
            "5     5349.774194\n",
            "6     5772.366667\n",
            "7     5563.677419\n",
            "8     5664.419355\n",
            "9     5766.516667\n",
            "10    5199.225806\n",
            "11    4247.183333\n",
            "12    3403.806452\n",
            "Name: cnt, dtype: float64\n",
            "\n",
            "📌 Statistik Penyewaan Sepeda per Bulan:\n",
            "       count         mean          std     min      25%     50%      75%  \\\n",
            "month                                                                      \n",
            "1       62.0  2176.338710  1161.674370   431.0  1251.75  1939.0  3235.75   \n",
            "2       57.0  2655.298246  1145.313307  1005.0  1623.00  2402.0  3777.00   \n",
            "3       62.0  3692.258065  1899.301812   605.0  2077.00  3216.5  5361.00   \n",
            "4       60.0  4484.900000  1776.160778   795.0  3188.25  4293.5  6205.25   \n",
            "5       62.0  5349.774194  1298.711561  2633.0  4409.00  4890.5  6405.50   \n",
            "6       60.0  5772.366667  1240.400031  3767.0  4834.50  5308.5  6983.00   \n",
            "7       62.0  5563.677419  1273.751871  3285.0  4491.50  5446.5  6678.75   \n",
            "8       62.0  5664.419355  1494.516146  1115.0  4582.50  5229.5  7121.00   \n",
            "9       60.0  5766.516667  1810.130649  1842.0  4532.00  5384.0  7509.25   \n",
            "10      62.0  5199.225806  1988.392517    22.0  3967.25  5013.0  7238.75   \n",
            "11      60.0  4247.183333  1285.712709  1495.0  3386.00  4081.0  5317.00   \n",
            "12      62.0  3403.806452  1549.639353   441.0  2425.00  3444.0  4633.00   \n",
            "\n",
            "          max  \n",
            "month          \n",
            "1      4521.0  \n",
            "2      5062.0  \n",
            "3      8362.0  \n",
            "4      7460.0  \n",
            "5      8294.0  \n",
            "6      8120.0  \n",
            "7      8173.0  \n",
            "8      7865.0  \n",
            "9      8714.0  \n",
            "10     8156.0  \n",
            "11     6852.0  \n",
            "12     6606.0  \n"
          ]
        }
      ],
      "source": [
        "# Menambahkan Kolom Bulan dari Tanggal\n",
        "day_df['month'] = day_df['dteday'].dt.month\n",
        "\n",
        "# Rata-rata penyewaan sepeda setiap bulan\n",
        "monthly_trend = day_df.groupby('month')['cnt'].mean()\n",
        "print(\"\\n📌 Rata-rata Penyewaan Sepeda per Bulan:\")\n",
        "print(monthly_trend)\n",
        "\n",
        "# Statistik deskriptif penyewaan sepeda per bulan\n",
        "print(\"\\n📌 Statistik Penyewaan Sepeda per Bulan:\")\n",
        "print(day_df.groupby('month')['cnt'].describe())\n"
      ]
    },
    {
      "cell_type": "markdown",
      "metadata": {},
      "source": [
        "**Insight:**\n",
        "- Dari hasil korelasi dan analisis statistik pada dataset hour_df, ditemukan bahwa suhu (temp) memiliki korelasi positif dengan jumlah penyewa (cnt), sementara kelembaban (hum) dan kecepatan angin (windspeed) memiliki pengaruh negatif terhadap penyewaan sepeda. Selain itu, jumlah penyewa cenderung lebih tinggi pada akhir pekan dibandingkan hari kerja, kemungkinan karena orang lebih banyak beraktivitas rekreasi di luar rumah saat akhir pekan.\n",
        "- Dari analisis day_df, terlihat bahwa penyewaan sepeda mengalami tren musiman, di mana jumlah penyewaan cenderung lebih tinggi pada bulan-bulan tertentu, misalnya di musim panas atau musim kemarau. Sebaliknya, pada bulan-bulan dengan curah hujan tinggi atau suhu ekstrem, jumlah penyewaan cenderung menurun. Hal ini menunjukkan bahwa faktor musiman dapat memengaruhi pola penyewaan sepeda secara signifikan."
      ]
    },
    {
      "cell_type": "markdown",
      "metadata": {
        "id": "zsyZjqak8DC2"
      },
      "source": [
        "## Visualization & Explanatory Analysis"
      ]
    },
    {
      "cell_type": "markdown",
      "metadata": {
        "id": "HZxOiQ6n8DC2"
      },
      "source": [
        "### Pertanyaan 1:"
      ]
    },
    {
      "cell_type": "code",
      "execution_count": 23,
      "metadata": {},
      "outputs": [
        {
          "data": {
            "image/png": "[encoded data removed]",
            "text/plain": [
              "<Figure size 1000x600 with 1 Axes>"
            ]
          },
          "metadata": {},
          "output_type": "display_data"
        },
        {
          "data": {
            "image/png": "[encoded data removed]",
            "text/plain": [
              "<Figure size 1000x500 with 1 Axes>"
            ]
          },
          "metadata": {},
          "output_type": "display_data"
        }
      ],
      "source": [
        "# Boxplot: Penyewaan Sepeda berdasarkan Cuaca dan Hari Kerja/Akhir Pekan\n",
        "plt.figure(figsize=(10, 6))\n",
        "sns.boxplot(data=day_df, x='weathersit', y='cnt', hue='is_weekend', palette='coolwarm')\n",
        "\n",
        "# Menambahkan Judul dan Label\n",
        "plt.title(\"Pengaruh Cuaca terhadap Jumlah Penyewa Sepeda\\n(Hari Kerja vs Akhir Pekan)\", fontsize=12)\n",
        "plt.xlabel(\"Kondisi Cuaca\", fontsize=10)\n",
        "plt.ylabel(\"Jumlah Penyewa\", fontsize=10)\n",
        "plt.legend(title=\"Hari Kerja (0) vs Akhir Pekan (1)\")\n",
        "plt.xticks(ticks=[0, 1, 2, 3], labels=['Clear/Few clouds', 'Mist/Cloudy', 'Light Snow/Rain', 'Heavy Rain/Snow'])  # Pastikan label sesuai dataset\n",
        "\n",
        "# Tampilkan Plot\n",
        "plt.show()\n",
        "\n",
        "# Barplot: Rata-rata Penyewaan Sepeda berdasarkan Cuaca dan Hari Kerja/Akhir Pekan\n",
        "plt.figure(figsize=(10, 5))\n",
        "sns.barplot(data=day_df, x='weathersit', y='cnt', hue='is_weekend', estimator=sum, palette='viridis')\n",
        "\n",
        "# Menambahkan Judul dan Label\n",
        "plt.title(\"Total Penyewaan Sepeda berdasarkan Cuaca & Hari (Kerja vs Akhir Pekan)\", fontsize=12)\n",
        "plt.xlabel(\"Kondisi Cuaca\", fontsize=10)\n",
        "plt.ylabel(\"Total Penyewa Sepeda\", fontsize=10)\n",
        "plt.legend(title=\"Hari Kerja (0) vs Akhir Pekan (1)\")\n",
        "plt.xticks(ticks=[0, 1, 2, 3], labels=['Clear/Few clouds', 'Mist/Cloudy', 'Light Snow/Rain', 'Heavy Rain/Snow'])  # Pastikan label sesuai dataset\n",
        "\n",
        "# Tampilkan Plot\n",
        "plt.show()"
      ]
    },
    {
      "cell_type": "markdown",
      "metadata": {},
      "source": [
        "**Insight:**\n",
        "- Cuaca yang Lebih Baik Meningkatkan Penyewaan Sepeda\n",
        "  - Dari visualisasi boxplot, jumlah penyewaan sepeda lebih tinggi saat cuaca cerah atau mendung dibandingkan saat hujan.\n",
        "  - Saat hujan, distribusi penyewaan sepeda menunjukkan jumlah yang jauh lebih rendah, baik pada hari kerja maupun akhir pekan.\n",
        "- Akhir Pekan Tidak Selalu Meningkatkan Penyewaan\n",
        "  - Dari barplot, pada kondisi cuaca cerah, jumlah penyewaan di akhir pekan sedikit lebih tinggi daripada hari kerja.\n",
        "  - Namun, dalam kondisi hujan, penyewaan turun drastis pada kedua kategori, menunjukkan bahwa cuaca ekstrem lebih berpengaruh dibandingkan faktor hari kerja atau akhir pekan."
      ]
    },
    {
      "cell_type": "markdown",
      "metadata": {},
      "source": [
        "### Pertanyaan 2:"
      ]
    },
    {
      "cell_type": "code",
      "execution_count": 24,
      "metadata": {},
      "outputs": [
        {
          "data": {
            "image/png": "[encoded data removed]",
            "text/plain": [
              "<Figure size 1000x500 with 1 Axes>"
            ]
          },
          "metadata": {},
          "output_type": "display_data"
        },
        {
          "data": {
            "image/png": "[encoded data removed]",
            "text/plain": [
              "<Figure size 1000x500 with 1 Axes>"
            ]
          },
          "metadata": {},
          "output_type": "display_data"
        }
      ],
      "source": [
        "# Line Plot: Tren Penyewaan Sepeda Setiap Bulan\n",
        "plt.figure(figsize=(10, 5))\n",
        "sns.lineplot(data=day_df, x='month', y='cnt', estimator='mean', errorbar=None, marker='o', color='b')\n",
        "\n",
        "# Menambahkan Judul dan Label\n",
        "plt.title(\"Tren Rata-rata Penyewaan Sepeda per Bulan\", fontsize=12)\n",
        "plt.xlabel(\"Bulan\", fontsize=10)\n",
        "plt.ylabel(\"Rata-rata Penyewa Sepeda\", fontsize=10)\n",
        "plt.xticks(ticks=range(1, 13), labels=['Jan', 'Feb', 'Mar', 'Apr', 'Mei', 'Jun', 'Jul', 'Agu', 'Sep', 'Okt', 'Nov', 'Des'])\n",
        "\n",
        "# Tampilkan Plot\n",
        "plt.show()\n",
        "\n",
        "# Bar Plot: Total Penyewaan Sepeda per Bulan\n",
        "plt.figure(figsize=(10, 5))\n",
        "sns.barplot(data=day_df, x='month', y='cnt', estimator=sum, color='steelblue') \n",
        "\n",
        "# Menambahkan Judul dan Label\n",
        "plt.title(\"Total Penyewaan Sepeda per Bulan\", fontsize=12)\n",
        "plt.xlabel(\"Bulan\", fontsize=10)\n",
        "plt.ylabel(\"Total Penyewa Sepeda\", fontsize=10)\n",
        "plt.xticks(ticks=range(12), labels=['Jan', 'Feb', 'Mar', 'Apr', 'Mei', 'Jun', 'Jul', 'Agu', 'Sep', 'Okt', 'Nov', 'Des'])\n",
        "\n",
        "# Tampilkan Plot\n",
        "plt.show()"
      ]
    },
    {
      "cell_type": "markdown",
      "metadata": {},
      "source": [
        "**Insight:**\n",
        "- Puncak Penyewaan Terjadi pada Musim Panas (Mei–September)\n",
        "  - Dari line plot, terlihat bahwa penyewaan sepeda meningkat sejak musim semi dan mencapai puncaknya di musim panas, terutama di bulan Juni–Agustus.\n",
        "  - Ini menunjukkan bahwa cuaca hangat lebih mendukung aktivitas bersepeda.\n",
        "- Penyewaan Menurun Drastis di Musim Dingin (November–Januari)\n",
        "  - Dari barplot, jumlah total penyewaan sepeda turun signifikan di bulan November hingga Januari, kemungkinan karena suhu dingin dan kondisi cuaca yang tidak mendukung.\n",
        "  - Ini menunjukkan bahwa faktor musim sangat mempengaruhi jumlah penyewaan sepeda."
      ]
    },
    {
      "cell_type": "markdown",
      "metadata": {
        "id": "9y4VUsmcYNZ5"
      },
      "source": [
        "## Analisis Lanjutan (Opsional)"
      ]
    },
    {
      "cell_type": "code",
      "execution_count": 25,
      "metadata": {},
      "outputs": [
        {
          "name": "stdout",
          "output_type": "stream",
          "text": [
            "      dteday weathersit_label  workingday   cnt                 Cluster\n",
            "0 2011-01-01          Mendung           0   985       Penyewa Fleksibel\n",
            "1 2011-01-02          Mendung           0   801       Penyewa Fleksibel\n",
            "2 2011-01-03            Cerah           1  1349   Penyewa Rutin/Pekerja\n",
            "3 2011-01-04            Cerah           1  1562   Penyewa Rutin/Pekerja\n",
            "4 2011-01-05            Cerah           1  1600   Penyewa Rutin/Pekerja\n",
            "5 2011-01-06            Cerah           1  1606   Penyewa Rutin/Pekerja\n",
            "6 2011-01-07          Mendung           1  1510       Penyewa Fleksibel\n",
            "7 2011-01-08          Mendung           0   959       Penyewa Fleksibel\n",
            "8 2011-01-09            Cerah           0   822  Penyewa Sensitif Cuaca\n",
            "9 2011-01-10            Cerah           1  1321   Penyewa Rutin/Pekerja\n",
            "\n",
            "Statistik Penyewaan Sepeda:\n",
            "count     731.000000\n",
            "mean     4504.348837\n",
            "std      1937.211452\n",
            "min        22.000000\n",
            "25%      3152.000000\n",
            "50%      4548.000000\n",
            "75%      5956.000000\n",
            "max      8714.000000\n",
            "Name: cnt, dtype: float64\n"
          ]
        },
        {
          "data": {
            "image/png": "[encoded data removed]",
            "text/plain": [
              "<Figure size 1000x500 with 1 Axes>"
            ]
          },
          "metadata": {},
          "output_type": "display_data"
        }
      ],
      "source": [
        "# Pastikan 'dteday' dalam format datetime agar bisa dikelompokkan per bulan\n",
        "day_df['dteday'] = pd.to_datetime(day_df['dteday'])\n",
        "\n",
        "# Mapping kondisi cuaca ke kategori yang lebih mudah dibaca\n",
        "weather_mapping = {\n",
        "    'Clear/Few clouds': 'Cerah',\n",
        "    'Mist/Cloudy': 'Mendung',\n",
        "    'Light Snow/Rain': 'Hujan Ringan',\n",
        "    'Heavy Rain/Snow': 'Hujan Lebat'\n",
        "}\n",
        "\n",
        "# Terapkan mapping ke dataset\n",
        "day_df['weathersit_label'] = day_df['weathersit'].map(weather_mapping)\n",
        "\n",
        "# Menentukan kategori klaster penyewa berdasarkan cuaca dan hari kerja/akhir pekan\n",
        "def classify_rider(row):\n",
        "    if row['weathersit_label'] == 'Cerah' and row['workingday'] == 0:\n",
        "        return 'Penyewa Sensitif Cuaca'\n",
        "    elif row['weathersit_label'] in ['Mendung', 'Hujan Ringan'] and row['cnt'] > 300:\n",
        "        return 'Penyewa Fleksibel'\n",
        "    else:\n",
        "        return 'Penyewa Rutin/Pekerja'\n",
        "\n",
        "# Terapkan fungsi klaster ke dataset\n",
        "day_df['Cluster'] = day_df.apply(classify_rider, axis=1)\n",
        "\n",
        "# Menampilkan hasil klasterisasi (10 data pertama)\n",
        "print(day_df[['dteday', 'weathersit_label', 'workingday', 'cnt', 'Cluster']].head(10))\n",
        "\n",
        "# Analisis statistik jumlah penyewaan\n",
        "print(\"\\nStatistik Penyewaan Sepeda:\")\n",
        "print(day_df['cnt'].describe())\n",
        "\n",
        "# Visualisasi distribusi klaster penyewa sepeda\n",
        "plt.figure(figsize=(10, 5))\n",
        "sns.countplot(data=day_df, x='Cluster', order=['Penyewa Sensitif Cuaca', 'Penyewa Fleksibel', 'Penyewa Rutin/Pekerja'])\n",
        "plt.title(\"Distribusi Klaster Penyewa Sepeda\")\n",
        "plt.xlabel(\"Kategori Penyewa\")\n",
        "plt.ylabel(\"Jumlah Hari\")\n",
        "plt.xticks(rotation=15)\n",
        "plt.show()"
      ]
    },
    {
      "cell_type": "markdown",
      "metadata": {},
      "source": [
        "**Insight:**\n",
        "- Manual Grouping untuk Penyewa Berdasarkan Cuaca dan Hari\n",
        "  - Membagi penyewa menjadi tiga kategori berdasarkan kondisi cuaca dan apakah itu hari kerja atau akhir pekan.\n",
        "  - Penyewa sensitif cuaca hanya menyewa saat cerah di akhir pekan.\n",
        "  - Penyewa fleksibel masih menyewa saat mendung atau hujan dengan jumlah tinggi.\n",
        "  - Penyewa rutin/pekerja tetap menyewa tanpa terpengaruh cuaca."
      ]
    },
    {
      "cell_type": "code",
      "execution_count": 26,
      "metadata": {},
      "outputs": [
        {
          "name": "stdout",
          "output_type": "stream",
          "text": [
            "        month     cnt         Cluster\n",
            "0       April  269094  Regular Season\n",
            "1      August  351194     Peak Season\n",
            "2    December  211036  Regular Season\n",
            "3    February  151352      Low Season\n",
            "4     January  134933      Low Season\n",
            "5        July  344948     Peak Season\n",
            "6        June  346342     Peak Season\n",
            "7       March  228920  Regular Season\n",
            "8         May  331686     Peak Season\n",
            "9    November  254831  Regular Season\n",
            "10    October  322352     Peak Season\n",
            "11  September  345991     Peak Season\n"
          ]
        },
        {
          "data": {
            "image/png": "[encoded data removed]",
            "text/plain": [
              "<Figure size 1000x500 with 1 Axes>"
            ]
          },
          "metadata": {},
          "output_type": "display_data"
        }
      ],
      "source": [
        "# Pastikan 'dteday' dalam format datetime agar bisa dikelompokkan per bulan\n",
        "day_df['dteday'] = pd.to_datetime(day_df['dteday'])\n",
        "\n",
        "# Tambahkan kolom bulan\n",
        "day_df['month'] = day_df['dteday'].dt.month_name()\n",
        "\n",
        "# Agregasi total penyewaan per bulan\n",
        "monthly_rentals = day_df.groupby('month', observed=False)['cnt'].sum().reset_index()\n",
        "\n",
        "# Menentukan batas untuk binning\n",
        "bins = [0, 200000, 320000, 400000]  # Batas kategori jumlah penyewaan\n",
        "labels = ['Low Season', 'Regular Season', 'Peak Season']\n",
        "\n",
        "# Mengelompokkan bulan berdasarkan total penyewaan\n",
        "monthly_rentals['Cluster'] = pd.cut(monthly_rentals['cnt'], bins=bins, labels=labels)\n",
        "\n",
        "# Menampilkan hasil\n",
        "print(monthly_rentals)\n",
        "\n",
        "plt.figure(figsize=(10, 5))\n",
        "plt.bar(monthly_rentals['month'], monthly_rentals['cnt'], color='navy')  # Gunakan satu warna, misalnya 'blue'\n",
        "plt.xlabel(\"Bulan\")\n",
        "plt.ylabel(\"Total Penyewaan\")\n",
        "plt.title(\"Tren Penyewaan Sepeda Berdasarkan Kategori\")\n",
        "plt.xticks(rotation=45)\n",
        "plt.show()\n",
        "\n"
      ]
    },
    {
      "cell_type": "markdown",
      "metadata": {},
      "source": [
        "**Insight:**\n",
        "- Binning untuk Tren Bulanan\n",
        "  - Data penyewaan bulanan dibagi menjadi tiga kategori menggunakan pd.cut():\n",
        "  - Low Season: Penyewaan di bawah 200.000.\n",
        "  - Regular Season: Penyewaan antara 200.000–320.000.\n",
        "  - Peak Season: Penyewaan di atas 320.000."
      ]
    },
    {
      "cell_type": "markdown",
      "metadata": {
        "id": "_WeHlCeX8DC2"
      },
      "source": [
        "## Conclusion"
      ]
    },
    {
      "cell_type": "markdown",
      "metadata": {
        "id": "ZTcyR48Y8DC2"
      },
      "source": [
        "- Conclution pertanyaan 1\n",
        "\n",
        "Cuaca memiliki dampak yang signifikan terhadap jumlah penyewaan sepeda. Penyewaan sepeda lebih tinggi saat cuaca cerah atau mendung dibandingkan saat hujan, yang menunjukkan bahwa kondisi cuaca yang buruk mengurangi minat pengguna. Selain itu, meskipun akhir pekan cenderung meningkatkan jumlah penyewaan, pengaruh cuaca lebih dominan dibandingkan faktor hari kerja atau akhir pekan.\n",
        "- Conclution pertanyaan 2\n",
        "\n",
        "Penyewaan sepeda menunjukkan pola musiman yang jelas, dengan peningkatan signifikan pada musim panas (Mei–September) dan penurunan pada musim dingin (November–Januari). Hal ini mengindikasikan bahwa faktor musim dan suhu sangat berpengaruh terhadap tren penggunaan sepeda, dengan cuaca yang lebih hangat mendorong lebih banyak aktivitas bersepeda."
      ]
    },
    {
      "cell_type": "markdown",
      "metadata": {},
      "source": [
        "## Menyimpan 1 dataframe yang bersih"
      ]
    },
    {
      "cell_type": "code",
      "execution_count": 27,
      "metadata": {},
      "outputs": [],
      "source": [
        "day_df.to_csv('day.csv', index=False)"
      ]
    }
  ],
  "metadata": {
    "colab": {
      "provenance": []
    },
    "kernelspec": {
      "display_name": "Python 3",
      "language": "python",
      "name": "python3"
    },
    "language_info": {
      "codemirror_mode": {
        "name": "ipython",
        "version": 3
      },
      "file_extension": ".py",
      "mimetype": "text/x-python",
      "name": "python",
      "nbconvert_exporter": "python",
      "pygments_lexer": "ipython3",
      "version": "3.13.2"
    },
    "orig_nbformat": 4
  },
  "nbformat": 4,
  "nbformat_minor": 0
}
